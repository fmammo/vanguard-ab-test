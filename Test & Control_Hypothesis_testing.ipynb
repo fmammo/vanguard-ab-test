{
 "cells": [
  {
   "cell_type": "markdown",
   "id": "9725eb1d-91c9-4192-8640-f03759e1bfd7",
   "metadata": {},
   "source": [
    "#### Hyphotesis Test_1"
   ]
  },
  {
   "cell_type": "markdown",
   "id": "6522717b-3c1d-460e-a3d8-29f5fe289258",
   "metadata": {},
   "source": [
    "##### Set the hypothesis\n",
    "\n",
    "* H0: Test group completion rate (CR) = Control group completion rate (CR)\n",
    "* H1: Test group completion rate (CR) != Control group completion rate (CR)\n",
    "\n",
    "* significance level = 0.05"
   ]
  },
  {
   "cell_type": "code",
   "execution_count": 83,
   "id": "f86709c4-ef25-4d41-be8d-af6ac7663cb6",
   "metadata": {},
   "outputs": [],
   "source": [
    "# import necessary library\n",
    "from scipy import stats"
   ]
  },
  {
   "cell_type": "markdown",
   "id": "68f01af2-e6da-4230-aed2-e7b565b7c83d",
   "metadata": {},
   "source": [
    "### z-test (for comparing proportions) "
   ]
  },
  {
   "cell_type": "code",
   "execution_count": 84,
   "id": "5213718c-cc74-433c-8b4a-71871d19a466",
   "metadata": {},
   "outputs": [
    {
     "name": "stdout",
     "output_type": "stream",
     "text": [
      "Z-statistic: 16.5740796708499\n",
      "p-value: 0.0\n"
     ]
    }
   ],
   "source": [
    "# Completion rates and sample sizes for test and control groups\n",
    "completion_rate_test = 0.14\n",
    "completion_rate_control = 0.12\n",
    "n_test = 176641\n",
    "n_control = 140482\n",
    "\n",
    "# Calculate sample proportions\n",
    "p1 = completion_rate_test\n",
    "p2 = completion_rate_control\n",
    "\n",
    "# Calculate pooled proportion\n",
    "p = (p1 * n_test + p2 * n_control) / (n_test + n_control)\n",
    "\n",
    "# Compute standard error\n",
    "SE = np.sqrt(p * (1 - p) * (1 / n_test + 1 / n_control))\n",
    "\n",
    "# Compute z-statistic\n",
    "Z = (p1 - p2) / SE\n",
    "\n",
    "# Calculate p-value\n",
    "p_value = 2 * (1 - stats.norm.cdf(np.abs(Z)))  # Two-tailed test\n",
    "\n",
    "# Print results\n",
    "print(\"Z-statistic:\", Z)\n",
    "print(\"p-value:\", p_value)\n"
   ]
  },
  {
   "cell_type": "markdown",
   "id": "c496864d-fe6a-40d2-8ea8-6f36d4e44a32",
   "metadata": {},
   "source": [
    "##### Decision"
   ]
  },
  {
   "cell_type": "markdown",
   "id": "622f1643-0bac-43fd-9468-01c65192a294",
   "metadata": {},
   "source": [
    "Since p-value (Z-statistic: 16.5740796708499, p-value: 0.0) is less than the choosen significance level, we reject the null hypothesis. And , conclude that:  Test group completion rate (CR) is not equal to Control group completion rate (CR)."
   ]
  },
  {
   "cell_type": "markdown",
   "id": "eb00c63a-e080-42fe-b764-666ae71b81e6",
   "metadata": {},
   "source": [
    "#### Hyphotesis Test_2"
   ]
  },
  {
   "cell_type": "markdown",
   "id": "9a187a00-0219-495f-b67a-c98b4811168f",
   "metadata": {},
   "source": [
    "##### Set the hypothesis\n",
    "\n",
    "* H0: All clients in test group average/mean total process time = All clients in control group average/mean total process time\n",
    "* H1: All clients in test group average/mean total process time != All clients in control group average/mean total process time\n",
    "\n",
    "* significance level = 0.05"
   ]
  },
  {
   "cell_type": "code",
   "execution_count": 126,
   "id": "02a6ebeb-eefa-4e46-89bd-031709e9f82b",
   "metadata": {},
   "outputs": [],
   "source": [
    "# Load the data samples\n",
    "#sample1 = pd.read_csv(\"time_differ1_test.csv\")\n",
    "#sample2 = pd.read_csv(\"time_differ1_control.csv\")\n",
    "# Change the datatype to timedelta to both group\n",
    "#sample1['time_diffrence'] = pd.to_timedelta(sample1['time_diffrence'])\n",
    "#sample2['time_diffrence'] = pd.to_timedelta(sample2['time_diffrence'])"
   ]
  },
  {
   "cell_type": "code",
   "execution_count": 134,
   "id": "ad591fc5-4038-43b2-a8ce-d7b2e9df99e8",
   "metadata": {},
   "outputs": [],
   "source": [
    "# Cahnge timedelta to integer dataype to test group (We use the .dt.total_seconds() method to convert the timedeltas to total seconds.\n",
    "# Then, we use .astype(int) to convert the total seconds to integers.)\n",
    "#sample1['time_diffrence'] = sample1['time_diffrence'].dt.total_seconds().astype(int)"
   ]
  },
  {
   "cell_type": "code",
   "execution_count": 136,
   "id": "98a72025-3c98-4dea-aac9-858947b95bc2",
   "metadata": {},
   "outputs": [],
   "source": [
    "# Cahnge timedelta to integer dataype to control group\n",
    "#sample2['time_diffrence'] = sample2['time_diffrence'].dt.total_seconds().astype(int)"
   ]
  },
  {
   "cell_type": "markdown",
   "id": "05a3db4a-9cad-4744-a3a4-f94aeedaf8b0",
   "metadata": {},
   "source": [
    "### Two sample T-test"
   ]
  },
  {
   "cell_type": "code",
   "execution_count": 138,
   "id": "11080464-d3c0-48a4-8d63-0e88374b5a72",
   "metadata": {},
   "outputs": [
    {
     "name": "stdout",
     "output_type": "stream",
     "text": [
      "t-statistic: [-3.51175486]\n",
      "p-value: [0.00044523]\n"
     ]
    }
   ],
   "source": [
    "t_statistic, p_value = stats.ttest_ind(sample1, sample2, equal_var=True)\n",
    "\n",
    "# Print the t-statistic and p-value\n",
    "print(\"t-statistic:\", t_statistic)\n",
    "print(\"p-value:\", p_value)"
   ]
  },
  {
   "cell_type": "markdown",
   "id": "491f4359-2596-4699-94ab-ac286801d558",
   "metadata": {},
   "source": [
    "##### Decision"
   ]
  },
  {
   "cell_type": "markdown",
   "id": "a14862a5-2cc3-4d4c-b2d5-7ca9e69457c6",
   "metadata": {},
   "source": [
    "Since p-value (t-statistic: [-3.51175486] & p-value: [0.00044523]) is less than the choosen significance level (Alpha : 0.05), we reject the null hypothesis. And , conclude that:  All clients in test group average/mean total process time is not equal to All clients in control group average/mean total process time."
   ]
  },
  {
   "cell_type": "markdown",
   "id": "3242456d-fce3-49f7-bf40-552433099f54",
   "metadata": {},
   "source": [
    "#### Hyphotesis Test_3"
   ]
  },
  {
   "cell_type": "markdown",
   "id": "c667996a-c205-49fc-aa2c-26f8f829540e",
   "metadata": {},
   "source": [
    "##### Set the hypothesis\n",
    "\n",
    "* H0: All clients in test group average/mean total process time = All clients in control group average/mean total process time\n",
    "* H1: All clients in test group average/mean total process time != All clients in control group average/mean total process time\n",
    "\n",
    "* significance level = 0.05"
   ]
  },
  {
   "cell_type": "code",
   "execution_count": null,
   "id": "b798fa49-fd94-4855-8287-840f0aea020a",
   "metadata": {},
   "outputs": [],
   "source": []
  }
 ],
 "metadata": {
  "kernelspec": {
   "display_name": "Python 3 (ipykernel)",
   "language": "python",
   "name": "python3"
  },
  "language_info": {
   "codemirror_mode": {
    "name": "ipython",
    "version": 3
   },
   "file_extension": ".py",
   "mimetype": "text/x-python",
   "name": "python",
   "nbconvert_exporter": "python",
   "pygments_lexer": "ipython3",
   "version": "3.11.7"
  }
 },
 "nbformat": 4,
 "nbformat_minor": 5
}
