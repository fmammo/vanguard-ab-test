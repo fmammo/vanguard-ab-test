{
 "cells": [
  {
   "cell_type": "markdown",
   "id": "9725eb1d-91c9-4192-8640-f03759e1bfd7",
   "metadata": {},
   "source": [
    "#### Hyphotesis Test_1"
   ]
  },
  {
   "cell_type": "markdown",
   "id": "6522717b-3c1d-460e-a3d8-29f5fe289258",
   "metadata": {},
   "source": [
    "##### Set the hypothesis\n",
    "\n",
    "* H0: Test group completion rate (CR) = Control group completion rate (CR)\n",
    "* H1: Test group completion rate (CR) != Control group completion rate (CR)\n",
    "\n",
    "* significance level = 0.05"
   ]
  },
  {
   "cell_type": "code",
   "execution_count": 83,
   "id": "f86709c4-ef25-4d41-be8d-af6ac7663cb6",
   "metadata": {},
   "outputs": [],
   "source": [
    "# import necessary library\n",
    "from scipy import stats"
   ]
  },
  {
   "cell_type": "markdown",
   "id": "68f01af2-e6da-4230-aed2-e7b565b7c83d",
   "metadata": {},
   "source": [
    "### z-test (for comparing proportions) "
   ]
  },
  {
   "cell_type": "code",
   "execution_count": 84,
   "id": "5213718c-cc74-433c-8b4a-71871d19a466",
   "metadata": {},
   "outputs": [
    {
     "name": "stdout",
     "output_type": "stream",
     "text": [
      "Z-statistic: 16.5740796708499\n",
      "p-value: 0.0\n"
     ]
    }
   ],
   "source": [
    "# Completion rates and sample sizes for test and control groups\n",
    "completion_rate_test = 0.14\n",
    "completion_rate_control = 0.12\n",
    "n_test = 176641\n",
    "n_control = 140482\n",
    "\n",
    "# Calculate sample proportions\n",
    "p1 = completion_rate_test\n",
    "p2 = completion_rate_control\n",
    "\n",
    "# Calculate pooled proportion\n",
    "p = (p1 * n_test + p2 * n_control) / (n_test + n_control)\n",
    "\n",
    "# Compute standard error\n",
    "SE = np.sqrt(p * (1 - p) * (1 / n_test + 1 / n_control))\n",
    "\n",
    "# Compute z-statistic\n",
    "Z = (p1 - p2) / SE\n",
    "\n",
    "# Calculate p-value\n",
    "p_value = 2 * (1 - stats.norm.cdf(np.abs(Z)))  # Two-tailed test\n",
    "\n",
    "# Print results\n",
    "print(\"Z-statistic:\", Z)\n",
    "print(\"p-value:\", p_value)\n"
   ]
  },
  {
   "cell_type": "markdown",
   "id": "c496864d-fe6a-40d2-8ea8-6f36d4e44a32",
   "metadata": {},
   "source": [
    "##### Decision"
   ]
  },
  {
   "cell_type": "markdown",
   "id": "622f1643-0bac-43fd-9468-01c65192a294",
   "metadata": {},
   "source": [
    "Since p-value (p-value: 0.0) is less than the choosen significance level, we reject the null hypothesis. And , conclude that:  Test group completion rate (CR) is not equal to Control group completion rate (CR)."
   ]
  },
  {
   "cell_type": "markdown",
   "id": "eb00c63a-e080-42fe-b764-666ae71b81e6",
   "metadata": {},
   "source": [
    "#### Hyphotesis Test_2"
   ]
  },
  {
   "cell_type": "markdown",
   "id": "9a187a00-0219-495f-b67a-c98b4811168f",
   "metadata": {},
   "source": [
    "##### Set the hypothesis\n",
    "\n",
    "* H0: All clients in test group average/mean total process time > All clients in control group average/mean total process time\n",
    "* H1: All clients in test group average/mean total process time < All clients in control group average/mean total process time\n",
    "\n",
    "* significance level = 0.05"
   ]
  },
  {
   "cell_type": "code",
   "execution_count": 126,
   "id": "02a6ebeb-eefa-4e46-89bd-031709e9f82b",
   "metadata": {},
   "outputs": [],
   "source": [
    "# Load the data samples\n",
    "sample1 = pd.read_csv(\"time_differ1_test.csv\")\n",
    "sample2 = pd.read_csv(\"time_differ1_control.csv\")\n",
    "# Change the datatype to timedelta to both group\n",
    "sample1['time_diffrence'] = pd.to_timedelta(sample1['time_diffrence'])\n",
    "sample2['time_diffrence'] = pd.to_timedelta(sample2['time_diffrence'])"
   ]
  },
  {
   "cell_type": "code",
   "execution_count": 134,
   "id": "ad591fc5-4038-43b2-a8ce-d7b2e9df99e8",
   "metadata": {},
   "outputs": [],
   "source": [
    "# Cahnge timedelta to integer dataype to test group (We use the .dt.total_seconds() method to convert the timedeltas to total seconds.\n",
    "# Then, we use .astype(int) to convert the total seconds to integers.)\n",
    "sample1['time_diffrence'] = sample1['time_diffrence'].dt.total_seconds().astype(int)"
   ]
  },
  {
   "cell_type": "code",
   "execution_count": 136,
   "id": "98a72025-3c98-4dea-aac9-858947b95bc2",
   "metadata": {},
   "outputs": [],
   "source": [
    "# Cahnge timedelta to integer dataype to control group\n",
    "sample2['time_diffrence'] = sample2['time_diffrence'].dt.total_seconds().astype(int)"
   ]
  },
  {
   "cell_type": "markdown",
   "id": "05a3db4a-9cad-4744-a3a4-f94aeedaf8b0",
   "metadata": {},
   "source": [
    "### Two sample T-test"
   ]
  },
  {
   "cell_type": "code",
   "execution_count": 139,
   "id": "11080464-d3c0-48a4-8d63-0e88374b5a72",
   "metadata": {},
   "outputs": [
    {
     "name": "stdout",
     "output_type": "stream",
     "text": [
      "t-statistic: [-3.50045587]\n",
      "p-value: [0.00046454]\n"
     ]
    }
   ],
   "source": [
    "t_statistic, p_value = stats.ttest_ind(sample1, sample2, equal_var=False)\n",
    "\n",
    "# Print the t-statistic and p-value\n",
    "print(\"t-statistic:\", t_statistic)\n",
    "print(\"p-value:\", p_value)"
   ]
  },
  {
   "cell_type": "markdown",
   "id": "491f4359-2596-4699-94ab-ac286801d558",
   "metadata": {},
   "source": [
    "##### Decision"
   ]
  },
  {
   "cell_type": "markdown",
   "id": "8800742e-46e5-4aff-a653-deaa7d2a4925",
   "metadata": {},
   "source": [
    "* Total time spent: (control group) : '1363 days 14:54:24'\n",
    "* Total time spent: (test Group) : '1624 days 05:10:41'\n",
    "* Average time spent: (control Group) : '0 days 00:16:47.360580047'\n",
    "* Average time spent: (test_Group): '0 days 00:15:37.548376536'"
   ]
  },
  {
   "cell_type": "markdown",
   "id": "a14862a5-2cc3-4d4c-b2d5-7ca9e69457c6",
   "metadata": {},
   "source": [
    "Since p-value (p-value: [0.00046454] is less than the choosen significance level (Alpha : 0.05), we reject the null hypothesis. And , conclude that:  All clients in test group average/mean total process time is shorter or less than to All clients in control group average/mean total process time."
   ]
  },
  {
   "cell_type": "markdown",
   "id": "3242456d-fce3-49f7-bf40-552433099f54",
   "metadata": {},
   "source": [
    "#### Hyphotesis Test_3\n",
    "* significance level = 0.05\n",
    "##### Hyphotesis Test_3.1 (Control group)"
   ]
  },
  {
   "cell_type": "markdown",
   "id": "c667996a-c205-49fc-aa2c-26f8f829540e",
   "metadata": {},
   "source": [
    "##### Set the hypothesis\n",
    "\n",
    "* H0: For the clients in the control group , is the mean time spent in each step = among all the steps.\n",
    "* H1: For the clients in the control group , is the mean time spent in each step != among all the steps."
   ]
  },
  {
   "cell_type": "code",
   "execution_count": 170,
   "id": "107a6e5b-930c-413b-96ec-ff12e5d5d919",
   "metadata": {},
   "outputs": [
    {
     "name": "stdout",
     "output_type": "stream",
     "text": [
      "<class 'pandas.core.frame.DataFrame'>\n",
      "RangeIndex: 92093 entries, 0 to 92092\n",
      "Data columns (total 1 columns):\n",
      " #   Column                      Non-Null Count  Dtype  \n",
      "---  ------                      --------------  -----  \n",
      " 0   mean_time_each_step_in_sec  92093 non-null  float64\n",
      "dtypes: float64(1)\n",
      "memory usage: 719.6 KB\n"
     ]
    }
   ],
   "source": [
    "# load the dataset for control group\n",
    "control_group = pd.read_csv(\"control_avg_time_spent_per_step.csv\")\n",
    "control_group.info()"
   ]
  },
  {
   "cell_type": "code",
   "execution_count": 171,
   "id": "df4c723a-5855-48a6-a921-61ffb5d99f24",
   "metadata": {},
   "outputs": [
    {
     "data": {
      "text/plain": [
       "6.0"
      ]
     },
     "execution_count": 171,
     "metadata": {},
     "output_type": "execute_result"
    }
   ],
   "source": [
    "C_mean_if_same_across_the_step = 92093 * 6\n",
    "meanOf_C_mean_if_same_across_the_step = C_mean_if_same_across_the_step/92093\n",
    "meanOf_C_mean_if_same_across_the_step"
   ]
  },
  {
   "cell_type": "markdown",
   "id": "88e808fa-204d-49ee-99b0-81da98c9df63",
   "metadata": {},
   "source": [
    "#### Python way"
   ]
  },
  {
   "cell_type": "code",
   "execution_count": 172,
   "id": "51340185-9c2e-4687-b876-480eb7536b08",
   "metadata": {},
   "outputs": [
    {
     "data": {
      "text/plain": [
       "TtestResult(statistic=array([25.31751889]), pvalue=array([6.23962297e-141]), df=array([92092]))"
      ]
     },
     "execution_count": 172,
     "metadata": {},
     "output_type": "execute_result"
    }
   ],
   "source": [
    "st.ttest_1samp(control_group, 6.0)"
   ]
  },
  {
   "cell_type": "markdown",
   "id": "9ad31ba2-d3cf-43d1-a287-f375410cff7a",
   "metadata": {},
   "source": [
    "We found extremly small p-value so, we reject the null-hypothesis."
   ]
  },
  {
   "cell_type": "markdown",
   "id": "32346355-79fd-48e8-99a2-ec5c525a0c42",
   "metadata": {},
   "source": [
    "##### Hyphotesis Test_3.2 (Test group)"
   ]
  },
  {
   "cell_type": "markdown",
   "id": "bfdb05ef-2077-407a-aa6e-f475e380e818",
   "metadata": {},
   "source": [
    "##### Set the hypothesis\n",
    "\n",
    "* H0: For the clients in the test group , is the mean time spent in each step = among all the steps.\n",
    "* H1: For the clients in the test group , is the mean time spent in each step != among all the steps."
   ]
  },
  {
   "cell_type": "code",
   "execution_count": 168,
   "id": "1dce2be3-28c8-468f-828b-bbbc58f7f60d",
   "metadata": {},
   "outputs": [
    {
     "name": "stdout",
     "output_type": "stream",
     "text": [
      "<class 'pandas.core.frame.DataFrame'>\n",
      "RangeIndex: 110607 entries, 0 to 110606\n",
      "Data columns (total 1 columns):\n",
      " #   Column                      Non-Null Count   Dtype  \n",
      "---  ------                      --------------   -----  \n",
      " 0   mean_time_each_step_in_sec  110607 non-null  float64\n",
      "dtypes: float64(1)\n",
      "memory usage: 864.2 KB\n"
     ]
    }
   ],
   "source": [
    "# Load the dataset for test  group\n",
    "test_group = pd.read_csv(\"test_avg_time_spent_per_step.csv\")\n",
    "test_group.info()"
   ]
  },
  {
   "cell_type": "code",
   "execution_count": 173,
   "id": "85398297-0bfb-402b-bd04-8622f9c3fa0e",
   "metadata": {},
   "outputs": [
    {
     "data": {
      "text/plain": [
       "30.0"
      ]
     },
     "execution_count": 173,
     "metadata": {},
     "output_type": "execute_result"
    }
   ],
   "source": [
    "T_mean_if_same_across_the_step = 110607 * 30\n",
    "meanOf_T_mean_if_same_across_the_step = T_mean_if_same_across_the_step/110607\n",
    "meanOf_T_mean_if_same_across_the_step"
   ]
  },
  {
   "cell_type": "markdown",
   "id": "a97cba73-328d-4eed-9ad8-e0174075482d",
   "metadata": {},
   "source": [
    "### Python way"
   ]
  },
  {
   "cell_type": "code",
   "execution_count": 174,
   "id": "e2c818c8-d2e8-4c92-8b3e-24fa6e5e5bbf",
   "metadata": {},
   "outputs": [
    {
     "data": {
      "text/plain": [
       "TtestResult(statistic=array([25.25339417]), pvalue=array([3.13017497e-140]), df=array([92092]))"
      ]
     },
     "execution_count": 174,
     "metadata": {},
     "output_type": "execute_result"
    }
   ],
   "source": [
    "st.ttest_1samp(control_group, 30)"
   ]
  },
  {
   "cell_type": "markdown",
   "id": "14eed16e-5561-4bb7-8e1b-b4034feb661d",
   "metadata": {},
   "source": [
    "Here also we found extremly small p-value so, we reject the null-hypothesis."
   ]
  },
  {
   "cell_type": "markdown",
   "id": "4770ea43-9e7f-4b1a-af83-294127a36ae8",
   "metadata": {},
   "source": [
    "#### Hyphotesis Test_4"
   ]
  },
  {
   "cell_type": "markdown",
   "id": "f0d205c1-c469-4cdf-80bd-5827beae1054",
   "metadata": {},
   "source": [
    "##### Set the hypothesis\n",
    "\n",
    "\n",
    "* H0: The mean time in each step in control group = mean time in each step in test group.\n",
    "* H1: The mean time in each step in control group != mean time in each step in test group.\n",
    "\n",
    "* significance level = 0.05"
   ]
  },
  {
   "cell_type": "markdown",
   "id": "a9329447-acb7-4547-be2d-166b329afc2b",
   "metadata": {},
   "source": [
    "### Two sample T-test"
   ]
  },
  {
   "cell_type": "code",
   "execution_count": 175,
   "id": "a4557b70-c1be-4ace-8fe7-1bea7495539e",
   "metadata": {},
   "outputs": [
    {
     "data": {
      "text/plain": [
       "TtestResult(statistic=array([-6.642999]), pvalue=array([3.0825866e-11]), df=array([174979.41839847]))"
      ]
     },
     "execution_count": 175,
     "metadata": {},
     "output_type": "execute_result"
    }
   ],
   "source": [
    "st.ttest_ind(test_group,control_group, equal_var=False)"
   ]
  },
  {
   "cell_type": "markdown",
   "id": "829ac57a-8db7-40e4-9575-685a9b42ee67",
   "metadata": {},
   "source": [
    "Finally, in this case also we found a very low p-value which is 0.000000000030825866, implies very low number than the alpha value so, we reject the null hypotheis."
   ]
  }
 ],
 "metadata": {
  "kernelspec": {
   "display_name": "Python 3 (ipykernel)",
   "language": "python",
   "name": "python3"
  },
  "language_info": {
   "codemirror_mode": {
    "name": "ipython",
    "version": 3
   },
   "file_extension": ".py",
   "mimetype": "text/x-python",
   "name": "python",
   "nbconvert_exporter": "python",
   "pygments_lexer": "ipython3",
   "version": "3.11.7"
  }
 },
 "nbformat": 4,
 "nbformat_minor": 5
}
