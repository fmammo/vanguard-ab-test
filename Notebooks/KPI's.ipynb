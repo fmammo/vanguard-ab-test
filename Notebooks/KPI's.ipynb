{
 "cells": [
  {
   "cell_type": "markdown",
   "id": "59c794aa-43b3-4ccd-bebc-a98d0165b33f",
   "metadata": {},
   "source": [
    "#### Load necessary libraries"
   ]
  },
  {
   "cell_type": "code",
   "execution_count": null,
   "id": "806f8d32-4826-47a0-a0db-6b8dd89436ee",
   "metadata": {},
   "outputs": [],
   "source": [
    "import pandas as pd\n",
    "import numpy as np\n",
    "from collections import defaultdict\n",
    "from datetime import datetime\n",
    "import time"
   ]
  },
  {
   "cell_type": "markdown",
   "id": "69d94dc7-e36b-49b6-abf5-c2d34d358296",
   "metadata": {},
   "source": [
    "Here we will do the four kpi's (Key performance indicator) for both control and test group and we will compare them so that we know how the new design performed."
   ]
  },
  {
   "cell_type": "markdown",
   "id": "c88bce4e-5035-4f0a-91be-c07bfa49c902",
   "metadata": {},
   "source": [
    "#### Let's do the four kpi's for the test_group :- \"Completion rate , Average time spent, Time spent on each step, Error rate\". "
   ]
  },
  {
   "cell_type": "code",
   "execution_count": null,
   "id": "2a8f2120-9cb6-4194-a4dc-363ea12eb4c7",
   "metadata": {},
   "outputs": [],
   "source": [
    "# load the data\n",
    "test_sorted = pd.read_csv(\"test_sorted.csv\")\n",
    "test_sorted.head(2)"
   ]
  },
  {
   "cell_type": "markdown",
   "id": "388c4695-3b92-4159-9b27-349e7a6948c9",
   "metadata": {},
   "source": [
    "#### Completion rate"
   ]
  },
  {
   "cell_type": "code",
   "execution_count": null,
   "id": "39e7cad1-d5fc-42f2-bea6-ee0c020f913b",
   "metadata": {},
   "outputs": [],
   "source": [
    "# Calculate for the total confirmed process step\n",
    "process_step_confirm = len(test_sorted[test_sorted['process_step'] == 'confirm'])\n",
    "process_step_confirm"
   ]
  },
  {
   "cell_type": "code",
   "execution_count": null,
   "id": "920f8e40-48e0-460a-90f8-b3501ed1d6d5",
   "metadata": {},
   "outputs": [],
   "source": [
    "# Calculate for the total start process step\n",
    "process_step_total = len(test_sorted['process_step'])\n",
    "process_step_total"
   ]
  },
  {
   "cell_type": "code",
   "execution_count": null,
   "id": "e7c60ef9-01a1-4604-91e3-6148c318a954",
   "metadata": {},
   "outputs": [],
   "source": [
    "# Calculate for the completion rate\n",
    "completion_rate = (process_step_confirm/process_step_total)\n",
    "completion_rate"
   ]
  },
  {
   "cell_type": "markdown",
   "id": "78de7da6-e4d1-43ae-9ec7-1a5c577c4e7d",
   "metadata": {},
   "source": [
    "#### Average time spent"
   ]
  },
  {
   "cell_type": "code",
   "execution_count": null,
   "id": "2fbf44a2-c63e-4f22-a8be-672c4806f09b",
   "metadata": {},
   "outputs": [],
   "source": [
    "# Open dictionary to store time differences for each client ID\n",
    "test_sorted2 = test_sorted[['client_id','time']]\n",
    "test_sorted2_list = test_sorted2.values.tolist()\n",
    "\n",
    "time_diffs = defaultdict(list)\n",
    "\n",
    "# Parse timestamps and group by client ID\n",
    "for client_id, time in test_sorted2_list:\n",
    "    time_diffs[client_id].append(datetime.strptime(time, '%H, %M, %S'))"
   ]
  },
  {
   "cell_type": "code",
   "execution_count": null,
   "id": "5171791e-0c24-4695-a782-fb0a19aeadba",
   "metadata": {},
   "outputs": [],
   "source": [
    "# Calculate time differences for each client ID\n",
    "time_diffrence1 = []\n",
    "time_diffrence2 = []\n",
    "for client_id, time in time_diffs.items():\n",
    "    time.sort()  # Ensure timestamps are sorted\n",
    "    for i in range(1, len(time)):\n",
    "        time_diff = time[i] - time[i - 1]\n",
    "        time_diffrence1.append(client_id)\n",
    "        time_diffrence2.append(time_diff)\n",
    "        #print(f\"Client ID: {client_id}, Time difference: {time_diff}\")"
   ]
  },
  {
   "cell_type": "code",
   "execution_count": null,
   "id": "493bc8d4-364a-4063-8362-3d12ca28d89d",
   "metadata": {},
   "outputs": [],
   "source": [
    "time_differ1 = pd.DataFrame(time_diffrence1)\n",
    "time_differ2 = pd.DataFrame(time_diffrence2)"
   ]
  },
  {
   "cell_type": "code",
   "execution_count": null,
   "id": "c5698094-c7b8-43eb-88d8-6c6c7118b472",
   "metadata": {},
   "outputs": [],
   "source": [
    "# Set the column names for both dataframes\n",
    "time_differ2.columns = ['time_diffrence']\n",
    "time_differ1.columns = ['client_id']"
   ]
  },
  {
   "cell_type": "code",
   "execution_count": null,
   "id": "9905e63b-475e-4db7-a782-880514eed3b3",
   "metadata": {},
   "outputs": [],
   "source": [
    "# Add them\n",
    "time_differ1 = pd.concat([time_differ1, time_differ2], axis = 1)"
   ]
  },
  {
   "cell_type": "code",
   "execution_count": null,
   "id": "c03deb2d-29f3-4f18-804a-9c30f573ceb6",
   "metadata": {},
   "outputs": [],
   "source": [
    "# total_time spent is equal/ same  with time deffrence\n",
    "time_differ1.head()"
   ]
  },
  {
   "cell_type": "code",
   "execution_count": null,
   "id": "137adc0e-ca37-4cc9-b577-3b0567904cb3",
   "metadata": {},
   "outputs": [],
   "source": [
    "# Save the dataframe\n",
    "time_differ1.to_csv('time_differ1_test.csv')"
   ]
  },
  {
   "cell_type": "code",
   "execution_count": null,
   "id": "2c88b9f2-f099-4ba9-90e4-2ce3c48764a4",
   "metadata": {},
   "outputs": [],
   "source": [
    "# total time spent \n",
    "total_time = time_differ1['time_diffrence'].sum()\n",
    "total_time"
   ]
  },
  {
   "cell_type": "code",
   "execution_count": null,
   "id": "31c4e3f5-47cc-4ae4-8e0a-b1f9a1fcfaa0",
   "metadata": {},
   "outputs": [],
   "source": [
    "# average time spent \n",
    "avg_time = time_differ1['time_diffrence'].mean()\n",
    "avg_time"
   ]
  },
  {
   "cell_type": "code",
   "execution_count": null,
   "id": "01f45ac7-f148-4b95-a1b4-c07ed6fad9a6",
   "metadata": {},
   "outputs": [],
   "source": [
    "# Let's merge time_diffre1 with test_merge based on client_id\n",
    "test_diffre = pd.merge(test_sorted, time_differ1, on = 'client_id')"
   ]
  },
  {
   "cell_type": "code",
   "execution_count": null,
   "id": "6a609240-ea6b-4362-b8d3-2ca590560ccf",
   "metadata": {},
   "outputs": [],
   "source": [
    "test_diffre.head(2)"
   ]
  },
  {
   "cell_type": "markdown",
   "id": "c3028b87-fa44-4fa3-a304-a402298e59d0",
   "metadata": {},
   "source": [
    "#### Time spent on each step"
   ]
  },
  {
   "cell_type": "code",
   "execution_count": null,
   "id": "cb3cabf8-95f7-48a9-be1a-2b8908989705",
   "metadata": {},
   "outputs": [],
   "source": [
    "# Convert timestamp column to datetime\n",
    "test_diffre['date_time'] = pd.to_datetime(test_diffre['date_time'])\n",
    "\n",
    "# Sort DataFrame by client ID and timestamp\n",
    "test_diffre = test_diffre.sort_values(by=['client_id', 'date_time'])\n",
    "\n",
    "# Calculate time spent on each step for each client\n",
    "test_diffre['date_time'] = test_diffre.groupby('client_id')['date_time'].diff().dt.total_seconds()\n",
    "\n",
    "# Aggregate time spent on each step for each client\n",
    "time_spent_per_step = test_diffre.groupby(['client_id', 'process_step'])['date_time'].sum().reset_index()\n",
    "avg_time_spent_per_step = test_diffre.groupby(['client_id', 'process_step'])['date_time'].mean().reset_index()\n",
    "\n",
    "print(avg_time_spent_per_step)"
   ]
  },
  {
   "cell_type": "markdown",
   "id": "484ac9db-2bf4-4559-8819-050b6459b16f",
   "metadata": {},
   "source": [
    "##### mean"
   ]
  },
  {
   "cell_type": "code",
   "execution_count": null,
   "id": "6c1ea837-4241-4d2d-b9ab-5d43f8d069f6",
   "metadata": {},
   "outputs": [],
   "source": [
    "avg_time_spent_per_step['date_time'].mean()"
   ]
  },
  {
   "cell_type": "markdown",
   "id": "539cb9c5-bcec-4147-8403-31407c13e41c",
   "metadata": {},
   "source": [
    "##### median"
   ]
  },
  {
   "cell_type": "code",
   "execution_count": null,
   "id": "81d61d2a-00f7-4104-91c2-7ba2468ee45a",
   "metadata": {},
   "outputs": [],
   "source": [
    "avg_time_spent_per_step['date_time'].median()"
   ]
  },
  {
   "cell_type": "markdown",
   "id": "41b43b4e-4071-4e4f-9ac1-36530af1c5a7",
   "metadata": {},
   "source": [
    "##### mode"
   ]
  },
  {
   "cell_type": "code",
   "execution_count": null,
   "id": "e74b4b97-844a-4d0b-81f5-24dcd588f2c5",
   "metadata": {},
   "outputs": [],
   "source": [
    "avg_time_spent_per_step['date_time'].mode()"
   ]
  },
  {
   "cell_type": "markdown",
   "id": "51eeb91a-a475-4c1b-bcd3-0afd6fe5aa79",
   "metadata": {},
   "source": [
    "##### save the dataframe"
   ]
  },
  {
   "cell_type": "code",
   "execution_count": null,
   "id": "93235346-1b37-4193-acf2-ec1e3385f6e2",
   "metadata": {},
   "outputs": [],
   "source": [
    "avg_time_spent_per_step.to_csv('test_avg_time_spent_per_step.csv')"
   ]
  },
  {
   "cell_type": "markdown",
   "id": "28304e1b-82bc-4dac-8476-fca865bbf450",
   "metadata": {},
   "source": [
    "####  Error rate"
   ]
  },
  {
   "cell_type": "code",
   "execution_count": null,
   "id": "b0772cd5-5bc5-4e69-b8c4-07783a4c3b3d",
   "metadata": {},
   "outputs": [],
   "source": [
    "# display the unique client_id's\n",
    "# Get unique client_ids\n",
    "unique_client_ids = test_sorted['client_id'].unique()\n",
    "# Iterate over each unique client_id\n",
    "for client_id in unique_client_ids:\n",
    "    # Extract rows based on the current client_id\n",
    "    client_rows = test_sorted[test_sorted['client_id'] == client_id]"
   ]
  },
  {
   "cell_type": "code",
   "execution_count": null,
   "id": "35cca61e-1cee-4203-a261-6f00050e1db0",
   "metadata": {},
   "outputs": [],
   "source": [
    "# To get the number of attempts a client took and number of confirmed events\n",
    "def att_conf(unique_client_ids):\n",
    "    for client_id in unique_client_ids:\n",
    "       attempt = test_sorted[test_sorted['client_id'] == client_id] # Extract the rows for each client_Id\n",
    "       len_attempt = len(test_sorted[test_sorted['client_id'] == client_id]) # Sum of how many times apper each client_id in the dataframe\n",
    "       num_attempt = len_attempt/5 # How many events(True or False) are there in each 5 steps (how many full process were there?)\n",
    "       num_confirm = len(attempt [attempt['process_step'] == 'confirm']) # How many confirm events are there in a specific client_id\n",
    "       print(client_id, ',' , num_attempt,',', num_confirm)"
   ]
  },
  {
   "cell_type": "code",
   "execution_count": null,
   "id": "d7eaab53-3885-493a-a240-53ab1c8b4a60",
   "metadata": {},
   "outputs": [],
   "source": [
    "# display the unique client_id with the attempts they taken and confirmation  \n",
    "att_conf(unique_client_ids)"
   ]
  },
  {
   "cell_type": "code",
   "execution_count": null,
   "id": "02ae0219-2c9d-4744-a4cc-c63fbf569a4c",
   "metadata": {},
   "outputs": [],
   "source": [
    "# Let's import our unique client_id with their attempt and confirm event \n",
    "test_unique_id = pd.read_csv('test_unique_client_id.csv')\n",
    "test_unique_id.head(2)"
   ]
  },
  {
   "cell_type": "code",
   "execution_count": null,
   "id": "8e7f203c-3f57-4177-82aa-c3604dad3392",
   "metadata": {},
   "outputs": [],
   "source": [
    "# Check how many unique client_id we have in test\n",
    "test_unique_id.shape"
   ]
  },
  {
   "cell_type": "code",
   "execution_count": null,
   "id": "fbccc2e6-46b5-41ab-b01e-90b87bc6586a",
   "metadata": {},
   "outputs": [],
   "source": [
    "# Findout the confirmed process and the failed one\n",
    "test_unique_id['is_confirmation'].value_counts()"
   ]
  },
  {
   "cell_type": "code",
   "execution_count": null,
   "id": "a3f37620-d294-4f72-bbc5-c31907f297e7",
   "metadata": {
    "scrolled": true
   },
   "outputs": [],
   "source": [
    "# Here we will extract client_id with the date_time in 5 steps of interval.\n",
    "df_error = test_sorted[['client_id','date_time']]\n",
    "extracted_rows = df_error.iloc[::5]\n",
    "extracted_rows.head()"
   ]
  },
  {
   "cell_type": "code",
   "execution_count": null,
   "id": "dad9504e-94ef-44a3-b20d-8408817a1428",
   "metadata": {},
   "outputs": [],
   "source": [
    "# Let's merge the dataset\n",
    "df_err_rate = pd.merge(extracted_rows, test_unique_id, on = \"client_id\")\n",
    "df_err_rate.head(2)"
   ]
  },
  {
   "cell_type": "code",
   "execution_count": null,
   "id": "41cd4cbd-e7d9-4d14-be45-753dff86cb51",
   "metadata": {},
   "outputs": [],
   "source": [
    "# check hte shape of the dataset\n",
    "df_err_rate.shape"
   ]
  },
  {
   "cell_type": "code",
   "execution_count": null,
   "id": "4edc61b1-af6a-4ed8-b565-60c74310b3c3",
   "metadata": {},
   "outputs": [],
   "source": [
    "# display the how many are each unique values\n",
    "df_err_rate['is_confirmation'].value_counts()"
   ]
  },
  {
   "cell_type": "markdown",
   "id": "6d00d53d-b4ee-411c-80d5-44eb613d71f4",
   "metadata": {},
   "source": [
    "First let us try to find out the error and confirmation rate based on the merged data. After that we try with dataset having unique client_id."
   ]
  },
  {
   "cell_type": "code",
   "execution_count": null,
   "id": "2d46456b-bcf6-4ac1-87e0-188c651f8afc",
   "metadata": {},
   "outputs": [],
   "source": [
    "# With the merged dataset\n",
    "total_submissions = 35332\n",
    "confirmed_submissions = 27067\n",
    "error_submissions = 8265\n",
    "error_rate = round((error_submissions / total_submissions) * 100)\n",
    "confirmation_rate = round((confirmed_submissions / total_submissions) * 100)\n",
    "print(error_rate, \"||\", confirmation_rate )"
   ]
  },
  {
   "cell_type": "code",
   "execution_count": null,
   "id": "c50839f4-d928-4138-acf0-789c08b93b49",
   "metadata": {},
   "outputs": [],
   "source": [
    "# With only unique client_id dataframe\n",
    "total_submissions = 26963\n",
    "confirmed_submissions = 18683\n",
    "error_submissions = 8280\n",
    "error_rate = round((error_submissions / total_submissions) * 100)\n",
    "confirmation_rate = round((confirmed_submissions / total_submissions) * 100)\n",
    "print(error_rate, \"||\", confirmation_rate )"
   ]
  },
  {
   "cell_type": "markdown",
   "id": "ab86b9f2-c9b9-4084-984c-5e9e422ce987",
   "metadata": {},
   "source": [
    "#### Now let's move in to the control_group :- \"Completion rate , Average time spent, Time spent on each step, Error rate\". "
   ]
  },
  {
   "cell_type": "code",
   "execution_count": null,
   "id": "bfe3c328-1ac4-4b16-848b-b4b85df087a0",
   "metadata": {},
   "outputs": [],
   "source": [
    "# Load the dataset\n",
    "control_sorted = pd.read_csv(\"control_sorted.csv\")"
   ]
  },
  {
   "cell_type": "markdown",
   "id": "75ef30ab-4517-4c25-8090-cf84e012e923",
   "metadata": {},
   "source": [
    "#### Completion rate"
   ]
  },
  {
   "cell_type": "code",
   "execution_count": null,
   "id": "012cb669-dc7f-4b35-98a7-148a999ae8c3",
   "metadata": {},
   "outputs": [],
   "source": [
    "# Calculate for the total confirmed process step\n",
    "process_step_confirm = len(control_sorted[control_sorted['process_step'] == 'confirm'])\n",
    "process_step_confirm"
   ]
  },
  {
   "cell_type": "code",
   "execution_count": null,
   "id": "39901752-2d77-4ce5-a0c6-fe1e67851f30",
   "metadata": {},
   "outputs": [],
   "source": [
    "# Calculate for the total process step\n",
    "process_step_total = len(control_sorted['process_step'])\n",
    "process_step_total"
   ]
  },
  {
   "cell_type": "code",
   "execution_count": null,
   "id": "7ba11462-83c7-43a0-8b87-9c8d4c602675",
   "metadata": {},
   "outputs": [],
   "source": [
    "# Calculate for the completion rate\n",
    "completion_rate = (process_step_confirm/process_step_total)\n",
    "completion_rate"
   ]
  },
  {
   "cell_type": "markdown",
   "id": "a1855675-12fd-42c5-8faa-be7578244f12",
   "metadata": {},
   "source": [
    "#### Average time spent"
   ]
  },
  {
   "cell_type": "code",
   "execution_count": null,
   "id": "dea0c527-9f05-4946-9817-924e795d674c",
   "metadata": {},
   "outputs": [],
   "source": [
    "# Open dictionary to store time differences for each client ID\n",
    "control_sorted2 = control_sorted[['client_id','time']]\n",
    "control_sorted2_list = control_sorted2.values.tolist()\n",
    "\n",
    "time_diffs = defaultdict(list)\n",
    "\n",
    "# Parse timestamps and group by client ID\n",
    "for client_id, time in control_sorted2_list:\n",
    "    time_diffs[client_id].append(datetime.strptime(time, '%H, %M, %S'))"
   ]
  },
  {
   "cell_type": "code",
   "execution_count": null,
   "id": "f02abf88-0573-458d-9594-e546ab297bc1",
   "metadata": {},
   "outputs": [],
   "source": [
    "# Calculate time differences for each client ID\n",
    "time_diffrence1 = []\n",
    "time_diffrence2 = []\n",
    "for client_id, time in time_diffs.items():\n",
    "    time.sort()  # Ensure timestamps are sorted\n",
    "    for i in range(1, len(time)):\n",
    "        time_diff = time[i] - time[i - 1]\n",
    "        time_diffrence1.append(client_id)\n",
    "        time_diffrence2.append(time_diff)\n",
    "        #print(f\"Client ID: {client_id}, Time difference: {time_diff}\")"
   ]
  },
  {
   "cell_type": "code",
   "execution_count": null,
   "id": "e44bac21-c0ec-422e-8840-83c9875388a1",
   "metadata": {},
   "outputs": [],
   "source": [
    "time_differ1 = pd.DataFrame(time_diffrence1)\n",
    "time_differ2 = pd.DataFrame(time_diffrence2)"
   ]
  },
  {
   "cell_type": "code",
   "execution_count": null,
   "id": "87bc3136-bf72-4496-ad02-ba2a05db6e9e",
   "metadata": {},
   "outputs": [],
   "source": [
    "# Set the column names for both dataframes\n",
    "time_differ2.columns = ['time_diffrence']\n",
    "time_differ1.columns = ['client_id']"
   ]
  },
  {
   "cell_type": "code",
   "execution_count": null,
   "id": "3de7e732-5231-4d6a-9da4-f7296d889e43",
   "metadata": {},
   "outputs": [],
   "source": [
    "# add the two time differences \n",
    "time_differ1 = pd.concat([time_differ1, time_differ2], axis = 1)"
   ]
  },
  {
   "cell_type": "code",
   "execution_count": null,
   "id": "0d0f4150-9988-457c-94ef-1d4e94671321",
   "metadata": {},
   "outputs": [],
   "source": [
    "# total_time spent is equal/same with time deffrence\n",
    "time_differ1.head()"
   ]
  },
  {
   "cell_type": "code",
   "execution_count": null,
   "id": "7b873af3-6e4a-4ada-af9e-27576fa8d5ed",
   "metadata": {},
   "outputs": [],
   "source": [
    "# save the dataframe\n",
    "time_differ1.to_csv('time_differ1_control.csv')"
   ]
  },
  {
   "cell_type": "code",
   "execution_count": null,
   "id": "860d2d03-8e12-4341-b6a4-63d9f638cf2d",
   "metadata": {},
   "outputs": [],
   "source": [
    "# total time spent \n",
    "total_time = time_differ1['time_diffrence'].sum()\n",
    "total_time"
   ]
  },
  {
   "cell_type": "code",
   "execution_count": null,
   "id": "d32bf377-30b3-4259-b962-b44da5c423c4",
   "metadata": {},
   "outputs": [],
   "source": [
    "# average time spent \n",
    "avg_time = time_differ1['time_diffrence'].mean()\n",
    "avg_time"
   ]
  },
  {
   "cell_type": "code",
   "execution_count": null,
   "id": "23418eed-0350-43be-a400-ca8fc9e44d91",
   "metadata": {},
   "outputs": [],
   "source": [
    "# Let's merge time_diffre1 with control_merge based on client_id\n",
    "control_diffre = pd.merge(control_sorted, time_differ1, on = 'client_id')"
   ]
  },
  {
   "cell_type": "code",
   "execution_count": null,
   "id": "d771fd7a-2721-471b-bf10-e7f3b612ed19",
   "metadata": {},
   "outputs": [],
   "source": [
    "# display the first two rows of the dataframe\n",
    "control_diffre.head(2)"
   ]
  },
  {
   "cell_type": "markdown",
   "id": "3dc2557e-bfbb-4dd8-845a-d31f87b76d8b",
   "metadata": {},
   "source": [
    "#### Time spent on each step"
   ]
  },
  {
   "cell_type": "code",
   "execution_count": null,
   "id": "15009d0f-611d-4bb5-ac88-054850bf554b",
   "metadata": {},
   "outputs": [],
   "source": [
    "# Convert timestamp column to datetime\n",
    "control_diffre['date_time'] = pd.to_datetime(control_diffre['date_time'])\n",
    "\n",
    "# Sort DataFrame by client ID and timestamp\n",
    "control_diffre = control_diffre.sort_values(by=['client_id', 'date_time'])\n",
    "\n",
    "# Calculate time spent on each step for each client\n",
    "control_diffre['date_time'] = control_diffre.groupby('client_id')['date_time'].diff().dt.total_seconds()\n",
    "\n",
    "# Aggregate time spent on each step for each client\n",
    "time_spent_per_step = control_diffre.groupby(['client_id', 'process_step'])['date_time'].sum().reset_index()\n",
    "avg_time_spent_per_step = control_diffre.groupby(['client_id', 'process_step'])['date_time'].mean().reset_index()\n",
    "\n",
    "print(avg_time_spent_per_step)"
   ]
  },
  {
   "cell_type": "markdown",
   "id": "6857e6de-a591-4f37-9f95-7e0972bdf016",
   "metadata": {},
   "source": [
    "##### mean"
   ]
  },
  {
   "cell_type": "code",
   "execution_count": null,
   "id": "6727b2aa-eed4-4d0f-bb3d-39ca68283b83",
   "metadata": {},
   "outputs": [],
   "source": [
    "avg_time_spent_per_step['date_time'].mean()"
   ]
  },
  {
   "cell_type": "markdown",
   "id": "cfdcdfdb-058c-40e1-8164-351b11ace220",
   "metadata": {},
   "source": [
    "##### median"
   ]
  },
  {
   "cell_type": "code",
   "execution_count": null,
   "id": "f9f4e5bc-2b0f-42ef-a2ed-6c82f67b5d29",
   "metadata": {},
   "outputs": [],
   "source": [
    "avg_time_spent_per_step['date_time'].median()"
   ]
  },
  {
   "cell_type": "markdown",
   "id": "60936771-87e9-4c19-b340-d81cdf0657df",
   "metadata": {},
   "source": [
    "##### mode"
   ]
  },
  {
   "cell_type": "code",
   "execution_count": null,
   "id": "d23d7eb0-c3a3-4c2d-afd8-34e110277ec5",
   "metadata": {},
   "outputs": [],
   "source": [
    "avg_time_spent_per_step['date_time'].mode()"
   ]
  },
  {
   "cell_type": "code",
   "execution_count": null,
   "id": "d22bddbe-78f2-49ba-a534-8cb518ac3223",
   "metadata": {},
   "outputs": [],
   "source": [
    "# Save the dataset\n",
    "avg_time_spent_per_step.to_csv(\"control_avg_time_spent_per_step.csv\")"
   ]
  },
  {
   "cell_type": "markdown",
   "id": "97214b69-2837-475c-9594-5b14d702ba72",
   "metadata": {},
   "source": [
    "#### Error rate"
   ]
  },
  {
   "cell_type": "markdown",
   "id": "7775a078-b236-42e9-9a3d-8398221c0cb6",
   "metadata": {},
   "source": [
    "#### Calculation process for submission successeful or not\n",
    "How many unique client Id\n",
    "\n",
    "Then we calculate how many times each client attempt to do the registration. \n",
    "    \n",
    "eg. client 1028, total step taken / 5, devide by five becouse there are five steps a client should take to reach into confirm.\n",
    "\n",
    "We expect in each five step there should be one confirmation to say the process got successful.Else, the process taken was not successful.\n",
    "\n",
    "This formula will tell us how many attempts has been taken by the client \"client 1028, total step taken / 5\". If number of total step taken not devisible by five and even if it is devisible by five , \n",
    "\n",
    "if we do not get one confirm out of any five consequitive step of the processs taken by a client, this indicates that there were an error so that we will take it as 'not successful/False'. \n",
    "\n",
    "#### submission_successeful \n",
    "num_attempt = len(Unique client ID) devided by 5 ## To know how many attemptes has been taken \n",
    "\n",
    "num_confirm = len(confirm) \n",
    "\n",
    "Example: num_attempt = 50  \n",
    "\n",
    "         num_confirm = 50 , if it is less than 50 there were an error process and we will give \"True\" to number of confirmed five step process and \n",
    "         \n",
    "         \"False\" to the rest five or less than 5 step taken process."
   ]
  },
  {
   "cell_type": "code",
   "execution_count": null,
   "id": "84872592-91dd-445e-914d-971be0fcfa52",
   "metadata": {},
   "outputs": [],
   "source": [
    "# store unique client_id\n",
    "client_id_unique = []\n",
    "client_id_unique.append(control_sorted['client_id'].unique())"
   ]
  },
  {
   "cell_type": "code",
   "execution_count": null,
   "id": "3cfaf2b6-4550-4c51-b3d9-b73a652dbdae",
   "metadata": {},
   "outputs": [],
   "source": [
    "# display the unique client_id's\n",
    "# Get unique client_ids\n",
    "unique_client_ids = control_sorted['client_id'].unique()\n",
    "# Iterate over each unique client_id\n",
    "for client_id in unique_client_ids:\n",
    "    # Extract rows based on the current client_id\n",
    "    client_rows = control_sorted[control_sorted['client_id'] == client_id]"
   ]
  },
  {
   "cell_type": "code",
   "execution_count": null,
   "id": "11777425-5f05-450d-80fb-67ad1eb70849",
   "metadata": {},
   "outputs": [],
   "source": [
    "def att_conf(unique_client_ids):\n",
    "    for client_id in unique_client_ids:\n",
    "       attempt = control_sorted[control_sorted['client_id'] == client_id] # Extract the rows for each client_Id\n",
    "       len_attempt = len(control_sorted[control_sorted['client_id'] == client_id]) # Sum of how many times apper each client_id in the dataframe\n",
    "       num_attempt = len_attempt/5 # How many events(True or False) are there in each 5 steps (how many full process were there?)\n",
    "       num_confirm = len(attempt [attempt['process_step'] == 'confirm']) # How many confirm events are there in a specific client_id\n",
    "       print(client_id, ',' , num_attempt,',', num_confirm)"
   ]
  },
  {
   "cell_type": "markdown",
   "id": "34b300bf-a849-422a-b598-0b4eef5bb9ac",
   "metadata": {},
   "source": [
    "Now we take the number of confirm events and analyse it to Shows that there were no success then we will consider there were 9 attemptes \n",
    "that was unsccessful and, we will add 2 False value to the 'SubmissionSuccessful' column. And, we do the same for each client_id. \n",
    "\n",
    "We get and determine how many number of True or False we should include in submission_successful column. Number of confirm will tell us how many True events and to get False events we subtract Number of confirm from number of attempts. Then, we collect True and  False values to the submission_successful list. "
   ]
  },
  {
   "cell_type": "code",
   "execution_count": null,
   "id": "f02b7d23-ea15-472e-8ac6-23b7070084fb",
   "metadata": {},
   "outputs": [],
   "source": [
    "# Here we will extract client_id with the date_time in 5 steps of interval.\n",
    "df_error = control_sorted[['client_id','date_time']]\n",
    "extracted_rows = df_error.iloc[::5]\n",
    "extracted_rows.head() "
   ]
  },
  {
   "cell_type": "code",
   "execution_count": null,
   "id": "9f6002f6-5b07-41de-8e8f-dfd1dbf9bced",
   "metadata": {},
   "outputs": [],
   "source": [
    "# Let's import our unique client_id with their attempt and confirm event \n",
    "control_unique_id = pd.read_csv('cotrol_unique_client_id.csv')\n",
    "control_unique_id.head() "
   ]
  },
  {
   "cell_type": "code",
   "execution_count": null,
   "id": "8d1bc8bf-4310-44e5-a3f0-1c3ab9e7b08f",
   "metadata": {},
   "outputs": [],
   "source": [
    "control_unique_id.shape"
   ]
  },
  {
   "cell_type": "code",
   "execution_count": null,
   "id": "c77bacf5-2cd1-47bb-87e6-ffb7a4c41a42",
   "metadata": {},
   "outputs": [],
   "source": [
    "control_unique_id['is_confirmation'].value_counts()"
   ]
  },
  {
   "cell_type": "code",
   "execution_count": null,
   "id": "a128771f-085d-4dba-8a7b-d493a2860762",
   "metadata": {},
   "outputs": [],
   "source": [
    "# Let's merge the dataset\n",
    "df_err_rate = pd.merge(extracted_rows, control_unique_id, on = \"client_id\")\n",
    "df_err_rate.head()"
   ]
  },
  {
   "cell_type": "code",
   "execution_count": null,
   "id": "bcc53496-ed2c-4c52-b9aa-e9611cea9cd8",
   "metadata": {},
   "outputs": [],
   "source": [
    "df_err_rate.shape"
   ]
  },
  {
   "cell_type": "code",
   "execution_count": null,
   "id": "f1d8eb5e-f94e-4ad2-ac58-2145d53c8c1e",
   "metadata": {},
   "outputs": [],
   "source": [
    "df_err_rate['is_confirmation'].value_counts()"
   ]
  },
  {
   "cell_type": "code",
   "execution_count": null,
   "id": "256350b2-a96e-45d8-82ca-166b6b29ee44",
   "metadata": {},
   "outputs": [],
   "source": [
    "total_submissions = 28097\n",
    "confirmed_submissions = 21610\n",
    "error_submissions = 6487\n",
    "error_rate = round((error_submissions / total_submissions) * 100)\n",
    "confirmation_rate = round((confirmed_submissions / total_submissions) * 100)\n",
    "print(error_rate, \"||\", confirmation_rate )"
   ]
  },
  {
   "cell_type": "markdown",
   "id": "13911366-38ed-4804-b703-660bef8924c2",
   "metadata": {},
   "source": [
    "Let us check and verify with the unique client_id."
   ]
  },
  {
   "cell_type": "code",
   "execution_count": null,
   "id": "81282302-a83c-4415-9bd7-89d2a4fd7872",
   "metadata": {},
   "outputs": [],
   "source": [
    "total_submission = 23526\n",
    "confirmed_submission = 15428\n",
    "error_rate = 8098\n",
    "error_rate = round((error_submissions / total_submissions) * 100)\n",
    "confirmation_rate = round((confirmed_submissions / total_submissions) * 100)"
   ]
  },
  {
   "cell_type": "code",
   "execution_count": null,
   "id": "3649f8a2-2a49-4fc0-8bb4-a0aba5d3f6c9",
   "metadata": {},
   "outputs": [],
   "source": [
    "print(error_rate, \"||\", confirmation_rate )"
   ]
  }
 ],
 "metadata": {
  "kernelspec": {
   "display_name": "Python 3 (ipykernel)",
   "language": "python",
   "name": "python3"
  },
  "language_info": {
   "codemirror_mode": {
    "name": "ipython",
    "version": 3
   },
   "file_extension": ".py",
   "mimetype": "text/x-python",
   "name": "python",
   "nbconvert_exporter": "python",
   "pygments_lexer": "ipython3",
   "version": "3.11.7"
  }
 },
 "nbformat": 4,
 "nbformat_minor": 5
}
