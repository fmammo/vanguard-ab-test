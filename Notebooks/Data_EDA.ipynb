{
 "cells": [
  {
   "cell_type": "markdown",
   "id": "45589ba3",
   "metadata": {},
   "source": [
    "## Exploratory Data Analysis"
   ]
  },
  {
   "cell_type": "markdown",
   "id": "fc65b787-8acd-4ccb-be9e-d9541f75064b",
   "metadata": {},
   "source": [
    "### EDA for Client demographic data"
   ]
  },
  {
   "cell_type": "markdown",
   "id": "08dd7f0d",
   "metadata": {},
   "source": [
    "#### Import necessary libraries"
   ]
  },
  {
   "cell_type": "code",
   "execution_count": 131,
   "id": "6ad600d7",
   "metadata": {},
   "outputs": [],
   "source": [
    "# Load necessary libraries\n",
    "import pandas as pd\n",
    "import numpy as np\n",
    "import scipy as sc\n",
    "from collections import defaultdict\n",
    "from datetime import datetime\n",
    "import time\n",
    "import matplotlib.pyplot as plt\n",
    "import seaborn as sns\n",
    "%matplotlib inline"
   ]
  },
  {
   "cell_type": "markdown",
   "id": "9f43fd54-cf43-4686-bb84-c78f527f4b8c",
   "metadata": {},
   "source": [
    "Since our data is more or less clean we will start exploring by deviding it in to numerical and catagorical variables. So, We will create one for each variable. "
   ]
  },
  {
   "cell_type": "code",
   "execution_count": 106,
   "id": "8b8f1ba1",
   "metadata": {},
   "outputs": [
    {
     "data": {
      "text/html": [
       "<div>\n",
       "<style scoped>\n",
       "    .dataframe tbody tr th:only-of-type {\n",
       "        vertical-align: middle;\n",
       "    }\n",
       "\n",
       "    .dataframe tbody tr th {\n",
       "        vertical-align: top;\n",
       "    }\n",
       "\n",
       "    .dataframe thead th {\n",
       "        text-align: right;\n",
       "    }\n",
       "</style>\n",
       "<table border=\"1\" class=\"dataframe\">\n",
       "  <thead>\n",
       "    <tr style=\"text-align: right;\">\n",
       "      <th></th>\n",
       "      <th>client_id</th>\n",
       "      <th>clnt_tenure_yr</th>\n",
       "      <th>clnt_tenure_mnth</th>\n",
       "      <th>clnt_age</th>\n",
       "      <th>gendr</th>\n",
       "      <th>num_accts</th>\n",
       "      <th>bal</th>\n",
       "      <th>calls_6_mnth</th>\n",
       "      <th>logons_6_mnth</th>\n",
       "    </tr>\n",
       "  </thead>\n",
       "  <tbody>\n",
       "    <tr>\n",
       "      <th>0</th>\n",
       "      <td>836976</td>\n",
       "      <td>6</td>\n",
       "      <td>73</td>\n",
       "      <td>60</td>\n",
       "      <td>U</td>\n",
       "      <td>2</td>\n",
       "      <td>45105</td>\n",
       "      <td>6</td>\n",
       "      <td>9</td>\n",
       "    </tr>\n",
       "    <tr>\n",
       "      <th>1</th>\n",
       "      <td>2304905</td>\n",
       "      <td>7</td>\n",
       "      <td>94</td>\n",
       "      <td>58</td>\n",
       "      <td>U</td>\n",
       "      <td>2</td>\n",
       "      <td>110860</td>\n",
       "      <td>6</td>\n",
       "      <td>9</td>\n",
       "    </tr>\n",
       "  </tbody>\n",
       "</table>\n",
       "</div>"
      ],
      "text/plain": [
       "   client_id  clnt_tenure_yr  clnt_tenure_mnth  clnt_age gendr  num_accts  \\\n",
       "0     836976               6                73        60     U          2   \n",
       "1    2304905               7                94        58     U          2   \n",
       "\n",
       "      bal  calls_6_mnth  logons_6_mnth  \n",
       "0   45105             6              9  \n",
       "1  110860             6              9  "
      ]
     },
     "execution_count": 106,
     "metadata": {},
     "output_type": "execute_result"
    }
   ],
   "source": [
    "# Load the data\n",
    "demog = pd.read_csv('demog.csv')\n",
    "demog.head(2)"
   ]
  },
  {
   "cell_type": "code",
   "execution_count": 107,
   "id": "621a7919-2a77-4e3b-a44b-d1bcf0c94f39",
   "metadata": {
    "scrolled": true
   },
   "outputs": [],
   "source": [
    "# Drop unnamed: 0 column \n",
    "#demo = demog.drop('Unnamed: 0', axis = 'columns')\n",
    "#demo.head(2)"
   ]
  },
  {
   "cell_type": "code",
   "execution_count": 108,
   "id": "ecaf4d36-0a92-4e77-9a9b-cdf3e85b79eb",
   "metadata": {},
   "outputs": [
    {
     "data": {
      "text/plain": [
       "(70594, 9)"
      ]
     },
     "execution_count": 108,
     "metadata": {},
     "output_type": "execute_result"
    }
   ],
   "source": [
    "demog.shape"
   ]
  },
  {
   "cell_type": "code",
   "execution_count": 109,
   "id": "92a93226-1a7d-4d12-a62d-8022097b09e1",
   "metadata": {},
   "outputs": [
    {
     "data": {
      "text/plain": [
       "Index(['client_id', 'clnt_tenure_yr', 'clnt_tenure_mnth', 'clnt_age',\n",
       "       'num_accts', 'bal', 'calls_6_mnth', 'logons_6_mnth'],\n",
       "      dtype='object')"
      ]
     },
     "execution_count": 109,
     "metadata": {},
     "output_type": "execute_result"
    }
   ],
   "source": [
    "# Extract column names with numerical datatype\n",
    "demog.select_dtypes(\"number\").columns"
   ]
  },
  {
   "cell_type": "code",
   "execution_count": 110,
   "id": "9115ea63-17a5-4448-b1f9-3542c9cd798f",
   "metadata": {},
   "outputs": [
    {
     "data": {
      "text/plain": [
       "client_id           70594\n",
       "bal                 56968\n",
       "clnt_tenure_mnth      482\n",
       "clnt_age               82\n",
       "clnt_tenure_yr         54\n",
       "logons_6_mnth           9\n",
       "num_accts               8\n",
       "calls_6_mnth            8\n",
       "dtype: int64"
      ]
     },
     "execution_count": 110,
     "metadata": {},
     "output_type": "execute_result"
    }
   ],
   "source": [
    "# Count and sort the unique values of each numeriacl variables\n",
    "demo_num = demog.select_dtypes(\"number\").nunique().sort_values(ascending = False)\n",
    "demo_num"
   ]
  },
  {
   "cell_type": "markdown",
   "id": "e2548b0e-b35b-41a8-aee2-3141590cd8c6",
   "metadata": {},
   "source": [
    "Lat's take gendr and do the exploration."
   ]
  },
  {
   "cell_type": "code",
   "execution_count": 111,
   "id": "52bef234-5e53-4869-aa91-552ff35719d4",
   "metadata": {},
   "outputs": [
    {
     "data": {
      "text/plain": [
       "gendr\n",
       "U    24122\n",
       "M    23724\n",
       "F    22745\n",
       "X        3\n",
       "Name: count, dtype: int64"
      ]
     },
     "execution_count": 111,
     "metadata": {},
     "output_type": "execute_result"
    }
   ],
   "source": [
    "# Frequency table for grnder\n",
    "freq_tab = demog['gendr'].value_counts()\n",
    "freq_tab"
   ]
  },
  {
   "cell_type": "code",
   "execution_count": 112,
   "id": "ca5db4bb-9be7-4d08-9e68-499365551a82",
   "metadata": {},
   "outputs": [
    {
     "data": {
      "text/html": [
       "<div>\n",
       "<style scoped>\n",
       "    .dataframe tbody tr th:only-of-type {\n",
       "        vertical-align: middle;\n",
       "    }\n",
       "\n",
       "    .dataframe tbody tr th {\n",
       "        vertical-align: top;\n",
       "    }\n",
       "\n",
       "    .dataframe thead th {\n",
       "        text-align: right;\n",
       "    }\n",
       "</style>\n",
       "<table border=\"1\" class=\"dataframe\">\n",
       "  <thead>\n",
       "    <tr style=\"text-align: right;\">\n",
       "      <th>col_0</th>\n",
       "      <th>count</th>\n",
       "    </tr>\n",
       "    <tr>\n",
       "      <th>gendr</th>\n",
       "      <th></th>\n",
       "    </tr>\n",
       "  </thead>\n",
       "  <tbody>\n",
       "    <tr>\n",
       "      <th>F</th>\n",
       "      <td>0.32</td>\n",
       "    </tr>\n",
       "    <tr>\n",
       "      <th>M</th>\n",
       "      <td>0.34</td>\n",
       "    </tr>\n",
       "    <tr>\n",
       "      <th>U</th>\n",
       "      <td>0.34</td>\n",
       "    </tr>\n",
       "    <tr>\n",
       "      <th>X</th>\n",
       "      <td>0.00</td>\n",
       "    </tr>\n",
       "  </tbody>\n",
       "</table>\n",
       "</div>"
      ],
      "text/plain": [
       "col_0  count\n",
       "gendr       \n",
       "F       0.32\n",
       "M       0.34\n",
       "U       0.34\n",
       "X       0.00"
      ]
     },
     "execution_count": 112,
     "metadata": {},
     "output_type": "execute_result"
    }
   ],
   "source": [
    "prop_table = pd.crosstab(index = demog['gendr'], columns = \"count\")\n",
    "(prop_table/prop_table.sum()).round(2)"
   ]
  },
  {
   "cell_type": "markdown",
   "id": "ceb91187-82ef-47cc-b429-8b6761f6e33b",
   "metadata": {},
   "source": [
    "Insight: * The most common gender classification is Male, Female, and Undisclosed. That comprising approximately 34%, 34% and 32% respectively.\n",
    "         \n",
    "         * The last which is the least frequent gender is Unspecified, making up only 3."
   ]
  },
  {
   "cell_type": "code",
   "execution_count": 113,
   "id": "449d4dee-fb10-43e3-b13d-2db45f4fb380",
   "metadata": {},
   "outputs": [
    {
     "data": {
      "image/png": "[encoded data removed]",
      "text/plain": [
       "<Figure size 640x480 with 1 Axes>"
      ]
     },
     "metadata": {},
     "output_type": "display_data"
    }
   ],
   "source": [
    "#ax=sns.barplot(y=prop_table.index, x=freq_tab.values, hue=freq_tab.index)\n",
    "#sns.move_legend(ax, \"lower right\")\n",
    "sns.barplot(y = freq_tab.values, x = prop_table.index, hue = freq_tab.index)\n",
    "plt.show()"
   ]
  },
  {
   "cell_type": "markdown",
   "id": "71c11fce-8373-4493-a355-d76d8c6718fd",
   "metadata": {},
   "source": [
    "From the above chart we observe the same result as the value counts. Three of the gender group covers almost the whole portion, which is Female, Male and Undisclosed. "
   ]
  },
  {
   "cell_type": "markdown",
   "id": "33f59322-661d-4142-b5d4-f747012ab131",
   "metadata": {},
   "source": [
    "Now let's move in to the numerical Vs Catagorical variables. And answer the questions like: \n",
    "1. Who are the primary clients using this online process? From the above analysis we can say that; the primary clients in gender wise are Female, Male and Undisclosed.\r",
    "2. \n",
    "Are the primary clients younger or older, new or long-standing? From the below graph we can understand that most of the clients are young and middle age. Most of them are in the year between 6 to 21 since they have joined. And the rest have been staying between 36 to 62 years."
   ]
  },
  {
   "cell_type": "code",
   "execution_count": 75,
   "id": "0c92a2c5-3cc1-489b-8b5c-6d3f166d2eb9",
   "metadata": {},
   "outputs": [
    {
     "data": {
      "text/plain": [
       "client_id           70594\n",
       "bal                 56968\n",
       "clnt_tenure_mnth      482\n",
       "clnt_age               82\n",
       "clnt_tenure_yr         54\n",
       "dtype: int64"
      ]
     },
     "execution_count": 75,
     "metadata": {},
     "output_type": "execute_result"
    }
   ],
   "source": [
    "demo_num.head()"
   ]
  },
  {
   "cell_type": "code",
   "execution_count": 85,
   "id": "2ac921e3-b264-4938-82b9-643114e6774b",
   "metadata": {},
   "outputs": [
    {
     "data": {
      "text/plain": [
       "clnt_tenure_yr\n",
       "6     7092\n",
       "5     6955\n",
       "7     4955\n",
       "4     4687\n",
       "15    4564\n",
       "8     4044\n",
       "14    3646\n",
       "12    3631\n",
       "13    3607\n",
       "9     3357\n",
       "11    2920\n",
       "10    2775\n",
       "16    2714\n",
       "21    2257\n",
       "20    1580\n",
       "22    1492\n",
       "17    1373\n",
       "23    1279\n",
       "18    1206\n",
       "19    1153\n",
       "Name: count, dtype: int64"
      ]
     },
     "execution_count": 85,
     "metadata": {},
     "output_type": "execute_result"
    }
   ],
   "source": [
    "# The top 20 who stayed longer and lesser \n",
    "top20_year_long = demog['clnt_tenure_yr'].value_counts().head(20)\n",
    "# Top 20 who stayed lesser\n",
    "top20_year_new = demog['clnt_tenure_yr'].value_counts().sort_values().head(20)\n",
    "top20_year_long"
   ]
  },
  {
   "cell_type": "code",
   "execution_count": 77,
   "id": "4a038a6c-eff2-45a9-9a50-076dba1cd46a",
   "metadata": {},
   "outputs": [],
   "source": [
    "conditions = [\n",
    "    (demog['clnt_age']>=14) & (demog['clnt_age']<=30),\n",
    "    (demog['clnt_age']>=31) & (demog['clnt_age']<=45),\n",
    "    (demog['clnt_age']>=46) & (demog['clnt_age']<=60),\n",
    "    (demog['clnt_age']>=61) & (demog['clnt_age']<=75),\n",
    "    (demog['clnt_age']>=76) & (demog['clnt_age']<=96),\n",
    "]\n",
    "\n",
    "values = ['14-30','31-45','46-60','61-75','76-96']\n",
    "demog['age_category'] = np.select(conditions, values)"
   ]
  },
  {
   "cell_type": "code",
   "execution_count": 78,
   "id": "2e112b3d-a2e0-4f94-bf95-e8e0977ec0af",
   "metadata": {},
   "outputs": [
    {
     "data": {
      "text/html": [
       "<div>\n",
       "<style scoped>\n",
       "    .dataframe tbody tr th:only-of-type {\n",
       "        vertical-align: middle;\n",
       "    }\n",
       "\n",
       "    .dataframe tbody tr th {\n",
       "        vertical-align: top;\n",
       "    }\n",
       "\n",
       "    .dataframe thead th {\n",
       "        text-align: right;\n",
       "    }\n",
       "</style>\n",
       "<table border=\"1\" class=\"dataframe\">\n",
       "  <thead>\n",
       "    <tr style=\"text-align: right;\">\n",
       "      <th></th>\n",
       "      <th>client_id</th>\n",
       "      <th>clnt_tenure_yr</th>\n",
       "      <th>clnt_tenure_mnth</th>\n",
       "      <th>clnt_age</th>\n",
       "      <th>gendr</th>\n",
       "      <th>num_accts</th>\n",
       "      <th>bal</th>\n",
       "      <th>calls_6_mnth</th>\n",
       "      <th>logons_6_mnth</th>\n",
       "      <th>age_category</th>\n",
       "    </tr>\n",
       "  </thead>\n",
       "  <tbody>\n",
       "    <tr>\n",
       "      <th>0</th>\n",
       "      <td>836976</td>\n",
       "      <td>6</td>\n",
       "      <td>73</td>\n",
       "      <td>60</td>\n",
       "      <td>U</td>\n",
       "      <td>2</td>\n",
       "      <td>45105</td>\n",
       "      <td>6</td>\n",
       "      <td>9</td>\n",
       "      <td>46-60</td>\n",
       "    </tr>\n",
       "    <tr>\n",
       "      <th>1</th>\n",
       "      <td>2304905</td>\n",
       "      <td>7</td>\n",
       "      <td>94</td>\n",
       "      <td>58</td>\n",
       "      <td>U</td>\n",
       "      <td>2</td>\n",
       "      <td>110860</td>\n",
       "      <td>6</td>\n",
       "      <td>9</td>\n",
       "      <td>46-60</td>\n",
       "    </tr>\n",
       "    <tr>\n",
       "      <th>2</th>\n",
       "      <td>1439522</td>\n",
       "      <td>5</td>\n",
       "      <td>64</td>\n",
       "      <td>32</td>\n",
       "      <td>U</td>\n",
       "      <td>2</td>\n",
       "      <td>52467</td>\n",
       "      <td>6</td>\n",
       "      <td>9</td>\n",
       "      <td>31-45</td>\n",
       "    </tr>\n",
       "    <tr>\n",
       "      <th>3</th>\n",
       "      <td>1562045</td>\n",
       "      <td>16</td>\n",
       "      <td>198</td>\n",
       "      <td>49</td>\n",
       "      <td>M</td>\n",
       "      <td>2</td>\n",
       "      <td>67454</td>\n",
       "      <td>3</td>\n",
       "      <td>6</td>\n",
       "      <td>46-60</td>\n",
       "    </tr>\n",
       "    <tr>\n",
       "      <th>4</th>\n",
       "      <td>5126305</td>\n",
       "      <td>12</td>\n",
       "      <td>145</td>\n",
       "      <td>33</td>\n",
       "      <td>F</td>\n",
       "      <td>2</td>\n",
       "      <td>103671</td>\n",
       "      <td>0</td>\n",
       "      <td>3</td>\n",
       "      <td>31-45</td>\n",
       "    </tr>\n",
       "  </tbody>\n",
       "</table>\n",
       "</div>"
      ],
      "text/plain": [
       "   client_id  clnt_tenure_yr  clnt_tenure_mnth  clnt_age gendr  num_accts  \\\n",
       "0     836976               6                73        60     U          2   \n",
       "1    2304905               7                94        58     U          2   \n",
       "2    1439522               5                64        32     U          2   \n",
       "3    1562045              16               198        49     M          2   \n",
       "4    5126305              12               145        33     F          2   \n",
       "\n",
       "      bal  calls_6_mnth  logons_6_mnth age_category  \n",
       "0   45105             6              9        46-60  \n",
       "1  110860             6              9        46-60  \n",
       "2   52467             6              9        31-45  \n",
       "3   67454             3              6        46-60  \n",
       "4  103671             0              3        31-45  "
      ]
     },
     "execution_count": 78,
     "metadata": {},
     "output_type": "execute_result"
    }
   ],
   "source": [
    "demog.head()"
   ]
  },
  {
   "cell_type": "code",
   "execution_count": 84,
   "id": "ef02c6d7-09f5-4d82-ab69-67db3ad59a0a",
   "metadata": {},
   "outputs": [
    {
     "data": {
      "image/png": "[encoded data removed]",
      "text/plain": [
       "<Figure size 640x480 with 1 Axes>"
      ]
     },
     "metadata": {},
     "output_type": "display_data"
    }
   ],
   "source": [
    "pd.crosstab(demog['age_category'],demog['gendr']).plot.bar()\n",
    "plt.show()"
   ]
  },
  {
   "cell_type": "code",
   "execution_count": 15,
   "id": "f1f9747d-115b-4576-8873-90310f125972",
   "metadata": {},
   "outputs": [
    {
     "data": {
      "text/plain": [
       "num_accts\n",
       "8        1\n",
       "1        2\n",
       "7        8\n",
       "6       33\n",
       "5      284\n",
       "4     2241\n",
       "3    12529\n",
       "2    55496\n",
       "Name: count, dtype: int64"
      ]
     },
     "execution_count": 15,
     "metadata": {},
     "output_type": "execute_result"
    }
   ],
   "source": [
    "demog['num_accts'].value_counts().sort_values()"
   ]
  },
  {
   "cell_type": "code",
   "execution_count": 16,
   "id": "a0add752-e64c-4dac-aea9-9cc3e1b99bce",
   "metadata": {},
   "outputs": [
    {
     "data": {
      "image/png": "[encoded data removed]",
      "text/plain": [
       "<Figure size 640x480 with 1 Axes>"
      ]
     },
     "metadata": {},
     "output_type": "display_data"
    }
   ],
   "source": [
    "#Let's see gender by number of accounts.\n",
    "pd.crosstab(demog['num_accts'],demog['gendr']).plot.bar()\n",
    "plt.show()"
   ]
  },
  {
   "cell_type": "code",
   "execution_count": 17,
   "id": "69dc71a0-9a2a-43b7-8fff-49fb99f2de8f",
   "metadata": {},
   "outputs": [
    {
     "data": {
      "image/png": "[encoded data removed]",
      "text/plain": [
       "<Figure size 640x480 with 1 Axes>"
      ]
     },
     "metadata": {},
     "output_type": "display_data"
    }
   ],
   "source": [
    "demog['num_accts'].value_counts().plot.pie(startangle=90, colors=sns.color_palette(\"Set3\"));\n",
    "plt.show()"
   ]
  },
  {
   "cell_type": "markdown",
   "id": "b0bb1346-f614-487d-bb3a-e3236aa24b65",
   "metadata": {},
   "source": [
    "### EDA for Web_Data"
   ]
  },
  {
   "cell_type": "code",
   "execution_count": 18,
   "id": "fd3b3f7b-1251-494e-b2e2-16ed335e003d",
   "metadata": {
    "scrolled": true
   },
   "outputs": [
    {
     "data": {
      "text/html": [
       "<div>\n",
       "<style scoped>\n",
       "    .dataframe tbody tr th:only-of-type {\n",
       "        vertical-align: middle;\n",
       "    }\n",
       "\n",
       "    .dataframe tbody tr th {\n",
       "        vertical-align: top;\n",
       "    }\n",
       "\n",
       "    .dataframe thead th {\n",
       "        text-align: right;\n",
       "    }\n",
       "</style>\n",
       "<table border=\"1\" class=\"dataframe\">\n",
       "  <thead>\n",
       "    <tr style=\"text-align: right;\">\n",
       "      <th></th>\n",
       "      <th>client_id</th>\n",
       "      <th>visitor_id</th>\n",
       "      <th>visit_id</th>\n",
       "      <th>process_step</th>\n",
       "      <th>date_time</th>\n",
       "      <th>date</th>\n",
       "      <th>time</th>\n",
       "      <th>year</th>\n",
       "      <th>month</th>\n",
       "      <th>day</th>\n",
       "    </tr>\n",
       "  </thead>\n",
       "  <tbody>\n",
       "    <tr>\n",
       "      <th>0</th>\n",
       "      <td>9988021</td>\n",
       "      <td>580560515_7732621733</td>\n",
       "      <td>781255054_21935453173_531117</td>\n",
       "      <td>step_3</td>\n",
       "      <td>4/17/2017 15:27</td>\n",
       "      <td>2017, 27, 17</td>\n",
       "      <td>15, 27, 07</td>\n",
       "      <td>2017</td>\n",
       "      <td>4</td>\n",
       "      <td>17</td>\n",
       "    </tr>\n",
       "    <tr>\n",
       "      <th>1</th>\n",
       "      <td>9988021</td>\n",
       "      <td>580560515_7732621733</td>\n",
       "      <td>781255054_21935453173_531117</td>\n",
       "      <td>step_2</td>\n",
       "      <td>4/17/2017 15:26</td>\n",
       "      <td>2017, 26, 17</td>\n",
       "      <td>15, 26, 51</td>\n",
       "      <td>2017</td>\n",
       "      <td>4</td>\n",
       "      <td>17</td>\n",
       "    </tr>\n",
       "  </tbody>\n",
       "</table>\n",
       "</div>"
      ],
      "text/plain": [
       "   client_id            visitor_id                      visit_id process_step  \\\n",
       "0    9988021  580560515_7732621733  781255054_21935453173_531117       step_3   \n",
       "1    9988021  580560515_7732621733  781255054_21935453173_531117       step_2   \n",
       "\n",
       "         date_time          date        time  year  month  day  \n",
       "0  4/17/2017 15:27  2017, 27, 17  15, 27, 07  2017      4   17  \n",
       "1  4/17/2017 15:26  2017, 26, 17  15, 26, 51  2017      4   17  "
      ]
     },
     "execution_count": 18,
     "metadata": {},
     "output_type": "execute_result"
    }
   ],
   "source": [
    "web_data = pd.read_csv('web_data.csv')\n",
    "web_data.head(2)"
   ]
  },
  {
   "cell_type": "code",
   "execution_count": 19,
   "id": "c887a724-84d1-4043-8b4c-3d7730fadea2",
   "metadata": {
    "scrolled": true
   },
   "outputs": [],
   "source": [
    "#web_data = web_data.drop('Unnamed: 0', axis = 'columns')\n",
    "#web_data.head(2)"
   ]
  },
  {
   "cell_type": "code",
   "execution_count": 20,
   "id": "4c541751-dc70-4cfa-ba58-5eed31ecfae6",
   "metadata": {},
   "outputs": [
    {
     "data": {
      "text/plain": [
       "process_step\n",
       "start      234999\n",
       "step_1     162797\n",
       "step_2     132750\n",
       "step_3     111589\n",
       "confirm    102506\n",
       "Name: count, dtype: int64"
      ]
     },
     "execution_count": 20,
     "metadata": {},
     "output_type": "execute_result"
    }
   ],
   "source": [
    "web_data['process_step'].value_counts()"
   ]
  },
  {
   "cell_type": "code",
   "execution_count": 21,
   "id": "f4b17436-2a77-4146-9e5d-429b79bb36ef",
   "metadata": {},
   "outputs": [
    {
     "data": {
      "text/plain": [
       "(744641, 10)"
      ]
     },
     "execution_count": 21,
     "metadata": {},
     "output_type": "execute_result"
    }
   ],
   "source": [
    "web_data.shape"
   ]
  },
  {
   "cell_type": "code",
   "execution_count": 22,
   "id": "2a5b9f91-a973-4deb-9b20-17a5bd990642",
   "metadata": {},
   "outputs": [
    {
     "data": {
      "text/plain": [
       "client_id       120157\n",
       "visitor_id      130236\n",
       "visit_id        158095\n",
       "process_step         5\n",
       "date_time        96077\n",
       "date              1860\n",
       "time             77640\n",
       "year                 1\n",
       "month                4\n",
       "day                 31\n",
       "dtype: int64"
      ]
     },
     "execution_count": 22,
     "metadata": {},
     "output_type": "execute_result"
    }
   ],
   "source": [
    "web_data.nunique()"
   ]
  },
  {
   "cell_type": "markdown",
   "id": "6073f179-244f-4075-8572-bce78737d456",
   "metadata": {},
   "source": [
    "Let's calculate the time difference.  "
   ]
  },
  {
   "cell_type": "markdown",
   "id": "a7da165a-0483-40a8-a31a-b884f407d577",
   "metadata": {},
   "source": [
    "Now let us extract the confirmed and start processes step and save it in to csv file."
   ]
  },
  {
   "cell_type": "code",
   "execution_count": 23,
   "id": "4fdd3831-0054-4ed3-8da1-c8bf77ebbbce",
   "metadata": {},
   "outputs": [
    {
     "data": {
      "text/plain": [
       "(234999, 10)"
      ]
     },
     "execution_count": 23,
     "metadata": {},
     "output_type": "execute_result"
    }
   ],
   "source": [
    "pro_start = web_data[web_data[\"process_step\"] == \"start\"]\n",
    "pro_start.shape"
   ]
  },
  {
   "cell_type": "code",
   "execution_count": 24,
   "id": "64bb6496-de01-4b48-bf8e-9a6cfa787964",
   "metadata": {},
   "outputs": [
    {
     "data": {
      "text/plain": [
       "(102506, 10)"
      ]
     },
     "execution_count": 24,
     "metadata": {},
     "output_type": "execute_result"
    }
   ],
   "source": [
    "pro_confirm = web_data[web_data[\"process_step\"] == \"confirm\"]\n",
    "pro_confirm.shape"
   ]
  },
  {
   "cell_type": "code",
   "execution_count": 25,
   "id": "bac91a39-3076-4169-89c4-9b8114e9320e",
   "metadata": {},
   "outputs": [],
   "source": [
    "# Now let's save both files in to csv format\n",
    "pro_start.to_csv(\"pro_start.csv\")\n",
    "pro_confirm.to_csv(\"pro_confirm.csv\")"
   ]
  },
  {
   "cell_type": "markdown",
   "id": "3c245d7d-36ec-4ad2-8131-01925b99d32d",
   "metadata": {},
   "source": [
    "### EDA for final experement client data"
   ]
  },
  {
   "cell_type": "code",
   "execution_count": 26,
   "id": "ba916fb5-cc56-49f0-97af-03043c8a9014",
   "metadata": {},
   "outputs": [
    {
     "data": {
      "text/html": [
       "<div>\n",
       "<style scoped>\n",
       "    .dataframe tbody tr th:only-of-type {\n",
       "        vertical-align: middle;\n",
       "    }\n",
       "\n",
       "    .dataframe tbody tr th {\n",
       "        vertical-align: top;\n",
       "    }\n",
       "\n",
       "    .dataframe thead th {\n",
       "        text-align: right;\n",
       "    }\n",
       "</style>\n",
       "<table border=\"1\" class=\"dataframe\">\n",
       "  <thead>\n",
       "    <tr style=\"text-align: right;\">\n",
       "      <th></th>\n",
       "      <th>client_id</th>\n",
       "      <th>variation</th>\n",
       "    </tr>\n",
       "  </thead>\n",
       "  <tbody>\n",
       "    <tr>\n",
       "      <th>0</th>\n",
       "      <td>9988021</td>\n",
       "      <td>Test</td>\n",
       "    </tr>\n",
       "    <tr>\n",
       "      <th>1</th>\n",
       "      <td>8320017</td>\n",
       "      <td>Test</td>\n",
       "    </tr>\n",
       "    <tr>\n",
       "      <th>2</th>\n",
       "      <td>4033851</td>\n",
       "      <td>Control</td>\n",
       "    </tr>\n",
       "    <tr>\n",
       "      <th>3</th>\n",
       "      <td>1982004</td>\n",
       "      <td>Test</td>\n",
       "    </tr>\n",
       "    <tr>\n",
       "      <th>4</th>\n",
       "      <td>9294070</td>\n",
       "      <td>Control</td>\n",
       "    </tr>\n",
       "  </tbody>\n",
       "</table>\n",
       "</div>"
      ],
      "text/plain": [
       "   client_id variation\n",
       "0    9988021      Test\n",
       "1    8320017      Test\n",
       "2    4033851   Control\n",
       "3    1982004      Test\n",
       "4    9294070   Control"
      ]
     },
     "execution_count": 26,
     "metadata": {},
     "output_type": "execute_result"
    }
   ],
   "source": [
    "final_ex = pd.read_csv('final_ex.csv')\n",
    "final_ex.head()"
   ]
  },
  {
   "cell_type": "code",
   "execution_count": 27,
   "id": "096a578f-3140-4d0c-8985-041ba75dcd69",
   "metadata": {},
   "outputs": [],
   "source": [
    "# Drop the Unnamed: 0 column\n",
    "#final_ex.head(2)"
   ]
  },
  {
   "cell_type": "code",
   "execution_count": 28,
   "id": "618a5bd8-caae-4cf8-815c-0f8258558f3c",
   "metadata": {},
   "outputs": [
    {
     "data": {
      "text/plain": [
       "client_id    50500\n",
       "variation        2\n",
       "dtype: int64"
      ]
     },
     "execution_count": 28,
     "metadata": {},
     "output_type": "execute_result"
    }
   ],
   "source": [
    "final_ex.nunique()"
   ]
  },
  {
   "cell_type": "code",
   "execution_count": 29,
   "id": "352ade4a-3981-45d6-8da0-7759007fd72c",
   "metadata": {},
   "outputs": [
    {
     "data": {
      "text/plain": [
       "variation\n",
       "Test       26968\n",
       "Control    23532\n",
       "Name: count, dtype: int64"
      ]
     },
     "execution_count": 29,
     "metadata": {},
     "output_type": "execute_result"
    }
   ],
   "source": [
    "final_ex['variation'].value_counts()"
   ]
  },
  {
   "cell_type": "markdown",
   "id": "fab69fa8-c8d8-46e8-8d29-74521c36607c",
   "metadata": {},
   "source": [
    "Let's devide the dataset in to two \\Test and Control group\\"
   ]
  },
  {
   "cell_type": "code",
   "execution_count": 30,
   "id": "fa2435a9-0432-45fa-8daf-e11157cab06f",
   "metadata": {},
   "outputs": [
    {
     "data": {
      "text/plain": [
       "(26968, 2)"
      ]
     },
     "execution_count": 30,
     "metadata": {},
     "output_type": "execute_result"
    }
   ],
   "source": [
    "test_group = final_ex[final_ex[\"variation\"] == \"Test\"]\n",
    "test_group.shape"
   ]
  },
  {
   "cell_type": "code",
   "execution_count": 31,
   "id": "9f88f5cc-7a6d-4ceb-8727-e96ea0bceeb1",
   "metadata": {},
   "outputs": [
    {
     "data": {
      "text/html": [
       "<div>\n",
       "<style scoped>\n",
       "    .dataframe tbody tr th:only-of-type {\n",
       "        vertical-align: middle;\n",
       "    }\n",
       "\n",
       "    .dataframe tbody tr th {\n",
       "        vertical-align: top;\n",
       "    }\n",
       "\n",
       "    .dataframe thead th {\n",
       "        text-align: right;\n",
       "    }\n",
       "</style>\n",
       "<table border=\"1\" class=\"dataframe\">\n",
       "  <thead>\n",
       "    <tr style=\"text-align: right;\">\n",
       "      <th></th>\n",
       "      <th>client_id</th>\n",
       "      <th>variation_test</th>\n",
       "    </tr>\n",
       "  </thead>\n",
       "  <tbody>\n",
       "    <tr>\n",
       "      <th>0</th>\n",
       "      <td>9988021</td>\n",
       "      <td>Test</td>\n",
       "    </tr>\n",
       "    <tr>\n",
       "      <th>1</th>\n",
       "      <td>8320017</td>\n",
       "      <td>Test</td>\n",
       "    </tr>\n",
       "  </tbody>\n",
       "</table>\n",
       "</div>"
      ],
      "text/plain": [
       "   client_id variation_test\n",
       "0    9988021           Test\n",
       "1    8320017           Test"
      ]
     },
     "execution_count": 31,
     "metadata": {},
     "output_type": "execute_result"
    }
   ],
   "source": [
    "# Since we will merge the datasets let's change the column names of variations accordingly\n",
    "test_group.columns = ['client_id', 'variation_test']\n",
    "test_group.head(2)"
   ]
  },
  {
   "cell_type": "code",
   "execution_count": 32,
   "id": "7487a2d5-04af-424a-8b22-f4cc08b0bff0",
   "metadata": {},
   "outputs": [
    {
     "data": {
      "text/plain": [
       "(23532, 2)"
      ]
     },
     "execution_count": 32,
     "metadata": {},
     "output_type": "execute_result"
    }
   ],
   "source": [
    "control_group = final_ex[final_ex[\"variation\"] == \"Control\"]\n",
    "control_group.shape"
   ]
  },
  {
   "cell_type": "code",
   "execution_count": 33,
   "id": "e0069a6c-5c6c-40fe-9eb2-55125e65db11",
   "metadata": {},
   "outputs": [
    {
     "data": {
      "text/html": [
       "<div>\n",
       "<style scoped>\n",
       "    .dataframe tbody tr th:only-of-type {\n",
       "        vertical-align: middle;\n",
       "    }\n",
       "\n",
       "    .dataframe tbody tr th {\n",
       "        vertical-align: top;\n",
       "    }\n",
       "\n",
       "    .dataframe thead th {\n",
       "        text-align: right;\n",
       "    }\n",
       "</style>\n",
       "<table border=\"1\" class=\"dataframe\">\n",
       "  <thead>\n",
       "    <tr style=\"text-align: right;\">\n",
       "      <th></th>\n",
       "      <th>client_id</th>\n",
       "      <th>variation_control</th>\n",
       "    </tr>\n",
       "  </thead>\n",
       "  <tbody>\n",
       "    <tr>\n",
       "      <th>2</th>\n",
       "      <td>4033851</td>\n",
       "      <td>Control</td>\n",
       "    </tr>\n",
       "    <tr>\n",
       "      <th>4</th>\n",
       "      <td>9294070</td>\n",
       "      <td>Control</td>\n",
       "    </tr>\n",
       "  </tbody>\n",
       "</table>\n",
       "</div>"
      ],
      "text/plain": [
       "   client_id variation_control\n",
       "2    4033851           Control\n",
       "4    9294070           Control"
      ]
     },
     "execution_count": 33,
     "metadata": {},
     "output_type": "execute_result"
    }
   ],
   "source": [
    "control_group.columns = ['client_id', 'variation_control']\n",
    "control_group.head(2)"
   ]
  },
  {
   "cell_type": "code",
   "execution_count": 34,
   "id": "ac31fdfd-90be-4bf3-950f-a68fc3f29ec9",
   "metadata": {},
   "outputs": [],
   "source": [
    "# Let's save them to csv file\n",
    "test_group.to_csv(\"test_group.csv\")\n",
    "control_group.to_csv(\"control_group.csv\")"
   ]
  },
  {
   "cell_type": "markdown",
   "id": "e1b20829-9ffe-4718-9b98-8c61729c2efb",
   "metadata": {},
   "source": [
    "Let's merge the data first for test group then control group"
   ]
  },
  {
   "cell_type": "code",
   "execution_count": 35,
   "id": "46087b9e-13ac-4b48-abb9-73218c53b53d",
   "metadata": {},
   "outputs": [],
   "source": [
    "#Let us merge the dataset based on client_ID for test group and demog\n",
    "merge_1 = pd.merge(demog, test_group, on='client_id')"
   ]
  },
  {
   "cell_type": "code",
   "execution_count": 36,
   "id": "77c686a7-13f3-4399-89eb-45306071b982",
   "metadata": {},
   "outputs": [
    {
     "data": {
      "text/html": [
       "<div>\n",
       "<style scoped>\n",
       "    .dataframe tbody tr th:only-of-type {\n",
       "        vertical-align: middle;\n",
       "    }\n",
       "\n",
       "    .dataframe tbody tr th {\n",
       "        vertical-align: top;\n",
       "    }\n",
       "\n",
       "    .dataframe thead th {\n",
       "        text-align: right;\n",
       "    }\n",
       "</style>\n",
       "<table border=\"1\" class=\"dataframe\">\n",
       "  <thead>\n",
       "    <tr style=\"text-align: right;\">\n",
       "      <th></th>\n",
       "      <th>client_id</th>\n",
       "      <th>clnt_tenure_yr</th>\n",
       "      <th>clnt_tenure_mnth</th>\n",
       "      <th>clnt_age</th>\n",
       "      <th>gendr</th>\n",
       "      <th>num_accts</th>\n",
       "      <th>bal</th>\n",
       "      <th>calls_6_mnth</th>\n",
       "      <th>logons_6_mnth</th>\n",
       "      <th>age_category</th>\n",
       "      <th>variation_test</th>\n",
       "    </tr>\n",
       "  </thead>\n",
       "  <tbody>\n",
       "    <tr>\n",
       "      <th>0</th>\n",
       "      <td>836976</td>\n",
       "      <td>6</td>\n",
       "      <td>73</td>\n",
       "      <td>60</td>\n",
       "      <td>U</td>\n",
       "      <td>2</td>\n",
       "      <td>45105</td>\n",
       "      <td>6</td>\n",
       "      <td>9</td>\n",
       "      <td>46-60</td>\n",
       "      <td>Test</td>\n",
       "    </tr>\n",
       "    <tr>\n",
       "      <th>1</th>\n",
       "      <td>1439522</td>\n",
       "      <td>5</td>\n",
       "      <td>64</td>\n",
       "      <td>32</td>\n",
       "      <td>U</td>\n",
       "      <td>2</td>\n",
       "      <td>52467</td>\n",
       "      <td>6</td>\n",
       "      <td>9</td>\n",
       "      <td>31-45</td>\n",
       "      <td>Test</td>\n",
       "    </tr>\n",
       "  </tbody>\n",
       "</table>\n",
       "</div>"
      ],
      "text/plain": [
       "   client_id  clnt_tenure_yr  clnt_tenure_mnth  clnt_age gendr  num_accts  \\\n",
       "0     836976               6                73        60     U          2   \n",
       "1    1439522               5                64        32     U          2   \n",
       "\n",
       "     bal  calls_6_mnth  logons_6_mnth age_category variation_test  \n",
       "0  45105             6              9        46-60           Test  \n",
       "1  52467             6              9        31-45           Test  "
      ]
     },
     "execution_count": 36,
     "metadata": {},
     "output_type": "execute_result"
    }
   ],
   "source": [
    "# Let us check our dataset\n",
    "merge_1.head(2)"
   ]
  },
  {
   "cell_type": "code",
   "execution_count": 37,
   "id": "bcca1e4a-0c63-4103-b88e-f0313242f64c",
   "metadata": {},
   "outputs": [
    {
     "data": {
      "text/plain": [
       "(26961, 11)"
      ]
     },
     "execution_count": 37,
     "metadata": {},
     "output_type": "execute_result"
    }
   ],
   "source": [
    "merge_1.shape"
   ]
  },
  {
   "cell_type": "code",
   "execution_count": 38,
   "id": "73d222ce-fd39-484e-8275-4a9d1044fcf2",
   "metadata": {},
   "outputs": [],
   "source": [
    "# now let's merge the dataset of merge_1 and web_data\n",
    "test_merge = pd.merge(web_data, merge_1, on = 'client_id')"
   ]
  },
  {
   "cell_type": "code",
   "execution_count": 39,
   "id": "bb5c59c5-3b1d-4033-9dd3-1897160b89cf",
   "metadata": {},
   "outputs": [
    {
     "data": {
      "text/html": [
       "<div>\n",
       "<style scoped>\n",
       "    .dataframe tbody tr th:only-of-type {\n",
       "        vertical-align: middle;\n",
       "    }\n",
       "\n",
       "    .dataframe tbody tr th {\n",
       "        vertical-align: top;\n",
       "    }\n",
       "\n",
       "    .dataframe thead th {\n",
       "        text-align: right;\n",
       "    }\n",
       "</style>\n",
       "<table border=\"1\" class=\"dataframe\">\n",
       "  <thead>\n",
       "    <tr style=\"text-align: right;\">\n",
       "      <th></th>\n",
       "      <th>client_id</th>\n",
       "      <th>visitor_id</th>\n",
       "      <th>visit_id</th>\n",
       "      <th>process_step</th>\n",
       "      <th>date_time</th>\n",
       "      <th>date</th>\n",
       "      <th>time</th>\n",
       "      <th>year</th>\n",
       "      <th>month</th>\n",
       "      <th>day</th>\n",
       "      <th>clnt_tenure_yr</th>\n",
       "      <th>clnt_tenure_mnth</th>\n",
       "      <th>clnt_age</th>\n",
       "      <th>gendr</th>\n",
       "      <th>num_accts</th>\n",
       "      <th>bal</th>\n",
       "      <th>calls_6_mnth</th>\n",
       "      <th>logons_6_mnth</th>\n",
       "      <th>age_category</th>\n",
       "      <th>variation_test</th>\n",
       "    </tr>\n",
       "  </thead>\n",
       "  <tbody>\n",
       "    <tr>\n",
       "      <th>0</th>\n",
       "      <td>9988021</td>\n",
       "      <td>580560515_7732621733</td>\n",
       "      <td>781255054_21935453173_531117</td>\n",
       "      <td>step_3</td>\n",
       "      <td>4/17/2017 15:27</td>\n",
       "      <td>2017, 27, 17</td>\n",
       "      <td>15, 27, 07</td>\n",
       "      <td>2017</td>\n",
       "      <td>4</td>\n",
       "      <td>17</td>\n",
       "      <td>5</td>\n",
       "      <td>64</td>\n",
       "      <td>79</td>\n",
       "      <td>U</td>\n",
       "      <td>2</td>\n",
       "      <td>189023</td>\n",
       "      <td>1</td>\n",
       "      <td>4</td>\n",
       "      <td>76-96</td>\n",
       "      <td>Test</td>\n",
       "    </tr>\n",
       "    <tr>\n",
       "      <th>1</th>\n",
       "      <td>9988021</td>\n",
       "      <td>580560515_7732621733</td>\n",
       "      <td>781255054_21935453173_531117</td>\n",
       "      <td>step_2</td>\n",
       "      <td>4/17/2017 15:26</td>\n",
       "      <td>2017, 26, 17</td>\n",
       "      <td>15, 26, 51</td>\n",
       "      <td>2017</td>\n",
       "      <td>4</td>\n",
       "      <td>17</td>\n",
       "      <td>5</td>\n",
       "      <td>64</td>\n",
       "      <td>79</td>\n",
       "      <td>U</td>\n",
       "      <td>2</td>\n",
       "      <td>189023</td>\n",
       "      <td>1</td>\n",
       "      <td>4</td>\n",
       "      <td>76-96</td>\n",
       "      <td>Test</td>\n",
       "    </tr>\n",
       "  </tbody>\n",
       "</table>\n",
       "</div>"
      ],
      "text/plain": [
       "   client_id            visitor_id                      visit_id process_step  \\\n",
       "0    9988021  580560515_7732621733  781255054_21935453173_531117       step_3   \n",
       "1    9988021  580560515_7732621733  781255054_21935453173_531117       step_2   \n",
       "\n",
       "         date_time          date        time  year  month  day  \\\n",
       "0  4/17/2017 15:27  2017, 27, 17  15, 27, 07  2017      4   17   \n",
       "1  4/17/2017 15:26  2017, 26, 17  15, 26, 51  2017      4   17   \n",
       "\n",
       "   clnt_tenure_yr  clnt_tenure_mnth  clnt_age gendr  num_accts     bal  \\\n",
       "0               5                64        79     U          2  189023   \n",
       "1               5                64        79     U          2  189023   \n",
       "\n",
       "   calls_6_mnth  logons_6_mnth age_category variation_test  \n",
       "0             1              4        76-96           Test  \n",
       "1             1              4        76-96           Test  "
      ]
     },
     "execution_count": 39,
     "metadata": {},
     "output_type": "execute_result"
    }
   ],
   "source": [
    "# Lets check the dataset\n",
    "test_merge.head(2)"
   ]
  },
  {
   "cell_type": "code",
   "execution_count": 40,
   "id": "74890fe2-38b0-43f5-9c0e-fd893d8ec053",
   "metadata": {},
   "outputs": [
    {
     "data": {
      "text/plain": [
       "(176641, 20)"
      ]
     },
     "execution_count": 40,
     "metadata": {},
     "output_type": "execute_result"
    }
   ],
   "source": [
    "test_merge.shape"
   ]
  },
  {
   "cell_type": "code",
   "execution_count": 41,
   "id": "c1e089e5-e9e8-4463-aa81-778431d97d90",
   "metadata": {},
   "outputs": [],
   "source": [
    "# Let's save the dataset of test_merge\n",
    "test_merge.to_csv(\"test_merge.csv\")"
   ]
  },
  {
   "cell_type": "code",
   "execution_count": 42,
   "id": "47faaa10-d7f7-44b9-99e2-3ed364f16019",
   "metadata": {},
   "outputs": [
    {
     "data": {
      "text/plain": [
       "process_step\n",
       "start      55753\n",
       "step_1     38651\n",
       "step_2     30888\n",
       "step_3     25755\n",
       "confirm    25594\n",
       "Name: count, dtype: int64"
      ]
     },
     "execution_count": 42,
     "metadata": {},
     "output_type": "execute_result"
    }
   ],
   "source": [
    "test_merge['process_step'].value_counts()"
   ]
  },
  {
   "cell_type": "markdown",
   "id": "0b13113b-0f53-4bb3-86a1-aace13889883",
   "metadata": {},
   "source": [
    "Let us move to control group"
   ]
  },
  {
   "cell_type": "code",
   "execution_count": 43,
   "id": "cef7a8ee-bc59-41e7-a6ed-9c941a421c8e",
   "metadata": {},
   "outputs": [],
   "source": [
    "# First we merge control_group with demog\n",
    "merge_2 = pd.merge(demog, control_group, on = 'client_id')"
   ]
  },
  {
   "cell_type": "code",
   "execution_count": 44,
   "id": "e0a38f5a-0930-40fe-8ea8-34d04c01098e",
   "metadata": {},
   "outputs": [
    {
     "data": {
      "text/html": [
       "<div>\n",
       "<style scoped>\n",
       "    .dataframe tbody tr th:only-of-type {\n",
       "        vertical-align: middle;\n",
       "    }\n",
       "\n",
       "    .dataframe tbody tr th {\n",
       "        vertical-align: top;\n",
       "    }\n",
       "\n",
       "    .dataframe thead th {\n",
       "        text-align: right;\n",
       "    }\n",
       "</style>\n",
       "<table border=\"1\" class=\"dataframe\">\n",
       "  <thead>\n",
       "    <tr style=\"text-align: right;\">\n",
       "      <th></th>\n",
       "      <th>client_id</th>\n",
       "      <th>clnt_tenure_yr</th>\n",
       "      <th>clnt_tenure_mnth</th>\n",
       "      <th>clnt_age</th>\n",
       "      <th>gendr</th>\n",
       "      <th>num_accts</th>\n",
       "      <th>bal</th>\n",
       "      <th>calls_6_mnth</th>\n",
       "      <th>logons_6_mnth</th>\n",
       "      <th>age_category</th>\n",
       "      <th>variation_control</th>\n",
       "    </tr>\n",
       "  </thead>\n",
       "  <tbody>\n",
       "    <tr>\n",
       "      <th>0</th>\n",
       "      <td>2304905</td>\n",
       "      <td>7</td>\n",
       "      <td>94</td>\n",
       "      <td>58</td>\n",
       "      <td>U</td>\n",
       "      <td>2</td>\n",
       "      <td>110860</td>\n",
       "      <td>6</td>\n",
       "      <td>9</td>\n",
       "      <td>46-60</td>\n",
       "      <td>Control</td>\n",
       "    </tr>\n",
       "    <tr>\n",
       "      <th>1</th>\n",
       "      <td>5126305</td>\n",
       "      <td>12</td>\n",
       "      <td>145</td>\n",
       "      <td>33</td>\n",
       "      <td>F</td>\n",
       "      <td>2</td>\n",
       "      <td>103671</td>\n",
       "      <td>0</td>\n",
       "      <td>3</td>\n",
       "      <td>31-45</td>\n",
       "      <td>Control</td>\n",
       "    </tr>\n",
       "  </tbody>\n",
       "</table>\n",
       "</div>"
      ],
      "text/plain": [
       "   client_id  clnt_tenure_yr  clnt_tenure_mnth  clnt_age gendr  num_accts  \\\n",
       "0    2304905               7                94        58     U          2   \n",
       "1    5126305              12               145        33     F          2   \n",
       "\n",
       "      bal  calls_6_mnth  logons_6_mnth age_category variation_control  \n",
       "0  110860             6              9        46-60           Control  \n",
       "1  103671             0              3        31-45           Control  "
      ]
     },
     "execution_count": 44,
     "metadata": {},
     "output_type": "execute_result"
    }
   ],
   "source": [
    "merge_2.head(2)"
   ]
  },
  {
   "cell_type": "code",
   "execution_count": 45,
   "id": "7d9a04f9-724b-43d0-85e9-906aedf3ec49",
   "metadata": {},
   "outputs": [],
   "source": [
    "# Now we will merge merge_2 dataset and web_data\n",
    "control_merge = pd.merge(web_data, merge_2, on = 'client_id')"
   ]
  },
  {
   "cell_type": "code",
   "execution_count": 46,
   "id": "164c8cd5-7892-48f5-8936-bd3397d09efc",
   "metadata": {},
   "outputs": [
    {
     "data": {
      "text/html": [
       "<div>\n",
       "<style scoped>\n",
       "    .dataframe tbody tr th:only-of-type {\n",
       "        vertical-align: middle;\n",
       "    }\n",
       "\n",
       "    .dataframe tbody tr th {\n",
       "        vertical-align: top;\n",
       "    }\n",
       "\n",
       "    .dataframe thead th {\n",
       "        text-align: right;\n",
       "    }\n",
       "</style>\n",
       "<table border=\"1\" class=\"dataframe\">\n",
       "  <thead>\n",
       "    <tr style=\"text-align: right;\">\n",
       "      <th></th>\n",
       "      <th>client_id</th>\n",
       "      <th>visitor_id</th>\n",
       "      <th>visit_id</th>\n",
       "      <th>process_step</th>\n",
       "      <th>date_time</th>\n",
       "      <th>date</th>\n",
       "      <th>time</th>\n",
       "      <th>year</th>\n",
       "      <th>month</th>\n",
       "      <th>day</th>\n",
       "      <th>clnt_tenure_yr</th>\n",
       "      <th>clnt_tenure_mnth</th>\n",
       "      <th>clnt_age</th>\n",
       "      <th>gendr</th>\n",
       "      <th>num_accts</th>\n",
       "      <th>bal</th>\n",
       "      <th>calls_6_mnth</th>\n",
       "      <th>logons_6_mnth</th>\n",
       "      <th>age_category</th>\n",
       "      <th>variation_control</th>\n",
       "    </tr>\n",
       "  </thead>\n",
       "  <tbody>\n",
       "    <tr>\n",
       "      <th>0</th>\n",
       "      <td>4033851</td>\n",
       "      <td>762728880_76361333336</td>\n",
       "      <td>949661017_22392791362_127391</td>\n",
       "      <td>confirm</td>\n",
       "      <td>4/5/2017 12:29</td>\n",
       "      <td>2017, 29, 05</td>\n",
       "      <td>12, 29, 03</td>\n",
       "      <td>2017</td>\n",
       "      <td>4</td>\n",
       "      <td>5</td>\n",
       "      <td>12</td>\n",
       "      <td>149</td>\n",
       "      <td>64</td>\n",
       "      <td>M</td>\n",
       "      <td>2</td>\n",
       "      <td>142642</td>\n",
       "      <td>5</td>\n",
       "      <td>8</td>\n",
       "      <td>61-75</td>\n",
       "      <td>Control</td>\n",
       "    </tr>\n",
       "    <tr>\n",
       "      <th>1</th>\n",
       "      <td>4033851</td>\n",
       "      <td>762728880_76361333336</td>\n",
       "      <td>949661017_22392791362_127391</td>\n",
       "      <td>confirm</td>\n",
       "      <td>4/5/2017 12:29</td>\n",
       "      <td>2017, 29, 05</td>\n",
       "      <td>12, 29, 01</td>\n",
       "      <td>2017</td>\n",
       "      <td>4</td>\n",
       "      <td>5</td>\n",
       "      <td>12</td>\n",
       "      <td>149</td>\n",
       "      <td>64</td>\n",
       "      <td>M</td>\n",
       "      <td>2</td>\n",
       "      <td>142642</td>\n",
       "      <td>5</td>\n",
       "      <td>8</td>\n",
       "      <td>61-75</td>\n",
       "      <td>Control</td>\n",
       "    </tr>\n",
       "  </tbody>\n",
       "</table>\n",
       "</div>"
      ],
      "text/plain": [
       "   client_id             visitor_id                      visit_id  \\\n",
       "0    4033851  762728880_76361333336  949661017_22392791362_127391   \n",
       "1    4033851  762728880_76361333336  949661017_22392791362_127391   \n",
       "\n",
       "  process_step       date_time          date        time  year  month  day  \\\n",
       "0      confirm  4/5/2017 12:29  2017, 29, 05  12, 29, 03  2017      4    5   \n",
       "1      confirm  4/5/2017 12:29  2017, 29, 05  12, 29, 01  2017      4    5   \n",
       "\n",
       "   clnt_tenure_yr  clnt_tenure_mnth  clnt_age gendr  num_accts     bal  \\\n",
       "0              12               149        64     M          2  142642   \n",
       "1              12               149        64     M          2  142642   \n",
       "\n",
       "   calls_6_mnth  logons_6_mnth age_category variation_control  \n",
       "0             5              8        61-75           Control  \n",
       "1             5              8        61-75           Control  "
      ]
     },
     "execution_count": 46,
     "metadata": {},
     "output_type": "execute_result"
    }
   ],
   "source": [
    "control_merge.head(2)"
   ]
  },
  {
   "cell_type": "code",
   "execution_count": 47,
   "id": "7d2cf620-4b3f-46aa-9e6e-a34cf247519b",
   "metadata": {},
   "outputs": [
    {
     "data": {
      "text/plain": [
       "(140482, 20)"
      ]
     },
     "execution_count": 47,
     "metadata": {},
     "output_type": "execute_result"
    }
   ],
   "source": [
    "control_merge.shape"
   ]
  },
  {
   "cell_type": "code",
   "execution_count": 48,
   "id": "dfa01313-b2b8-479c-acf8-dfcd04840a58",
   "metadata": {},
   "outputs": [],
   "source": [
    "# Now save it in to csv file\n",
    "control_merge.to_csv(\"control_merge.csv\")"
   ]
  },
  {
   "cell_type": "code",
   "execution_count": 49,
   "id": "057c052b-aa96-451f-9739-8b86de1a7e5c",
   "metadata": {},
   "outputs": [
    {
     "data": {
      "text/plain": [
       "process_step\n",
       "start      45361\n",
       "step_1     29533\n",
       "step_2     25764\n",
       "step_3     22495\n",
       "confirm    17329\n",
       "Name: count, dtype: int64"
      ]
     },
     "execution_count": 49,
     "metadata": {},
     "output_type": "execute_result"
    }
   ],
   "source": [
    "control_merge['process_step'].value_counts()"
   ]
  },
  {
   "cell_type": "markdown",
   "id": "7ad1e068-c6b0-451c-a456-ca1eb9071346",
   "metadata": {},
   "source": [
    "#### Let's sort the control group (control_merge) dataframe based on client_id, visit_id, Process_step, date, time."
   ]
  },
  {
   "cell_type": "code",
   "execution_count": 50,
   "id": "a5f9ded9-4ef8-41bc-9614-fd1bd0f9f969",
   "metadata": {},
   "outputs": [
    {
     "data": {
      "text/plain": [
       "['client_id',\n",
       " 'visitor_id',\n",
       " 'visit_id',\n",
       " 'process_step',\n",
       " 'date_time',\n",
       " 'date',\n",
       " 'time',\n",
       " 'year',\n",
       " 'month',\n",
       " 'day',\n",
       " 'clnt_tenure_yr',\n",
       " 'clnt_tenure_mnth',\n",
       " 'clnt_age',\n",
       " 'gendr',\n",
       " 'num_accts',\n",
       " 'bal',\n",
       " 'calls_6_mnth',\n",
       " 'logons_6_mnth',\n",
       " 'age_category',\n",
       " 'variation_control']"
      ]
     },
     "execution_count": 50,
     "metadata": {},
     "output_type": "execute_result"
    }
   ],
   "source": [
    "# First let's list the columns name \n",
    "list(control_merge.columns.values.tolist())"
   ]
  },
  {
   "cell_type": "code",
   "execution_count": 51,
   "id": "d601f754-d5c8-4c61-b64d-a4718a8c9d93",
   "metadata": {},
   "outputs": [],
   "source": [
    "control_sorted = control_merge.sort_values(['client_id','visit_id', 'process_step', 'date', 'time'], ascending = [True, True, True, True, True])"
   ]
  },
  {
   "cell_type": "code",
   "execution_count": 52,
   "id": "e677aefd-e588-410b-955f-85e6b90a4573",
   "metadata": {},
   "outputs": [
    {
     "data": {
      "text/html": [
       "<div>\n",
       "<style scoped>\n",
       "    .dataframe tbody tr th:only-of-type {\n",
       "        vertical-align: middle;\n",
       "    }\n",
       "\n",
       "    .dataframe tbody tr th {\n",
       "        vertical-align: top;\n",
       "    }\n",
       "\n",
       "    .dataframe thead th {\n",
       "        text-align: right;\n",
       "    }\n",
       "</style>\n",
       "<table border=\"1\" class=\"dataframe\">\n",
       "  <thead>\n",
       "    <tr style=\"text-align: right;\">\n",
       "      <th></th>\n",
       "      <th>client_id</th>\n",
       "      <th>visitor_id</th>\n",
       "      <th>visit_id</th>\n",
       "      <th>process_step</th>\n",
       "      <th>date_time</th>\n",
       "      <th>date</th>\n",
       "      <th>time</th>\n",
       "      <th>year</th>\n",
       "      <th>month</th>\n",
       "      <th>day</th>\n",
       "      <th>clnt_tenure_yr</th>\n",
       "      <th>clnt_tenure_mnth</th>\n",
       "      <th>clnt_age</th>\n",
       "      <th>gendr</th>\n",
       "      <th>num_accts</th>\n",
       "      <th>bal</th>\n",
       "      <th>calls_6_mnth</th>\n",
       "      <th>logons_6_mnth</th>\n",
       "      <th>age_category</th>\n",
       "      <th>variation_control</th>\n",
       "    </tr>\n",
       "  </thead>\n",
       "  <tbody>\n",
       "    <tr>\n",
       "      <th>60086</th>\n",
       "      <td>1028</td>\n",
       "      <td>42237450_62128060588</td>\n",
       "      <td>557292053_87239438319_391157</td>\n",
       "      <td>start</td>\n",
       "      <td>4/8/2017 18:51</td>\n",
       "      <td>2017, 51, 08</td>\n",
       "      <td>18, 51, 28</td>\n",
       "      <td>2017</td>\n",
       "      <td>4</td>\n",
       "      <td>8</td>\n",
       "      <td>12</td>\n",
       "      <td>145</td>\n",
       "      <td>36</td>\n",
       "      <td>M</td>\n",
       "      <td>3</td>\n",
       "      <td>103520</td>\n",
       "      <td>1</td>\n",
       "      <td>4</td>\n",
       "      <td>31-45</td>\n",
       "      <td>Control</td>\n",
       "    </tr>\n",
       "    <tr>\n",
       "      <th>60080</th>\n",
       "      <td>1028</td>\n",
       "      <td>42237450_62128060588</td>\n",
       "      <td>557292053_87239438319_391157</td>\n",
       "      <td>step_1</td>\n",
       "      <td>4/8/2017 19:00</td>\n",
       "      <td>2017, 00, 08</td>\n",
       "      <td>19, 00, 15</td>\n",
       "      <td>2017</td>\n",
       "      <td>4</td>\n",
       "      <td>8</td>\n",
       "      <td>12</td>\n",
       "      <td>145</td>\n",
       "      <td>36</td>\n",
       "      <td>M</td>\n",
       "      <td>3</td>\n",
       "      <td>103520</td>\n",
       "      <td>1</td>\n",
       "      <td>4</td>\n",
       "      <td>31-45</td>\n",
       "      <td>Control</td>\n",
       "    </tr>\n",
       "  </tbody>\n",
       "</table>\n",
       "</div>"
      ],
      "text/plain": [
       "       client_id            visitor_id                      visit_id  \\\n",
       "60086       1028  42237450_62128060588  557292053_87239438319_391157   \n",
       "60080       1028  42237450_62128060588  557292053_87239438319_391157   \n",
       "\n",
       "      process_step       date_time          date        time  year  month  \\\n",
       "60086        start  4/8/2017 18:51  2017, 51, 08  18, 51, 28  2017      4   \n",
       "60080       step_1  4/8/2017 19:00  2017, 00, 08  19, 00, 15  2017      4   \n",
       "\n",
       "       day  clnt_tenure_yr  clnt_tenure_mnth  clnt_age gendr  num_accts  \\\n",
       "60086    8              12               145        36     M          3   \n",
       "60080    8              12               145        36     M          3   \n",
       "\n",
       "          bal  calls_6_mnth  logons_6_mnth age_category variation_control  \n",
       "60086  103520             1              4        31-45           Control  \n",
       "60080  103520             1              4        31-45           Control  "
      ]
     },
     "execution_count": 52,
     "metadata": {},
     "output_type": "execute_result"
    }
   ],
   "source": [
    "control_sorted.head(2)"
   ]
  },
  {
   "cell_type": "code",
   "execution_count": 366,
   "id": "dc29e6d7-e3fd-4ebf-b17f-e9ecd0f9f5c0",
   "metadata": {},
   "outputs": [],
   "source": [
    "# Save control_sorted data\n",
    "control_sorted.to_csv(\"control_sorted.csv\")"
   ]
  },
  {
   "cell_type": "markdown",
   "id": "ed052926-4aae-402c-aa90-016ff30bac31",
   "metadata": {},
   "source": [
    "#### Let's sort the test group (test_merge) dataframe based on client_id, visit_id, Process_step, date, time."
   ]
  },
  {
   "cell_type": "code",
   "execution_count": 53,
   "id": "9e22a8e2-ecad-49e9-8511-feb1733f8ea2",
   "metadata": {},
   "outputs": [],
   "source": [
    "test_sorted = test_merge.sort_values(['client_id', 'visit_id','process_step','date', 'time'], ascending = [True, True, True, True, True])"
   ]
  },
  {
   "cell_type": "code",
   "execution_count": 54,
   "id": "beea5b96-ad5a-4dba-ac05-994cb61d0de0",
   "metadata": {},
   "outputs": [
    {
     "data": {
      "text/html": [
       "<div>\n",
       "<style scoped>\n",
       "    .dataframe tbody tr th:only-of-type {\n",
       "        vertical-align: middle;\n",
       "    }\n",
       "\n",
       "    .dataframe tbody tr th {\n",
       "        vertical-align: top;\n",
       "    }\n",
       "\n",
       "    .dataframe thead th {\n",
       "        text-align: right;\n",
       "    }\n",
       "</style>\n",
       "<table border=\"1\" class=\"dataframe\">\n",
       "  <thead>\n",
       "    <tr style=\"text-align: right;\">\n",
       "      <th></th>\n",
       "      <th>client_id</th>\n",
       "      <th>visitor_id</th>\n",
       "      <th>visit_id</th>\n",
       "      <th>process_step</th>\n",
       "      <th>date_time</th>\n",
       "      <th>date</th>\n",
       "      <th>time</th>\n",
       "      <th>year</th>\n",
       "      <th>month</th>\n",
       "      <th>day</th>\n",
       "      <th>clnt_tenure_yr</th>\n",
       "      <th>clnt_tenure_mnth</th>\n",
       "      <th>clnt_age</th>\n",
       "      <th>gendr</th>\n",
       "      <th>num_accts</th>\n",
       "      <th>bal</th>\n",
       "      <th>calls_6_mnth</th>\n",
       "      <th>logons_6_mnth</th>\n",
       "      <th>age_category</th>\n",
       "      <th>variation_test</th>\n",
       "    </tr>\n",
       "  </thead>\n",
       "  <tbody>\n",
       "    <tr>\n",
       "      <th>43852</th>\n",
       "      <td>555</td>\n",
       "      <td>402506806_56087378777</td>\n",
       "      <td>637149525_38041617439_716659</td>\n",
       "      <td>confirm</td>\n",
       "      <td>4/15/2017 13:00</td>\n",
       "      <td>2017, 00, 15</td>\n",
       "      <td>13, 00, 34</td>\n",
       "      <td>2017</td>\n",
       "      <td>4</td>\n",
       "      <td>15</td>\n",
       "      <td>3</td>\n",
       "      <td>46</td>\n",
       "      <td>30</td>\n",
       "      <td>U</td>\n",
       "      <td>2</td>\n",
       "      <td>25454</td>\n",
       "      <td>2</td>\n",
       "      <td>6</td>\n",
       "      <td>14-30</td>\n",
       "      <td>Test</td>\n",
       "    </tr>\n",
       "    <tr>\n",
       "      <th>43856</th>\n",
       "      <td>555</td>\n",
       "      <td>402506806_56087378777</td>\n",
       "      <td>637149525_38041617439_716659</td>\n",
       "      <td>start</td>\n",
       "      <td>4/15/2017 12:57</td>\n",
       "      <td>2017, 57, 15</td>\n",
       "      <td>12, 57, 56</td>\n",
       "      <td>2017</td>\n",
       "      <td>4</td>\n",
       "      <td>15</td>\n",
       "      <td>3</td>\n",
       "      <td>46</td>\n",
       "      <td>30</td>\n",
       "      <td>U</td>\n",
       "      <td>2</td>\n",
       "      <td>25454</td>\n",
       "      <td>2</td>\n",
       "      <td>6</td>\n",
       "      <td>14-30</td>\n",
       "      <td>Test</td>\n",
       "    </tr>\n",
       "  </tbody>\n",
       "</table>\n",
       "</div>"
      ],
      "text/plain": [
       "       client_id             visitor_id                      visit_id  \\\n",
       "43852        555  402506806_56087378777  637149525_38041617439_716659   \n",
       "43856        555  402506806_56087378777  637149525_38041617439_716659   \n",
       "\n",
       "      process_step        date_time          date        time  year  month  \\\n",
       "43852      confirm  4/15/2017 13:00  2017, 00, 15  13, 00, 34  2017      4   \n",
       "43856        start  4/15/2017 12:57  2017, 57, 15  12, 57, 56  2017      4   \n",
       "\n",
       "       day  clnt_tenure_yr  clnt_tenure_mnth  clnt_age gendr  num_accts  \\\n",
       "43852   15               3                46        30     U          2   \n",
       "43856   15               3                46        30     U          2   \n",
       "\n",
       "         bal  calls_6_mnth  logons_6_mnth age_category variation_test  \n",
       "43852  25454             2              6        14-30           Test  \n",
       "43856  25454             2              6        14-30           Test  "
      ]
     },
     "execution_count": 54,
     "metadata": {},
     "output_type": "execute_result"
    }
   ],
   "source": [
    "test_sorted.head(2)"
   ]
  },
  {
   "cell_type": "code",
   "execution_count": 365,
   "id": "4cdf6ebc-c031-4769-90da-ade86aae16e8",
   "metadata": {},
   "outputs": [],
   "source": [
    "# Save test sorted data\n",
    "test_sorted.to_csv(\"test_sorted.csv\")"
   ]
  },
  {
   "cell_type": "markdown",
   "id": "67f52948-780f-4e07-980c-75decd82f47b",
   "metadata": {},
   "source": [
    "#### Let's do the three kpi's for the control_group \"Completion rate , Average time spent, Time spent on each step, Error rate\""
   ]
  },
  {
   "cell_type": "markdown",
   "id": "0119e65d-f968-4600-9e83-84557c8a4687",
   "metadata": {},
   "source": [
    "#### Completion rate "
   ]
  },
  {
   "cell_type": "markdown",
   "id": "030b21f5-4f12-432f-94ae-ec55c911311f",
   "metadata": {},
   "source": [
    "## Load the data here again to make things simple"
   ]
  },
  {
   "cell_type": "code",
   "execution_count": 114,
   "id": "73076704-74ec-48bc-8d10-1443ca79dbd7",
   "metadata": {},
   "outputs": [],
   "source": [
    "import pandas as pd\n",
    "control_sorted = pd.read_csv(\"control_sorted.csv\")"
   ]
  },
  {
   "cell_type": "code",
   "execution_count": 115,
   "id": "12accca6-04d9-464d-859b-1844a2dc136a",
   "metadata": {},
   "outputs": [
    {
     "data": {
      "text/plain": [
       "17329"
      ]
     },
     "execution_count": 115,
     "metadata": {},
     "output_type": "execute_result"
    }
   ],
   "source": [
    "# Calculate for the total confirmed process step\n",
    "process_step_confirm = len(control_sorted[control_sorted['process_step'] == 'confirm'])\n",
    "process_step_confirm"
   ]
  },
  {
   "cell_type": "code",
   "execution_count": 116,
   "id": "a68d89e0-dae8-43ca-b293-537dff027d4e",
   "metadata": {},
   "outputs": [
    {
     "data": {
      "text/plain": [
       "140482"
      ]
     },
     "execution_count": 116,
     "metadata": {},
     "output_type": "execute_result"
    }
   ],
   "source": [
    "# Calculate for the total process step\n",
    "process_step_total = len(control_sorted['process_step'])\n",
    "process_step_total"
   ]
  },
  {
   "cell_type": "code",
   "execution_count": 117,
   "id": "0e5d052c-df14-4304-80c4-f51a70d08665",
   "metadata": {},
   "outputs": [
    {
     "data": {
      "text/plain": [
       "0.12335388163608149"
      ]
     },
     "execution_count": 117,
     "metadata": {},
     "output_type": "execute_result"
    }
   ],
   "source": [
    "# Calculate for the completion rate\n",
    "completion_rate = (process_step_confirm/process_step_total)\n",
    "completion_rate"
   ]
  },
  {
   "cell_type": "code",
   "execution_count": 118,
   "id": "a93c73a6-9bbf-4095-8fd7-8b798bc9c582",
   "metadata": {},
   "outputs": [],
   "source": [
    "# Open dictionary to store time differences for each client ID\n",
    "control_sorted2 = control_sorted[['client_id','time']]\n",
    "control_sorted2_list = control_sorted2.values.tolist()\n",
    "\n",
    "time_diffs = defaultdict(list)\n",
    "\n",
    "# Parse timestamps and group by client ID\n",
    "for client_id, time in control_sorted2_list:\n",
    "    time_diffs[client_id].append(datetime.strptime(time, '%H, %M, %S'))"
   ]
  },
  {
   "cell_type": "code",
   "execution_count": 119,
   "id": "50bca9a7-7ba1-4441-8735-c703fe1b7ffe",
   "metadata": {},
   "outputs": [],
   "source": [
    "# Calculate time differences for each client ID\n",
    "time_diffrence1 = []\n",
    "time_diffrence2 = []\n",
    "for client_id, time in time_diffs.items():\n",
    "    time.sort()  # Ensure timestamps are sorted\n",
    "    for i in range(1, len(time)):\n",
    "        time_diff = time[i] - time[i - 1]\n",
    "        time_diffrence1.append(client_id)\n",
    "        time_diffrence2.append(time_diff)\n",
    "        #print(f\"Client ID: {client_id}, Time difference: {time_diff}\")"
   ]
  },
  {
   "cell_type": "code",
   "execution_count": 120,
   "id": "3eaa0d64-7ef1-4bed-b42a-1609ccc18965",
   "metadata": {},
   "outputs": [],
   "source": [
    "time_differ1 = pd.DataFrame(time_diffrence1)\n",
    "time_differ2 = pd.DataFrame(time_diffrence2)"
   ]
  },
  {
   "cell_type": "code",
   "execution_count": 121,
   "id": "8aae7c06-71c2-4d61-be16-a5ca9c09d208",
   "metadata": {},
   "outputs": [],
   "source": [
    "# Set the column names for both dataframes\n",
    "time_differ2.columns = ['time_diffrence']\n",
    "time_differ1.columns = ['client_id']"
   ]
  },
  {
   "cell_type": "code",
   "execution_count": 122,
   "id": "ffe32b1b-528d-45cc-a446-c95ba224c0d1",
   "metadata": {},
   "outputs": [],
   "source": [
    "# df2 = pd.concat([df2, extracted_col.rename(\"Col3_from_df1\")], axis=1)\n",
    "time_differ1 = pd.concat([time_differ1, time_differ2], axis = 1)"
   ]
  },
  {
   "cell_type": "code",
   "execution_count": 123,
   "id": "f64d24d4-7e9f-467a-b627-ab71ef255232",
   "metadata": {},
   "outputs": [
    {
     "data": {
      "text/html": [
       "<div>\n",
       "<style scoped>\n",
       "    .dataframe tbody tr th:only-of-type {\n",
       "        vertical-align: middle;\n",
       "    }\n",
       "\n",
       "    .dataframe tbody tr th {\n",
       "        vertical-align: top;\n",
       "    }\n",
       "\n",
       "    .dataframe thead th {\n",
       "        text-align: right;\n",
       "    }\n",
       "</style>\n",
       "<table border=\"1\" class=\"dataframe\">\n",
       "  <thead>\n",
       "    <tr style=\"text-align: right;\">\n",
       "      <th></th>\n",
       "      <th>client_id</th>\n",
       "      <th>time_diffrence</th>\n",
       "    </tr>\n",
       "  </thead>\n",
       "  <tbody>\n",
       "    <tr>\n",
       "      <th>0</th>\n",
       "      <td>1028</td>\n",
       "      <td>0 days 00:00:49</td>\n",
       "    </tr>\n",
       "    <tr>\n",
       "      <th>1</th>\n",
       "      <td>1028</td>\n",
       "      <td>0 days 00:01:03</td>\n",
       "    </tr>\n",
       "    <tr>\n",
       "      <th>2</th>\n",
       "      <td>1028</td>\n",
       "      <td>0 days 00:00:09</td>\n",
       "    </tr>\n",
       "    <tr>\n",
       "      <th>3</th>\n",
       "      <td>1028</td>\n",
       "      <td>0 days 00:04:35</td>\n",
       "    </tr>\n",
       "    <tr>\n",
       "      <th>4</th>\n",
       "      <td>1028</td>\n",
       "      <td>0 days 00:01:51</td>\n",
       "    </tr>\n",
       "  </tbody>\n",
       "</table>\n",
       "</div>"
      ],
      "text/plain": [
       "   client_id  time_diffrence\n",
       "0       1028 0 days 00:00:49\n",
       "1       1028 0 days 00:01:03\n",
       "2       1028 0 days 00:00:09\n",
       "3       1028 0 days 00:04:35\n",
       "4       1028 0 days 00:01:51"
      ]
     },
     "execution_count": 123,
     "metadata": {},
     "output_type": "execute_result"
    }
   ],
   "source": [
    "# total_time spent is equal with time deffrence\n",
    "time_differ1.head()"
   ]
  },
  {
   "cell_type": "code",
   "execution_count": 124,
   "id": "bb13a28a-09b6-44bf-ace5-4e97c6822d8d",
   "metadata": {},
   "outputs": [],
   "source": [
    "time_differ1.to_csv('time_differ1_control.csv')"
   ]
  },
  {
   "cell_type": "code",
   "execution_count": 125,
   "id": "a9f08c73-49e7-4649-979d-033eb4107187",
   "metadata": {},
   "outputs": [
    {
     "data": {
      "text/plain": [
       "Timedelta('1363 days 14:54:24')"
      ]
     },
     "execution_count": 125,
     "metadata": {},
     "output_type": "execute_result"
    }
   ],
   "source": [
    "# total time spent \n",
    "total_time = time_differ1['time_diffrence'].sum()\n",
    "total_time"
   ]
  },
  {
   "cell_type": "code",
   "execution_count": 126,
   "id": "2c158119-a4c9-462b-b741-5e1751e35d8d",
   "metadata": {},
   "outputs": [
    {
     "data": {
      "text/plain": [
       "Timedelta('0 days 00:16:47.360580047')"
      ]
     },
     "execution_count": 126,
     "metadata": {},
     "output_type": "execute_result"
    }
   ],
   "source": [
    "# average time spent \n",
    "avg_time = time_differ1['time_diffrence'].mean()\n",
    "avg_time"
   ]
  },
  {
   "cell_type": "code",
   "execution_count": 127,
   "id": "7735abb8-a6ff-4718-a295-956f9d54d538",
   "metadata": {},
   "outputs": [],
   "source": [
    "# Let's merge time_diffre1 with control_merge based on client_id\n",
    "control_diffre = pd.merge(control_sorted, time_differ1, on = 'client_id')"
   ]
  },
  {
   "cell_type": "code",
   "execution_count": 128,
   "id": "4775f65a-0c2f-4e7c-82f3-5c78437fd8fc",
   "metadata": {},
   "outputs": [
    {
     "data": {
      "text/html": [
       "<div>\n",
       "<style scoped>\n",
       "    .dataframe tbody tr th:only-of-type {\n",
       "        vertical-align: middle;\n",
       "    }\n",
       "\n",
       "    .dataframe tbody tr th {\n",
       "        vertical-align: top;\n",
       "    }\n",
       "\n",
       "    .dataframe thead th {\n",
       "        text-align: right;\n",
       "    }\n",
       "</style>\n",
       "<table border=\"1\" class=\"dataframe\">\n",
       "  <thead>\n",
       "    <tr style=\"text-align: right;\">\n",
       "      <th></th>\n",
       "      <th>client_id</th>\n",
       "      <th>visitor_id</th>\n",
       "      <th>visit_id</th>\n",
       "      <th>process_step</th>\n",
       "      <th>date_time</th>\n",
       "      <th>date</th>\n",
       "      <th>time</th>\n",
       "      <th>year</th>\n",
       "      <th>month</th>\n",
       "      <th>day</th>\n",
       "      <th>...</th>\n",
       "      <th>clnt_tenure_mnth</th>\n",
       "      <th>clnt_age</th>\n",
       "      <th>gendr</th>\n",
       "      <th>num_accts</th>\n",
       "      <th>bal</th>\n",
       "      <th>calls_6_mnth</th>\n",
       "      <th>logons_6_mnth</th>\n",
       "      <th>age_category</th>\n",
       "      <th>variation_control</th>\n",
       "      <th>time_diffrence</th>\n",
       "    </tr>\n",
       "  </thead>\n",
       "  <tbody>\n",
       "    <tr>\n",
       "      <th>0</th>\n",
       "      <td>1028</td>\n",
       "      <td>42237450_62128060588</td>\n",
       "      <td>557292053_87239438319_391157</td>\n",
       "      <td>start</td>\n",
       "      <td>4/8/2017 18:51</td>\n",
       "      <td>2017, 51, 08</td>\n",
       "      <td>18, 51, 28</td>\n",
       "      <td>2017</td>\n",
       "      <td>4</td>\n",
       "      <td>8</td>\n",
       "      <td>...</td>\n",
       "      <td>145</td>\n",
       "      <td>36</td>\n",
       "      <td>M</td>\n",
       "      <td>3</td>\n",
       "      <td>103520</td>\n",
       "      <td>1</td>\n",
       "      <td>4</td>\n",
       "      <td>31-45</td>\n",
       "      <td>Control</td>\n",
       "      <td>0 days 00:00:49</td>\n",
       "    </tr>\n",
       "    <tr>\n",
       "      <th>1</th>\n",
       "      <td>1028</td>\n",
       "      <td>42237450_62128060588</td>\n",
       "      <td>557292053_87239438319_391157</td>\n",
       "      <td>start</td>\n",
       "      <td>4/8/2017 18:51</td>\n",
       "      <td>2017, 51, 08</td>\n",
       "      <td>18, 51, 28</td>\n",
       "      <td>2017</td>\n",
       "      <td>4</td>\n",
       "      <td>8</td>\n",
       "      <td>...</td>\n",
       "      <td>145</td>\n",
       "      <td>36</td>\n",
       "      <td>M</td>\n",
       "      <td>3</td>\n",
       "      <td>103520</td>\n",
       "      <td>1</td>\n",
       "      <td>4</td>\n",
       "      <td>31-45</td>\n",
       "      <td>Control</td>\n",
       "      <td>0 days 00:01:03</td>\n",
       "    </tr>\n",
       "  </tbody>\n",
       "</table>\n",
       "<p>2 rows × 21 columns</p>\n",
       "</div>"
      ],
      "text/plain": [
       "   client_id            visitor_id                      visit_id process_step  \\\n",
       "0       1028  42237450_62128060588  557292053_87239438319_391157        start   \n",
       "1       1028  42237450_62128060588  557292053_87239438319_391157        start   \n",
       "\n",
       "        date_time          date        time  year  month  day  ...  \\\n",
       "0  4/8/2017 18:51  2017, 51, 08  18, 51, 28  2017      4    8  ...   \n",
       "1  4/8/2017 18:51  2017, 51, 08  18, 51, 28  2017      4    8  ...   \n",
       "\n",
       "   clnt_tenure_mnth  clnt_age  gendr num_accts     bal  calls_6_mnth  \\\n",
       "0               145        36      M         3  103520             1   \n",
       "1               145        36      M         3  103520             1   \n",
       "\n",
       "   logons_6_mnth  age_category variation_control  time_diffrence  \n",
       "0              4         31-45           Control 0 days 00:00:49  \n",
       "1              4         31-45           Control 0 days 00:01:03  \n",
       "\n",
       "[2 rows x 21 columns]"
      ]
     },
     "execution_count": 128,
     "metadata": {},
     "output_type": "execute_result"
    }
   ],
   "source": [
    "control_diffre.head(2)"
   ]
  },
  {
   "cell_type": "markdown",
   "id": "9959766a-9ce0-4e73-9e37-2698f44f1e08",
   "metadata": {},
   "source": [
    "### Calculate Time spent on each step"
   ]
  },
  {
   "cell_type": "code",
   "execution_count": 129,
   "id": "aa0480f3-343e-488c-ad41-6ec446f89736",
   "metadata": {},
   "outputs": [],
   "source": [
    "# Add new column imestamp\n",
    "#control_diffre['timestamp'] = control_diffre['time'] + control_diffre['date']"
   ]
  },
  {
   "cell_type": "code",
   "execution_count": 130,
   "id": "e42e53fd-39bc-4811-82ed-5f5d70da2806",
   "metadata": {},
   "outputs": [],
   "source": [
    "# Check the dataframe\n",
    "#control_diffre.head(2)"
   ]
  },
  {
   "cell_type": "code",
   "execution_count": 103,
   "id": "0b238299-1f25-4040-9745-71eec82bb2c3",
   "metadata": {},
   "outputs": [
    {
     "name": "stdout",
     "output_type": "stream",
     "text": [
      "       client_id process_step  date_time\n",
      "0           1028        start        0.0\n",
      "1           1028       step_1        6.0\n",
      "2           1028       step_2        0.0\n",
      "3           1028       step_3       37.5\n",
      "4           1104        start   744120.0\n",
      "...          ...          ...        ...\n",
      "92768    9998346      confirm       42.0\n",
      "92769    9998346        start        0.0\n",
      "92770    9998346       step_1        6.0\n",
      "92771    9998346       step_2        3.0\n",
      "92772    9998346       step_3        2.0\n",
      "\n",
      "[92773 rows x 3 columns]\n"
     ]
    }
   ],
   "source": [
    "# Convert timestamp column to datetime\n",
    "control_diffre['date_time'] = pd.to_datetime(control_diffre['date_time'])\n",
    "\n",
    "# Sort DataFrame by client ID and timestamp\n",
    "control_diffre = control_diffre.sort_values(by=['client_id', 'date_time'])\n",
    "\n",
    "# Calculate time spent on each step for each client\n",
    "control_diffre['date_time'] = control_diffre.groupby('client_id')['date_time'].diff().dt.total_seconds()\n",
    "\n",
    "# Aggregate time spent on each step for each client\n",
    "time_spent_per_step = control_diffre.groupby(['client_id', 'process_step'])['date_time'].sum().reset_index()\n",
    "avg_time_spent_per_step = control_diffre.groupby(['client_id', 'process_step'])['date_time'].mean().reset_index()\n",
    "\n",
    "print(avg_time_spent_per_step)"
   ]
  },
  {
   "cell_type": "code",
   "execution_count": 104,
   "id": "abccc681-3b74-4d0f-93b8-1d860fa41c10",
   "metadata": {},
   "outputs": [
    {
     "data": {
      "text/plain": [
       "8.571428571428571"
      ]
     },
     "execution_count": 104,
     "metadata": {},
     "output_type": "execute_result"
    }
   ],
   "source": [
    "avg_time_spent_per_step['date_time'].median()"
   ]
  },
  {
   "cell_type": "code",
   "execution_count": 65,
   "id": "a5979fd1-ba3c-4342-90cd-ea881f3a52cf",
   "metadata": {},
   "outputs": [],
   "source": [
    "# Save the dataset\n",
    "# avg_time_spent_per_step.to_csv(\"control_avg_time_spent_per_step.csv\")"
   ]
  },
  {
   "cell_type": "markdown",
   "id": "aeafa173-8121-4bdb-b397-7cefc7ddc669",
   "metadata": {},
   "source": [
    "### Calculate Error rate on each step"
   ]
  },
  {
   "cell_type": "markdown",
   "id": "800e842f-6e5d-4e59-853c-0bab7e7920d7",
   "metadata": {},
   "source": [
    "#### Calculation process for submission successeful or not\n",
    "How many unique client Id\n",
    "\n",
    "Then we calculate how many times each client attempt to do the registration. \n",
    "    \n",
    "eg. client 1028, total step taken / 5, devide by five becouse there are five steps a client should take to reach into confirm.\n",
    "\n",
    "We expect in each five step there should be one confirmation to say the process got successful.Else, the process taken was not successful.\n",
    "\n",
    "This formula will tell us how many attempts has been taken by the client \"client 1028, total step taken / 5\". If number of total step taken not devisible by five and even if it is devisible by five , \n",
    "\n",
    "if we do not get one confirm out of any five consequitive step of the processs taken by a client, this indicates that there were an error so that we will take it as 'not successful/False'. \n"
   ]
  },
  {
   "cell_type": "markdown",
   "id": "3f9e0a27-5dc7-4434-b7f1-5c9c72ba2b74",
   "metadata": {},
   "source": [
    "#### submission_successeful \n",
    "num_attempt = len(Unique client ID) devided by 5 ## To know how many attemptes has been taken \n",
    "\n",
    "num_confirm = len(confirm) \n",
    "\n",
    "Example: num_attempt = 50  \n",
    "\n",
    "         num_confirm = 50 , if it is less than 50 there were an error process and we will give \"True\" to number of confirmed five step process and \n",
    "         \n",
    "         \"False\" to the rest five or less than 5 step taken process."
   ]
  },
  {
   "cell_type": "code",
   "execution_count": 269,
   "id": "93297418-6022-465e-a2e3-e93471aa77d7",
   "metadata": {},
   "outputs": [],
   "source": [
    "# store unique client_id\n",
    "client_id_unique = []\n",
    "client_id_unique.append(control_sorted['client_id'].unique())"
   ]
  },
  {
   "cell_type": "code",
   "execution_count": 270,
   "id": "cf8feabe-f8de-4aca-9e47-719b1c61e838",
   "metadata": {},
   "outputs": [],
   "source": [
    "# display the unique client_id's\n",
    "# Get unique client_ids\n",
    "unique_client_ids = control_sorted['client_id'].unique()\n",
    "# Iterate over each unique client_id\n",
    "for client_id in unique_client_ids:\n",
    "    # Extract rows based on the current client_id\n",
    "    client_rows = control_sorted[control_sorted['client_id'] == client_id]"
   ]
  },
  {
   "cell_type": "code",
   "execution_count": 317,
   "id": "e0feb9a0-2f41-4666-bafa-a90353ffd097",
   "metadata": {},
   "outputs": [],
   "source": [
    "def att_conf(unique_client_ids):\n",
    "    for client_id in unique_client_ids:\n",
    "       attempt = control_sorted[control_sorted['client_id'] == client_id] # Extract the rows for each client_Id\n",
    "       len_attempt = len(control_sorted[control_sorted['client_id'] == client_id]) # Sum of how many times apper each client_id in the dataframe\n",
    "       num_attempt = len_attempt/5 # How many events(True or False) are there in each 5 steps (how many full process were there?)\n",
    "       num_confirm = len(attempt [attempt['process_step'] == 'confirm']) # How many confirm events are there in a specific client_id\n",
    "       print(client_id, ',' , num_attempt,',', num_confirm)"
   ]
  },
  {
   "cell_type": "markdown",
   "id": "9411b80d-f9df-4b12-b739-244b14228dbd",
   "metadata": {
    "jp-MarkdownHeadingCollapsed": true
   },
   "source": [
    "Now we take the number of confirm events and analyse it to Shows that there were no success then we will consider there were 9 attemptes \n",
    "that was unsccessful and, we will add 2 False value to the 'SubmissionSuccessful' column. And, we do the same for each client_id. \n",
    "\n",
    "We get and determine how many number of True or False we should include in submission_successful column. Number of confirm will tell us how many True events and to get False events we subtract Number of confirm from number of attempts. Then, we collect True and  False values to the submission_successful list."
   ]
  },
  {
   "cell_type": "code",
   "execution_count": 321,
   "id": "cb0ff856-c82b-4574-830d-4ebe623ea29e",
   "metadata": {},
   "outputs": [
    {
     "data": {
      "text/html": [
       "<div>\n",
       "<style scoped>\n",
       "    .dataframe tbody tr th:only-of-type {\n",
       "        vertical-align: middle;\n",
       "    }\n",
       "\n",
       "    .dataframe tbody tr th {\n",
       "        vertical-align: top;\n",
       "    }\n",
       "\n",
       "    .dataframe thead th {\n",
       "        text-align: right;\n",
       "    }\n",
       "</style>\n",
       "<table border=\"1\" class=\"dataframe\">\n",
       "  <thead>\n",
       "    <tr style=\"text-align: right;\">\n",
       "      <th></th>\n",
       "      <th>client_id</th>\n",
       "      <th>date_time</th>\n",
       "    </tr>\n",
       "  </thead>\n",
       "  <tbody>\n",
       "    <tr>\n",
       "      <th>60086</th>\n",
       "      <td>1028</td>\n",
       "      <td>4/8/2017 18:51</td>\n",
       "    </tr>\n",
       "    <tr>\n",
       "      <th>60081</th>\n",
       "      <td>1028</td>\n",
       "      <td>4/8/2017 18:59</td>\n",
       "    </tr>\n",
       "    <tr>\n",
       "      <th>113923</th>\n",
       "      <td>1104</td>\n",
       "      <td>6/20/2017 22:31</td>\n",
       "    </tr>\n",
       "    <tr>\n",
       "      <th>6023</th>\n",
       "      <td>1195</td>\n",
       "      <td>4/5/2017 20:19</td>\n",
       "    </tr>\n",
       "    <tr>\n",
       "      <th>14225</th>\n",
       "      <td>1197</td>\n",
       "      <td>4/1/2017 17:17</td>\n",
       "    </tr>\n",
       "  </tbody>\n",
       "</table>\n",
       "</div>"
      ],
      "text/plain": [
       "        client_id        date_time\n",
       "60086        1028   4/8/2017 18:51\n",
       "60081        1028   4/8/2017 18:59\n",
       "113923       1104  6/20/2017 22:31\n",
       "6023         1195   4/5/2017 20:19\n",
       "14225        1197   4/1/2017 17:17"
      ]
     },
     "execution_count": 321,
     "metadata": {},
     "output_type": "execute_result"
    }
   ],
   "source": [
    "# Here we will extract client_id with the date_time in 5 steps of interval.\n",
    "df_error = control_sorted[['client_id','date_time']]\n",
    "extracted_rows = df_error.iloc[::5]\n",
    "extracted_rows.head()"
   ]
  },
  {
   "cell_type": "code",
   "execution_count": 322,
   "id": "225dbdf2-b949-455c-96de-e55e41172520",
   "metadata": {},
   "outputs": [
    {
     "data": {
      "text/html": [
       "<div>\n",
       "<style scoped>\n",
       "    .dataframe tbody tr th:only-of-type {\n",
       "        vertical-align: middle;\n",
       "    }\n",
       "\n",
       "    .dataframe tbody tr th {\n",
       "        vertical-align: top;\n",
       "    }\n",
       "\n",
       "    .dataframe thead th {\n",
       "        text-align: right;\n",
       "    }\n",
       "</style>\n",
       "<table border=\"1\" class=\"dataframe\">\n",
       "  <thead>\n",
       "    <tr style=\"text-align: right;\">\n",
       "      <th></th>\n",
       "      <th>client_id</th>\n",
       "      <th>num_attempt</th>\n",
       "      <th>num_confirm</th>\n",
       "      <th>is_confirmation</th>\n",
       "    </tr>\n",
       "  </thead>\n",
       "  <tbody>\n",
       "    <tr>\n",
       "      <th>0</th>\n",
       "      <td>1028</td>\n",
       "      <td>1.8</td>\n",
       "      <td>0</td>\n",
       "      <td>False</td>\n",
       "    </tr>\n",
       "    <tr>\n",
       "      <th>1</th>\n",
       "      <td>1104</td>\n",
       "      <td>0.4</td>\n",
       "      <td>0</td>\n",
       "      <td>False</td>\n",
       "    </tr>\n",
       "    <tr>\n",
       "      <th>2</th>\n",
       "      <td>1186</td>\n",
       "      <td>0.8</td>\n",
       "      <td>0</td>\n",
       "      <td>False</td>\n",
       "    </tr>\n",
       "    <tr>\n",
       "      <th>3</th>\n",
       "      <td>1195</td>\n",
       "      <td>1.0</td>\n",
       "      <td>1</td>\n",
       "      <td>True</td>\n",
       "    </tr>\n",
       "    <tr>\n",
       "      <th>4</th>\n",
       "      <td>1197</td>\n",
       "      <td>1.4</td>\n",
       "      <td>1</td>\n",
       "      <td>True</td>\n",
       "    </tr>\n",
       "  </tbody>\n",
       "</table>\n",
       "</div>"
      ],
      "text/plain": [
       "   client_id  num_attempt  num_confirm  is_confirmation\n",
       "0       1028          1.8            0            False\n",
       "1       1104          0.4            0            False\n",
       "2       1186          0.8            0            False\n",
       "3       1195          1.0            1             True\n",
       "4       1197          1.4            1             True"
      ]
     },
     "execution_count": 322,
     "metadata": {},
     "output_type": "execute_result"
    }
   ],
   "source": [
    "# Let's import our unique client_id with their attempt and confirm event \n",
    "control_unique_id = pd.read_csv('cotrol_unique_client_id.csv')\n",
    "control_unique_id.head()"
   ]
  },
  {
   "cell_type": "code",
   "execution_count": 339,
   "id": "46f2edb6-54cf-40de-9a4a-fc82636586ec",
   "metadata": {},
   "outputs": [
    {
     "data": {
      "text/plain": [
       "(23526, 4)"
      ]
     },
     "execution_count": 339,
     "metadata": {},
     "output_type": "execute_result"
    }
   ],
   "source": [
    "control_unique_id.shape"
   ]
  },
  {
   "cell_type": "code",
   "execution_count": 323,
   "id": "01ab96dd-8a97-41fa-90a5-342fcc8b52d3",
   "metadata": {},
   "outputs": [
    {
     "data": {
      "text/plain": [
       "is_confirmation\n",
       "True     15428\n",
       "False     8098\n",
       "Name: count, dtype: int64"
      ]
     },
     "execution_count": 323,
     "metadata": {},
     "output_type": "execute_result"
    }
   ],
   "source": [
    "control_unique_id['is_confirmation'].value_counts()"
   ]
  },
  {
   "cell_type": "code",
   "execution_count": 328,
   "id": "148e222d-0725-43c3-9d0d-b2645883c708",
   "metadata": {
    "scrolled": true
   },
   "outputs": [
    {
     "data": {
      "text/html": [
       "<div>\n",
       "<style scoped>\n",
       "    .dataframe tbody tr th:only-of-type {\n",
       "        vertical-align: middle;\n",
       "    }\n",
       "\n",
       "    .dataframe tbody tr th {\n",
       "        vertical-align: top;\n",
       "    }\n",
       "\n",
       "    .dataframe thead th {\n",
       "        text-align: right;\n",
       "    }\n",
       "</style>\n",
       "<table border=\"1\" class=\"dataframe\">\n",
       "  <thead>\n",
       "    <tr style=\"text-align: right;\">\n",
       "      <th></th>\n",
       "      <th>client_id</th>\n",
       "      <th>date_time</th>\n",
       "      <th>num_attempt</th>\n",
       "      <th>num_confirm</th>\n",
       "      <th>is_confirmation</th>\n",
       "    </tr>\n",
       "  </thead>\n",
       "  <tbody>\n",
       "    <tr>\n",
       "      <th>0</th>\n",
       "      <td>1028</td>\n",
       "      <td>4/8/2017 18:51</td>\n",
       "      <td>1.8</td>\n",
       "      <td>0</td>\n",
       "      <td>False</td>\n",
       "    </tr>\n",
       "    <tr>\n",
       "      <th>1</th>\n",
       "      <td>1028</td>\n",
       "      <td>4/8/2017 18:59</td>\n",
       "      <td>1.8</td>\n",
       "      <td>0</td>\n",
       "      <td>False</td>\n",
       "    </tr>\n",
       "    <tr>\n",
       "      <th>2</th>\n",
       "      <td>1104</td>\n",
       "      <td>6/20/2017 22:31</td>\n",
       "      <td>0.4</td>\n",
       "      <td>0</td>\n",
       "      <td>False</td>\n",
       "    </tr>\n",
       "    <tr>\n",
       "      <th>3</th>\n",
       "      <td>1195</td>\n",
       "      <td>4/5/2017 20:19</td>\n",
       "      <td>1.0</td>\n",
       "      <td>1</td>\n",
       "      <td>True</td>\n",
       "    </tr>\n",
       "    <tr>\n",
       "      <th>4</th>\n",
       "      <td>1197</td>\n",
       "      <td>4/1/2017 17:17</td>\n",
       "      <td>1.4</td>\n",
       "      <td>1</td>\n",
       "      <td>True</td>\n",
       "    </tr>\n",
       "  </tbody>\n",
       "</table>\n",
       "</div>"
      ],
      "text/plain": [
       "   client_id        date_time  num_attempt  num_confirm  is_confirmation\n",
       "0       1028   4/8/2017 18:51          1.8            0            False\n",
       "1       1028   4/8/2017 18:59          1.8            0            False\n",
       "2       1104  6/20/2017 22:31          0.4            0            False\n",
       "3       1195   4/5/2017 20:19          1.0            1             True\n",
       "4       1197   4/1/2017 17:17          1.4            1             True"
      ]
     },
     "execution_count": 328,
     "metadata": {},
     "output_type": "execute_result"
    }
   ],
   "source": [
    "# Let's merge the dataset\n",
    "df_err_rate = pd.merge(extracted_rows, control_unique_id, on = \"client_id\")\n",
    "df_err_rate.head()"
   ]
  },
  {
   "cell_type": "code",
   "execution_count": 329,
   "id": "b7562082-9f79-481e-b54b-df38f8dadb74",
   "metadata": {},
   "outputs": [
    {
     "data": {
      "text/plain": [
       "(28097, 5)"
      ]
     },
     "execution_count": 329,
     "metadata": {},
     "output_type": "execute_result"
    }
   ],
   "source": [
    "df_err_rate.shape"
   ]
  },
  {
   "cell_type": "code",
   "execution_count": 334,
   "id": "6859fb12-a2ac-4fa9-95e2-5456189d5724",
   "metadata": {},
   "outputs": [
    {
     "data": {
      "text/plain": [
       "is_confirmation\n",
       "True     21610\n",
       "False     6487\n",
       "Name: count, dtype: int64"
      ]
     },
     "execution_count": 334,
     "metadata": {},
     "output_type": "execute_result"
    }
   ],
   "source": [
    "df_err_rate['is_confirmation'].value_counts()"
   ]
  },
  {
   "cell_type": "code",
   "execution_count": 343,
   "id": "17d47e52-bc39-4b9b-a97b-0148008b78f7",
   "metadata": {},
   "outputs": [
    {
     "name": "stdout",
     "output_type": "stream",
     "text": [
      "23 || 77\n"
     ]
    }
   ],
   "source": [
    "total_submissions = 28097\n",
    "confirmed_submissions = 21610\n",
    "error_submissions = 6487\n",
    "error_rate = round((error_submissions / total_submissions) * 100)\n",
    "confirmation_rate = round((confirmed_submissions / total_submissions) * 100)\n",
    "print(error_rate, \"||\", confirmation_rate )"
   ]
  },
  {
   "cell_type": "markdown",
   "id": "32b7e6b5-ee10-48ee-aca2-c80251bbbe58",
   "metadata": {},
   "source": [
    "Let us check and verify with the unique client_id."
   ]
  },
  {
   "cell_type": "code",
   "execution_count": 344,
   "id": "d41d1bc5-bd0f-4bb6-945a-0caa1ce82c02",
   "metadata": {},
   "outputs": [],
   "source": [
    "total_submission = 23526\n",
    "confirmed_submission = 15428\n",
    "error_rate = 8098\n",
    "error_rate = round((error_submissions / total_submissions) * 100)\n",
    "confirmation_rate = round((confirmed_submissions / total_submissions) * 100)"
   ]
  },
  {
   "cell_type": "code",
   "execution_count": 345,
   "id": "b1f587ac-79fc-4b87-85a8-7bdad8d6f8e3",
   "metadata": {},
   "outputs": [
    {
     "name": "stdout",
     "output_type": "stream",
     "text": [
      "23 || 77\n"
     ]
    }
   ],
   "source": [
    "print(error_rate, \"||\", confirmation_rate )"
   ]
  },
  {
   "cell_type": "code",
   "execution_count": null,
   "id": "6771fd0c-72e6-4cbe-9a0e-1b757f9f7ade",
   "metadata": {},
   "outputs": [],
   "source": []
  }
 ],
 "metadata": {
  "kernelspec": {
   "display_name": "Python 3 (ipykernel)",
   "language": "python",
   "name": "python3"
  },
  "language_info": {
   "codemirror_mode": {
    "name": "ipython",
    "version": 3
   },
   "file_extension": ".py",
   "mimetype": "text/x-python",
   "name": "python",
   "nbconvert_exporter": "python",
   "pygments_lexer": "ipython3",
   "version": "3.11.7"
  }
 },
 "nbformat": 4,
 "nbformat_minor": 5
}
