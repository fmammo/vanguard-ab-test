{
 "cells": [
  {
   "cell_type": "markdown",
   "id": "45589ba3",
   "metadata": {},
   "source": [
    "## Exploratory Data Analysis"
   ]
  },
  {
   "cell_type": "markdown",
   "id": "fc65b787-8acd-4ccb-be9e-d9541f75064b",
   "metadata": {},
   "source": [
    "### EDA for Client demographic data"
   ]
  },
  {
   "cell_type": "markdown",
   "id": "08dd7f0d",
   "metadata": {},
   "source": [
    "#### Import necessary libraries"
   ]
  },
  {
   "cell_type": "code",
   "execution_count": 4,
   "id": "6ad600d7",
   "metadata": {},
   "outputs": [],
   "source": [
    "# Load necessary libraries\n",
    "import pandas as pd\n",
    "import numpy as np\n",
    "import scipy as sc\n",
    "from collections import defaultdict\n",
    "from datetime import datetime\n",
    "import time\n",
    "import matplotlib.pyplot as plt\n",
    "import seaborn as sns\n",
    "%matplotlib inline"
   ]
  },
  {
   "cell_type": "code",
   "execution_count": 8,
   "id": "8b8f1ba1",
   "metadata": {},
   "outputs": [],
   "source": [
    "# Load the data\n",
    "demog = pd.read_csv('demog.csv')\n",
    "demog.head(2)"
   ]
  },
  {
   "cell_type": "markdown",
   "id": "9f43fd54-cf43-4686-bb84-c78f527f4b8c",
   "metadata": {},
   "source": [
    "Since our data is more or less clean we will start exploring by deviding it in to numerical and catagorical variables. So, We will create one for each variable. "
   ]
  },
  {
   "cell_type": "code",
   "execution_count": null,
   "id": "621a7919-2a77-4e3b-a44b-d1bcf0c94f39",
   "metadata": {
    "scrolled": true
   },
   "outputs": [],
   "source": [
    "# Drop unnamed: 0 column \n",
    "#demo = demog.drop('Unnamed: 0', axis = 'columns')\n",
    "#demo.head(2)"
   ]
  },
  {
   "cell_type": "code",
   "execution_count": null,
   "id": "ecaf4d36-0a92-4e77-9a9b-cdf3e85b79eb",
   "metadata": {},
   "outputs": [],
   "source": [
    "demog.shape"
   ]
  },
  {
   "cell_type": "code",
   "execution_count": null,
   "id": "92a93226-1a7d-4d12-a62d-8022097b09e1",
   "metadata": {},
   "outputs": [],
   "source": [
    "# Extract column names with numerical datatype\n",
    "demog.select_dtypes(\"number\").columns"
   ]
  },
  {
   "cell_type": "code",
   "execution_count": null,
   "id": "9115ea63-17a5-4448-b1f9-3542c9cd798f",
   "metadata": {},
   "outputs": [],
   "source": [
    "# Count and sort the unique values of each numeriacl variables\n",
    "demo_num = demog.select_dtypes(\"number\").nunique().sort_values(ascending = False)\n",
    "demo_num"
   ]
  },
  {
   "cell_type": "markdown",
   "id": "e2548b0e-b35b-41a8-aee2-3141590cd8c6",
   "metadata": {},
   "source": [
    "Lat's take gendr and do the exploration."
   ]
  },
  {
   "cell_type": "code",
   "execution_count": null,
   "id": "52bef234-5e53-4869-aa91-552ff35719d4",
   "metadata": {},
   "outputs": [],
   "source": [
    "# Frequency table for grnder\n",
    "freq_tab = demog['gendr'].value_counts()\n",
    "freq_tab"
   ]
  },
  {
   "cell_type": "code",
   "execution_count": null,
   "id": "ca5db4bb-9be7-4d08-9e68-499365551a82",
   "metadata": {},
   "outputs": [],
   "source": [
    "prop_table = pd.crosstab(index = demog['gendr'], columns = \"count\")\n",
    "(prop_table/prop_table.sum()).round(2)"
   ]
  },
  {
   "cell_type": "markdown",
   "id": "ceb91187-82ef-47cc-b429-8b6761f6e33b",
   "metadata": {},
   "source": [
    "Insight: * The most common gender classification is Male, Female, and Undisclosed. That comprising approximately 34%, 34% and 32% respectively.\n",
    "         \n",
    "         * The last which is the least frequent gender is Unspecified, making up only 3."
   ]
  },
  {
   "cell_type": "code",
   "execution_count": null,
   "id": "449d4dee-fb10-43e3-b13d-2db45f4fb380",
   "metadata": {},
   "outputs": [],
   "source": [
    "#ax=sns.barplot(y=prop_table.index, x=freq_tab.values, hue=freq_tab.index)\n",
    "#sns.move_legend(ax, \"lower right\")\n",
    "sns.barplot(y = freq_tab.values, x = prop_table.index, hue = freq_tab.index)\n",
    "plt.show()"
   ]
  },
  {
   "cell_type": "markdown",
   "id": "71c11fce-8373-4493-a355-d76d8c6718fd",
   "metadata": {},
   "source": [
    "From the above chart we observe the same result as the value counts. Three of the gender group covers almost the whole portion, which is Female, Male and Undisclosed. "
   ]
  },
  {
   "cell_type": "markdown",
   "id": "33f59322-661d-4142-b5d4-f747012ab131",
   "metadata": {},
   "source": [
    "Now let's move in to the numerical Vs Catagorical variables. And answer the questions like: \n",
    "1. Who are the primary clients using this online process? From the above analysis we can say that; the primary clients in gender wise are Female, Male and Undisclosed.\r",
    "2. \n",
    "Are the primary clients younger or older, new or long-standing? From the below graph we can understand that most of the clients are young and middle age. Most of them are in the year between 6 to 21 since they have joined. And the rest have been staying between 36 to 62 years."
   ]
  },
  {
   "cell_type": "code",
   "execution_count": null,
   "id": "0c92a2c5-3cc1-489b-8b5c-6d3f166d2eb9",
   "metadata": {},
   "outputs": [],
   "source": [
    "demo_num.head()"
   ]
  },
  {
   "cell_type": "code",
   "execution_count": null,
   "id": "2ac921e3-b264-4938-82b9-643114e6774b",
   "metadata": {},
   "outputs": [],
   "source": [
    "# The top 20 who stayed longer and lesser \n",
    "top20_year_long = demog['clnt_tenure_yr'].value_counts().head(20)\n",
    "# Top 20 who stayed lesser\n",
    "top20_year_new = demog['clnt_tenure_yr'].value_counts().sort_values().head(20)\n",
    "top20_year_long"
   ]
  },
  {
   "cell_type": "code",
   "execution_count": null,
   "id": "4a038a6c-eff2-45a9-9a50-076dba1cd46a",
   "metadata": {},
   "outputs": [],
   "source": [
    "conditions = [\n",
    "    (demog['clnt_age']>=14) & (demog['clnt_age']<=30),\n",
    "    (demog['clnt_age']>=31) & (demog['clnt_age']<=45),\n",
    "    (demog['clnt_age']>=46) & (demog['clnt_age']<=60),\n",
    "    (demog['clnt_age']>=61) & (demog['clnt_age']<=75),\n",
    "    (demog['clnt_age']>=76) & (demog['clnt_age']<=96),\n",
    "]\n",
    "\n",
    "values = ['14-30','31-45','46-60','61-75','76-96']\n",
    "demog['age_category'] = np.select(conditions, values)"
   ]
  },
  {
   "cell_type": "code",
   "execution_count": null,
   "id": "2e112b3d-a2e0-4f94-bf95-e8e0977ec0af",
   "metadata": {},
   "outputs": [],
   "source": [
    "demog.head()"
   ]
  },
  {
   "cell_type": "code",
   "execution_count": null,
   "id": "ef02c6d7-09f5-4d82-ab69-67db3ad59a0a",
   "metadata": {},
   "outputs": [],
   "source": [
    "pd.crosstab(demog['age_category'],demog['gendr']).plot.bar()\n",
    "plt.show()"
   ]
  },
  {
   "cell_type": "code",
   "execution_count": null,
   "id": "f1f9747d-115b-4576-8873-90310f125972",
   "metadata": {},
   "outputs": [],
   "source": [
    "demog['num_accts'].value_counts().sort_values()"
   ]
  },
  {
   "cell_type": "code",
   "execution_count": null,
   "id": "a0add752-e64c-4dac-aea9-9cc3e1b99bce",
   "metadata": {},
   "outputs": [],
   "source": [
    "#Let's see gender by number of accounts.\n",
    "pd.crosstab(demog['num_accts'],demog['gendr']).plot.bar()\n",
    "plt.show()"
   ]
  },
  {
   "cell_type": "code",
   "execution_count": null,
   "id": "69dc71a0-9a2a-43b7-8fff-49fb99f2de8f",
   "metadata": {},
   "outputs": [],
   "source": [
    "demog['num_accts'].value_counts().plot.pie(startangle=90, colors=sns.color_palette(\"Set3\"));\n",
    "plt.show()"
   ]
  },
  {
   "cell_type": "markdown",
   "id": "b0bb1346-f614-487d-bb3a-e3236aa24b65",
   "metadata": {},
   "source": [
    "### EDA for Web_Data"
   ]
  },
  {
   "cell_type": "code",
   "execution_count": null,
   "id": "fd3b3f7b-1251-494e-b2e2-16ed335e003d",
   "metadata": {
    "scrolled": true
   },
   "outputs": [],
   "source": [
    "web_data = pd.read_csv('web_data.csv')\n",
    "web_data.head(2)"
   ]
  },
  {
   "cell_type": "code",
   "execution_count": null,
   "id": "c887a724-84d1-4043-8b4c-3d7730fadea2",
   "metadata": {
    "scrolled": true
   },
   "outputs": [],
   "source": [
    "#web_data = web_data.drop('Unnamed: 0', axis = 'columns')\n",
    "#web_data.head(2)"
   ]
  },
  {
   "cell_type": "code",
   "execution_count": null,
   "id": "4c541751-dc70-4cfa-ba58-5eed31ecfae6",
   "metadata": {},
   "outputs": [],
   "source": [
    "web_data['process_step'].value_counts()"
   ]
  },
  {
   "cell_type": "code",
   "execution_count": null,
   "id": "f4b17436-2a77-4146-9e5d-429b79bb36ef",
   "metadata": {},
   "outputs": [],
   "source": [
    "web_data.shape"
   ]
  },
  {
   "cell_type": "code",
   "execution_count": null,
   "id": "2a5b9f91-a973-4deb-9b20-17a5bd990642",
   "metadata": {},
   "outputs": [],
   "source": [
    "web_data.nunique()"
   ]
  },
  {
   "cell_type": "markdown",
   "id": "6073f179-244f-4075-8572-bce78737d456",
   "metadata": {},
   "source": [
    "Let's calculate the time difference.  "
   ]
  },
  {
   "cell_type": "markdown",
   "id": "a7da165a-0483-40a8-a31a-b884f407d577",
   "metadata": {},
   "source": [
    "Now let us extract the confirmed and start processes step and save it in to csv file."
   ]
  },
  {
   "cell_type": "code",
   "execution_count": null,
   "id": "4fdd3831-0054-4ed3-8da1-c8bf77ebbbce",
   "metadata": {},
   "outputs": [],
   "source": [
    "pro_start = web_data[web_data[\"process_step\"] == \"start\"]\n",
    "pro_start.shape"
   ]
  },
  {
   "cell_type": "code",
   "execution_count": null,
   "id": "64bb6496-de01-4b48-bf8e-9a6cfa787964",
   "metadata": {},
   "outputs": [],
   "source": [
    "pro_confirm = web_data[web_data[\"process_step\"] == \"confirm\"]\n",
    "pro_confirm.shape"
   ]
  },
  {
   "cell_type": "code",
   "execution_count": null,
   "id": "bac91a39-3076-4169-89c4-9b8114e9320e",
   "metadata": {},
   "outputs": [],
   "source": [
    "# Now let's save both files in to csv format\n",
    "pro_start.to_csv(\"pro_start.csv\")\n",
    "pro_confirm.to_csv(\"pro_confirm.csv\")"
   ]
  },
  {
   "cell_type": "markdown",
   "id": "3c245d7d-36ec-4ad2-8131-01925b99d32d",
   "metadata": {},
   "source": [
    "### EDA for final experement client data"
   ]
  },
  {
   "cell_type": "code",
   "execution_count": null,
   "id": "ba916fb5-cc56-49f0-97af-03043c8a9014",
   "metadata": {},
   "outputs": [],
   "source": [
    "final_ex = pd.read_csv('final_ex.csv')\n",
    "final_ex.head()"
   ]
  },
  {
   "cell_type": "code",
   "execution_count": null,
   "id": "096a578f-3140-4d0c-8985-041ba75dcd69",
   "metadata": {},
   "outputs": [],
   "source": [
    "# Drop the Unnamed: 0 column\n",
    "#final_ex.head(2)"
   ]
  },
  {
   "cell_type": "code",
   "execution_count": null,
   "id": "618a5bd8-caae-4cf8-815c-0f8258558f3c",
   "metadata": {},
   "outputs": [],
   "source": [
    "final_ex.nunique()"
   ]
  },
  {
   "cell_type": "code",
   "execution_count": null,
   "id": "352ade4a-3981-45d6-8da0-7759007fd72c",
   "metadata": {},
   "outputs": [],
   "source": [
    "final_ex['variation'].value_counts()"
   ]
  },
  {
   "cell_type": "markdown",
   "id": "fab69fa8-c8d8-46e8-8d29-74521c36607c",
   "metadata": {},
   "source": [
    "Let's devide the dataset in to two \\Test and Control group\\"
   ]
  },
  {
   "cell_type": "code",
   "execution_count": null,
   "id": "fa2435a9-0432-45fa-8daf-e11157cab06f",
   "metadata": {},
   "outputs": [],
   "source": [
    "test_group = final_ex[final_ex[\"variation\"] == \"Test\"]\n",
    "test_group.shape"
   ]
  },
  {
   "cell_type": "code",
   "execution_count": null,
   "id": "9f88f5cc-7a6d-4ceb-8727-e96ea0bceeb1",
   "metadata": {},
   "outputs": [],
   "source": [
    "# Since we will merge the datasets let's change the column names of variations accordingly\n",
    "test_group.columns = ['client_id', 'variation_test']\n",
    "test_group.head(2)"
   ]
  },
  {
   "cell_type": "code",
   "execution_count": null,
   "id": "7487a2d5-04af-424a-8b22-f4cc08b0bff0",
   "metadata": {},
   "outputs": [],
   "source": [
    "control_group = final_ex[final_ex[\"variation\"] == \"Control\"]\n",
    "control_group.shape"
   ]
  },
  {
   "cell_type": "code",
   "execution_count": null,
   "id": "e0069a6c-5c6c-40fe-9eb2-55125e65db11",
   "metadata": {},
   "outputs": [],
   "source": [
    "control_group.columns = ['client_id', 'variation_control']\n",
    "control_group.head(2)"
   ]
  },
  {
   "cell_type": "code",
   "execution_count": null,
   "id": "ac31fdfd-90be-4bf3-950f-a68fc3f29ec9",
   "metadata": {},
   "outputs": [],
   "source": [
    "# Let's save them to csv file\n",
    "test_group.to_csv(\"test_group.csv\")\n",
    "control_group.to_csv(\"control_group.csv\")"
   ]
  },
  {
   "cell_type": "markdown",
   "id": "e1b20829-9ffe-4718-9b98-8c61729c2efb",
   "metadata": {},
   "source": [
    "Let's merge the data first for test group then control group"
   ]
  },
  {
   "cell_type": "code",
   "execution_count": null,
   "id": "46087b9e-13ac-4b48-abb9-73218c53b53d",
   "metadata": {},
   "outputs": [],
   "source": [
    "#Let us merge the dataset based on client_ID for test group and demog\n",
    "merge_1 = pd.merge(demog, test_group, on='client_id')"
   ]
  },
  {
   "cell_type": "code",
   "execution_count": null,
   "id": "77c686a7-13f3-4399-89eb-45306071b982",
   "metadata": {},
   "outputs": [],
   "source": [
    "# Let us check our dataset\n",
    "merge_1.head(2)"
   ]
  },
  {
   "cell_type": "code",
   "execution_count": null,
   "id": "bcca1e4a-0c63-4103-b88e-f0313242f64c",
   "metadata": {},
   "outputs": [],
   "source": [
    "merge_1.shape"
   ]
  },
  {
   "cell_type": "code",
   "execution_count": null,
   "id": "73d222ce-fd39-484e-8275-4a9d1044fcf2",
   "metadata": {},
   "outputs": [],
   "source": [
    "# now let's merge the dataset of merge_1 and web_data\n",
    "test_merge = pd.merge(web_data, merge_1, on = 'client_id')"
   ]
  },
  {
   "cell_type": "code",
   "execution_count": null,
   "id": "bb5c59c5-3b1d-4033-9dd3-1897160b89cf",
   "metadata": {},
   "outputs": [],
   "source": [
    "# Lets check the dataset\n",
    "test_merge.head(2)"
   ]
  },
  {
   "cell_type": "code",
   "execution_count": null,
   "id": "74890fe2-38b0-43f5-9c0e-fd893d8ec053",
   "metadata": {},
   "outputs": [],
   "source": [
    "test_merge.shape"
   ]
  },
  {
   "cell_type": "code",
   "execution_count": null,
   "id": "c1e089e5-e9e8-4463-aa81-778431d97d90",
   "metadata": {},
   "outputs": [],
   "source": [
    "# Let's save the dataset of test_merge\n",
    "test_merge.to_csv(\"test_merge.csv\")"
   ]
  },
  {
   "cell_type": "code",
   "execution_count": null,
   "id": "47faaa10-d7f7-44b9-99e2-3ed364f16019",
   "metadata": {},
   "outputs": [],
   "source": [
    "test_merge['process_step'].value_counts()"
   ]
  },
  {
   "cell_type": "markdown",
   "id": "0b13113b-0f53-4bb3-86a1-aace13889883",
   "metadata": {},
   "source": [
    "Let us move to control group"
   ]
  },
  {
   "cell_type": "code",
   "execution_count": null,
   "id": "cef7a8ee-bc59-41e7-a6ed-9c941a421c8e",
   "metadata": {},
   "outputs": [],
   "source": [
    "# First we merge control_group with demog\n",
    "merge_2 = pd.merge(demog, control_group, on = 'client_id')"
   ]
  },
  {
   "cell_type": "code",
   "execution_count": null,
   "id": "e0a38f5a-0930-40fe-8ea8-34d04c01098e",
   "metadata": {},
   "outputs": [],
   "source": [
    "merge_2.head(2)"
   ]
  },
  {
   "cell_type": "code",
   "execution_count": null,
   "id": "7d9a04f9-724b-43d0-85e9-906aedf3ec49",
   "metadata": {},
   "outputs": [],
   "source": [
    "# Now we will merge merge_2 dataset and web_data\n",
    "control_merge = pd.merge(web_data, merge_2, on = 'client_id')"
   ]
  },
  {
   "cell_type": "code",
   "execution_count": null,
   "id": "164c8cd5-7892-48f5-8936-bd3397d09efc",
   "metadata": {},
   "outputs": [],
   "source": [
    "control_merge.head(2)"
   ]
  },
  {
   "cell_type": "code",
   "execution_count": null,
   "id": "7d2cf620-4b3f-46aa-9e6e-a34cf247519b",
   "metadata": {},
   "outputs": [],
   "source": [
    "control_merge.shape"
   ]
  },
  {
   "cell_type": "code",
   "execution_count": null,
   "id": "dfa01313-b2b8-479c-acf8-dfcd04840a58",
   "metadata": {},
   "outputs": [],
   "source": [
    "# Now save it in to csv file\n",
    "control_merge.to_csv(\"control_merge.csv\")"
   ]
  },
  {
   "cell_type": "code",
   "execution_count": null,
   "id": "057c052b-aa96-451f-9739-8b86de1a7e5c",
   "metadata": {},
   "outputs": [],
   "source": [
    "control_merge['process_step'].value_counts()"
   ]
  },
  {
   "cell_type": "markdown",
   "id": "7ad1e068-c6b0-451c-a456-ca1eb9071346",
   "metadata": {},
   "source": [
    "#### Let's sort the control group (control_merge) dataframe based on client_id, visit_id, Process_step, date, time."
   ]
  },
  {
   "cell_type": "code",
   "execution_count": null,
   "id": "a5f9ded9-4ef8-41bc-9614-fd1bd0f9f969",
   "metadata": {},
   "outputs": [],
   "source": [
    "# First let's list the columns name \n",
    "list(control_merge.columns.values.tolist())"
   ]
  },
  {
   "cell_type": "code",
   "execution_count": null,
   "id": "d601f754-d5c8-4c61-b64d-a4718a8c9d93",
   "metadata": {},
   "outputs": [],
   "source": [
    "control_sorted = control_merge.sort_values(['client_id','visit_id', 'process_step', 'date', 'time'], ascending = [True, True, True, True, True])"
   ]
  },
  {
   "cell_type": "code",
   "execution_count": null,
   "id": "e677aefd-e588-410b-955f-85e6b90a4573",
   "metadata": {},
   "outputs": [],
   "source": [
    "control_sorted.head(2)"
   ]
  },
  {
   "cell_type": "code",
   "execution_count": null,
   "id": "dc29e6d7-e3fd-4ebf-b17f-e9ecd0f9f5c0",
   "metadata": {},
   "outputs": [],
   "source": [
    "# Save control_sorted data\n",
    "control_sorted.to_csv(\"control_sorted.csv\")"
   ]
  },
  {
   "cell_type": "markdown",
   "id": "ed052926-4aae-402c-aa90-016ff30bac31",
   "metadata": {},
   "source": [
    "#### Let's sort the test group (test_merge) dataframe based on client_id, visit_id, Process_step, date, time."
   ]
  },
  {
   "cell_type": "code",
   "execution_count": null,
   "id": "9e22a8e2-ecad-49e9-8511-feb1733f8ea2",
   "metadata": {},
   "outputs": [],
   "source": [
    "test_sorted = test_merge.sort_values(['client_id', 'visit_id','process_step','date', 'time'], ascending = [True, True, True, True, True])"
   ]
  },
  {
   "cell_type": "code",
   "execution_count": null,
   "id": "beea5b96-ad5a-4dba-ac05-994cb61d0de0",
   "metadata": {},
   "outputs": [],
   "source": [
    "test_sorted.head(2)"
   ]
  },
  {
   "cell_type": "code",
   "execution_count": null,
   "id": "4cdf6ebc-c031-4769-90da-ade86aae16e8",
   "metadata": {},
   "outputs": [],
   "source": [
    "# Save test sorted data\n",
    "test_sorted.to_csv(\"test_sorted.csv\")"
   ]
  },
  {
   "cell_type": "code",
   "execution_count": null,
   "id": "93297418-6022-465e-a2e3-e93471aa77d7",
   "metadata": {},
   "outputs": [],
   "source": [
    "# store unique client_id\n",
    "client_id_unique = []\n",
    "client_id_unique.append(control_sorted['client_id'].unique())"
   ]
  },
  {
   "cell_type": "code",
   "execution_count": null,
   "id": "cf8feabe-f8de-4aca-9e47-719b1c61e838",
   "metadata": {},
   "outputs": [],
   "source": [
    "# display the unique client_id's\n",
    "# Get unique client_ids\n",
    "unique_client_ids = control_sorted['client_id'].unique()\n",
    "# Iterate over each unique client_id\n",
    "for client_id in unique_client_ids:\n",
    "    # Extract rows based on the current client_id\n",
    "    client_rows = control_sorted[control_sorted['client_id'] == client_id]"
   ]
  },
  {
   "cell_type": "code",
   "execution_count": null,
   "id": "e0feb9a0-2f41-4666-bafa-a90353ffd097",
   "metadata": {},
   "outputs": [],
   "source": [
    "def att_conf(unique_client_ids):\n",
    "    for client_id in unique_client_ids:\n",
    "       attempt = control_sorted[control_sorted['client_id'] == client_id] # Extract the rows for each client_Id\n",
    "       len_attempt = len(control_sorted[control_sorted['client_id'] == client_id]) # Sum of how many times apper each client_id in the dataframe\n",
    "       num_attempt = len_attempt/5 # How many events(True or False) are there in each 5 steps (how many full process were there?)\n",
    "       num_confirm = len(attempt [attempt['process_step'] == 'confirm']) # How many confirm events are there in a specific client_id\n",
    "       print(client_id, ',' , num_attempt,',', num_confirm)"
   ]
  },
  {
   "cell_type": "markdown",
   "id": "9411b80d-f9df-4b12-b739-244b14228dbd",
   "metadata": {
    "jp-MarkdownHeadingCollapsed": true
   },
   "source": [
    "Now we take the number of confirm events and analyse it to Shows that there were no success then we will consider there were 9 attemptes \n",
    "that was unsccessful and, we will add 2 False value to the 'SubmissionSuccessful' column. And, we do the same for each client_id. \n",
    "\n",
    "We get and determine how many number of True or False we should include in submission_successful column. Number of confirm will tell us how many True events and to get False events we subtract Number of confirm from number of attempts. Then, we collect True and  False values to the submission_successful list."
   ]
  },
  {
   "cell_type": "code",
   "execution_count": null,
   "id": "cb0ff856-c82b-4574-830d-4ebe623ea29e",
   "metadata": {},
   "outputs": [],
   "source": [
    "# Here we will extract client_id with the date_time in 5 steps of interval.\n",
    "df_error = control_sorted[['client_id','date_time']]\n",
    "extracted_rows = df_error.iloc[::5]\n",
    "extracted_rows.head()"
   ]
  },
  {
   "cell_type": "code",
   "execution_count": null,
   "id": "225dbdf2-b949-455c-96de-e55e41172520",
   "metadata": {},
   "outputs": [],
   "source": [
    "# Let's import our unique client_id with their attempt and confirm event \n",
    "control_unique_id = pd.read_csv('cotrol_unique_client_id.csv')\n",
    "control_unique_id.head()"
   ]
  },
  {
   "cell_type": "code",
   "execution_count": null,
   "id": "46f2edb6-54cf-40de-9a4a-fc82636586ec",
   "metadata": {},
   "outputs": [],
   "source": [
    "control_unique_id.shape"
   ]
  },
  {
   "cell_type": "code",
   "execution_count": null,
   "id": "01ab96dd-8a97-41fa-90a5-342fcc8b52d3",
   "metadata": {},
   "outputs": [],
   "source": [
    "control_unique_id['is_confirmation'].value_counts()"
   ]
  },
  {
   "cell_type": "code",
   "execution_count": null,
   "id": "148e222d-0725-43c3-9d0d-b2645883c708",
   "metadata": {
    "scrolled": true
   },
   "outputs": [],
   "source": [
    "# Let's merge the dataset\n",
    "df_err_rate = pd.merge(extracted_rows, control_unique_id, on = \"client_id\")\n",
    "df_err_rate.head()"
   ]
  },
  {
   "cell_type": "code",
   "execution_count": null,
   "id": "b7562082-9f79-481e-b54b-df38f8dadb74",
   "metadata": {},
   "outputs": [],
   "source": [
    "df_err_rate.shape"
   ]
  },
  {
   "cell_type": "code",
   "execution_count": null,
   "id": "6859fb12-a2ac-4fa9-95e2-5456189d5724",
   "metadata": {},
   "outputs": [],
   "source": [
    "df_err_rate['is_confirmation'].value_counts()"
   ]
  },
  {
   "cell_type": "code",
   "execution_count": null,
   "id": "17d47e52-bc39-4b9b-a97b-0148008b78f7",
   "metadata": {},
   "outputs": [],
   "source": [
    "total_submissions = 28097\n",
    "confirmed_submissions = 21610\n",
    "error_submissions = 6487\n",
    "error_rate = round((error_submissions / total_submissions) * 100)\n",
    "confirmation_rate = round((confirmed_submissions / total_submissions) * 100)\n",
    "print(error_rate, \"||\", confirmation_rate )"
   ]
  },
  {
   "cell_type": "markdown",
   "id": "32b7e6b5-ee10-48ee-aca2-c80251bbbe58",
   "metadata": {},
   "source": [
    "Let us check and verify with the unique client_id."
   ]
  },
  {
   "cell_type": "code",
   "execution_count": null,
   "id": "d41d1bc5-bd0f-4bb6-945a-0caa1ce82c02",
   "metadata": {},
   "outputs": [],
   "source": [
    "total_submission = 23526\n",
    "confirmed_submission = 15428\n",
    "error_rate = 8098\n",
    "error_rate = round((error_submissions / total_submissions) * 100)\n",
    "confirmation_rate = round((confirmed_submissions / total_submissions) * 100)"
   ]
  },
  {
   "cell_type": "code",
   "execution_count": null,
   "id": "b1f587ac-79fc-4b87-85a8-7bdad8d6f8e3",
   "metadata": {},
   "outputs": [],
   "source": [
    "print(error_rate, \"||\", confirmation_rate )"
   ]
  },
  {
   "cell_type": "code",
   "execution_count": null,
   "id": "6771fd0c-72e6-4cbe-9a0e-1b757f9f7ade",
   "metadata": {},
   "outputs": [],
   "source": []
  }
 ],
 "metadata": {
  "kernelspec": {
   "display_name": "Python 3 (ipykernel)",
   "language": "python",
   "name": "python3"
  },
  "language_info": {
   "codemirror_mode": {
    "name": "ipython",
    "version": 3
   },
   "file_extension": ".py",
   "mimetype": "text/x-python",
   "name": "python",
   "nbconvert_exporter": "python",
   "pygments_lexer": "ipython3",
   "version": "3.11.7"
  }
 },
 "nbformat": 4,
 "nbformat_minor": 5
}
