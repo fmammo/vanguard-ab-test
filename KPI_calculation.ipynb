{
 "cells": [
  {
   "cell_type": "markdown",
   "id": "69d94dc7-e36b-49b6-abf5-c2d34d358296",
   "metadata": {},
   "source": [
    "Here we will do the four kpi's (Key performance indicator) for both control and test group and we will compare them so that we know how the new design performed."
   ]
  },
  {
   "cell_type": "markdown",
   "id": "c88bce4e-5035-4f0a-91be-c07bfa49c902",
   "metadata": {},
   "source": [
    "#### Let's do the four kpi's for the control_group \"Completion rate , Average time spent, Time spent on each step, Error rate\" for Test group"
   ]
  },
  {
   "cell_type": "code",
   "execution_count": 2,
   "id": "806f8d32-4826-47a0-a0db-6b8dd89436ee",
   "metadata": {},
   "outputs": [],
   "source": [
    "# Load necessary libraries\n",
    "import pandas as pd\n",
    "import numpy as np\n",
    "from collections import defaultdict\n",
    "from datetime import datetime\n",
    "import time"
   ]
  },
  {
   "cell_type": "code",
   "execution_count": 8,
   "id": "2a8f2120-9cb6-4194-a4dc-363ea12eb4c7",
   "metadata": {},
   "outputs": [
    {
     "data": {
      "text/html": [
       "<div>\n",
       "<style scoped>\n",
       "    .dataframe tbody tr th:only-of-type {\n",
       "        vertical-align: middle;\n",
       "    }\n",
       "\n",
       "    .dataframe tbody tr th {\n",
       "        vertical-align: top;\n",
       "    }\n",
       "\n",
       "    .dataframe thead th {\n",
       "        text-align: right;\n",
       "    }\n",
       "</style>\n",
       "<table border=\"1\" class=\"dataframe\">\n",
       "  <thead>\n",
       "    <tr style=\"text-align: right;\">\n",
       "      <th></th>\n",
       "      <th>client_id</th>\n",
       "      <th>visitor_id</th>\n",
       "      <th>visit_id</th>\n",
       "      <th>process_step</th>\n",
       "      <th>date_time</th>\n",
       "      <th>date</th>\n",
       "      <th>time</th>\n",
       "      <th>year</th>\n",
       "      <th>month</th>\n",
       "      <th>day</th>\n",
       "      <th>clnt_tenure_yr</th>\n",
       "      <th>clnt_tenure_mnth</th>\n",
       "      <th>clnt_age</th>\n",
       "      <th>gendr</th>\n",
       "      <th>num_accts</th>\n",
       "      <th>bal</th>\n",
       "      <th>calls_6_mnth</th>\n",
       "      <th>logons_6_mnth</th>\n",
       "      <th>age_category</th>\n",
       "      <th>variation_test</th>\n",
       "    </tr>\n",
       "  </thead>\n",
       "  <tbody>\n",
       "    <tr>\n",
       "      <th>0</th>\n",
       "      <td>555</td>\n",
       "      <td>402506806_56087378777</td>\n",
       "      <td>637149525_38041617439_716659</td>\n",
       "      <td>confirm</td>\n",
       "      <td>4/15/2017 13:00</td>\n",
       "      <td>2017, 00, 15</td>\n",
       "      <td>13, 00, 34</td>\n",
       "      <td>2017</td>\n",
       "      <td>4</td>\n",
       "      <td>15</td>\n",
       "      <td>3</td>\n",
       "      <td>46</td>\n",
       "      <td>30</td>\n",
       "      <td>U</td>\n",
       "      <td>2</td>\n",
       "      <td>25454</td>\n",
       "      <td>2</td>\n",
       "      <td>6</td>\n",
       "      <td>14-30</td>\n",
       "      <td>Test</td>\n",
       "    </tr>\n",
       "    <tr>\n",
       "      <th>1</th>\n",
       "      <td>555</td>\n",
       "      <td>402506806_56087378777</td>\n",
       "      <td>637149525_38041617439_716659</td>\n",
       "      <td>start</td>\n",
       "      <td>4/15/2017 12:57</td>\n",
       "      <td>2017, 57, 15</td>\n",
       "      <td>12, 57, 56</td>\n",
       "      <td>2017</td>\n",
       "      <td>4</td>\n",
       "      <td>15</td>\n",
       "      <td>3</td>\n",
       "      <td>46</td>\n",
       "      <td>30</td>\n",
       "      <td>U</td>\n",
       "      <td>2</td>\n",
       "      <td>25454</td>\n",
       "      <td>2</td>\n",
       "      <td>6</td>\n",
       "      <td>14-30</td>\n",
       "      <td>Test</td>\n",
       "    </tr>\n",
       "  </tbody>\n",
       "</table>\n",
       "</div>"
      ],
      "text/plain": [
       "   client_id             visitor_id                      visit_id  \\\n",
       "0        555  402506806_56087378777  637149525_38041617439_716659   \n",
       "1        555  402506806_56087378777  637149525_38041617439_716659   \n",
       "\n",
       "  process_step        date_time          date        time  year  month  day  \\\n",
       "0      confirm  4/15/2017 13:00  2017, 00, 15  13, 00, 34  2017      4   15   \n",
       "1        start  4/15/2017 12:57  2017, 57, 15  12, 57, 56  2017      4   15   \n",
       "\n",
       "   clnt_tenure_yr  clnt_tenure_mnth  clnt_age gendr  num_accts    bal  \\\n",
       "0               3                46        30     U          2  25454   \n",
       "1               3                46        30     U          2  25454   \n",
       "\n",
       "   calls_6_mnth  logons_6_mnth age_category variation_test  \n",
       "0             2              6        14-30           Test  \n",
       "1             2              6        14-30           Test  "
      ]
     },
     "execution_count": 8,
     "metadata": {},
     "output_type": "execute_result"
    }
   ],
   "source": [
    "# load the data\n",
    "test_sorted = pd.read_csv(\"test_sorted.csv\")\n",
    "test_sorted.head(2)"
   ]
  },
  {
   "cell_type": "markdown",
   "id": "388c4695-3b92-4159-9b27-349e7a6948c9",
   "metadata": {},
   "source": [
    "#### Completion rate"
   ]
  },
  {
   "cell_type": "code",
   "execution_count": 9,
   "id": "39e7cad1-d5fc-42f2-bea6-ee0c020f913b",
   "metadata": {},
   "outputs": [
    {
     "data": {
      "text/plain": [
       "25594"
      ]
     },
     "execution_count": 9,
     "metadata": {},
     "output_type": "execute_result"
    }
   ],
   "source": [
    "# Calculate for the total confirmed process step\n",
    "process_step_confirm = len(test_sorted[test_sorted['process_step'] == 'confirm'])\n",
    "process_step_confirm"
   ]
  },
  {
   "cell_type": "code",
   "execution_count": 10,
   "id": "920f8e40-48e0-460a-90f8-b3501ed1d6d5",
   "metadata": {},
   "outputs": [
    {
     "data": {
      "text/plain": [
       "55753"
      ]
     },
     "execution_count": 10,
     "metadata": {},
     "output_type": "execute_result"
    }
   ],
   "source": [
    "# Calculate for the total start process step\n",
    "process_step_start = len(test_sorted[test_sorted['process_step'] == 'start'])\n",
    "process_step_start"
   ]
  },
  {
   "cell_type": "code",
   "execution_count": 11,
   "id": "e7c60ef9-01a1-4604-91e3-6148c318a954",
   "metadata": {},
   "outputs": [
    {
     "data": {
      "text/plain": [
       "46"
      ]
     },
     "execution_count": 11,
     "metadata": {},
     "output_type": "execute_result"
    }
   ],
   "source": [
    "# Calculate for the completion rate\n",
    "completion_rate = round((process_step_confirm/process_step_start) * 100)\n",
    "completion_rate"
   ]
  },
  {
   "cell_type": "markdown",
   "id": "78de7da6-e4d1-43ae-9ec7-1a5c577c4e7d",
   "metadata": {},
   "source": [
    "#### Average time spent"
   ]
  },
  {
   "cell_type": "code",
   "execution_count": 15,
   "id": "2fbf44a2-c63e-4f22-a8be-672c4806f09b",
   "metadata": {},
   "outputs": [],
   "source": [
    "# Open dictionary to store time differences for each client ID\n",
    "test_sorted2 = test_sorted[['client_id','time']]\n",
    "test_sorted2_list = test_sorted2.values.tolist()\n",
    "\n",
    "time_diffs = defaultdict(list)\n",
    "\n",
    "# Parse timestamps and group by client ID\n",
    "for client_id, time in test_sorted2_list:\n",
    "    time_diffs[client_id].append(datetime.strptime(time, '%H, %M, %S'))"
   ]
  },
  {
   "cell_type": "code",
   "execution_count": 16,
   "id": "5171791e-0c24-4695-a782-fb0a19aeadba",
   "metadata": {},
   "outputs": [],
   "source": [
    "# Calculate time differences for each client ID\n",
    "time_diffrence1 = []\n",
    "time_diffrence2 = []\n",
    "for client_id, time in time_diffs.items():\n",
    "    time.sort()  # Ensure timestamps are sorted\n",
    "    for i in range(1, len(time)):\n",
    "        time_diff = time[i] - time[i - 1]\n",
    "        time_diffrence1.append(client_id)\n",
    "        time_diffrence2.append(time_diff)\n",
    "        #print(f\"Client ID: {client_id}, Time difference: {time_diff}\")"
   ]
  },
  {
   "cell_type": "code",
   "execution_count": 17,
   "id": "493bc8d4-364a-4063-8362-3d12ca28d89d",
   "metadata": {},
   "outputs": [],
   "source": [
    "time_differ1 = pd.DataFrame(time_diffrence1)\n",
    "time_differ2 = pd.DataFrame(time_diffrence2)"
   ]
  },
  {
   "cell_type": "code",
   "execution_count": 18,
   "id": "c5698094-c7b8-43eb-88d8-6c6c7118b472",
   "metadata": {},
   "outputs": [],
   "source": [
    "# Set the column names for both dataframes\n",
    "time_differ2.columns = ['time_diffrence']\n",
    "time_differ1.columns = ['client_id']"
   ]
  },
  {
   "cell_type": "code",
   "execution_count": 19,
   "id": "9905e63b-475e-4db7-a782-880514eed3b3",
   "metadata": {},
   "outputs": [],
   "source": [
    "# Add them\n",
    "time_differ1 = pd.concat([time_differ1, time_differ2], axis = 1)"
   ]
  },
  {
   "cell_type": "code",
   "execution_count": 21,
   "id": "c03deb2d-29f3-4f18-804a-9c30f573ceb6",
   "metadata": {},
   "outputs": [
    {
     "data": {
      "text/html": [
       "<div>\n",
       "<style scoped>\n",
       "    .dataframe tbody tr th:only-of-type {\n",
       "        vertical-align: middle;\n",
       "    }\n",
       "\n",
       "    .dataframe tbody tr th {\n",
       "        vertical-align: top;\n",
       "    }\n",
       "\n",
       "    .dataframe thead th {\n",
       "        text-align: right;\n",
       "    }\n",
       "</style>\n",
       "<table border=\"1\" class=\"dataframe\">\n",
       "  <thead>\n",
       "    <tr style=\"text-align: right;\">\n",
       "      <th></th>\n",
       "      <th>client_id</th>\n",
       "      <th>time_diffrence</th>\n",
       "    </tr>\n",
       "  </thead>\n",
       "  <tbody>\n",
       "    <tr>\n",
       "      <th>0</th>\n",
       "      <td>555</td>\n",
       "      <td>0 days 00:00:07</td>\n",
       "    </tr>\n",
       "    <tr>\n",
       "      <th>1</th>\n",
       "      <td>555</td>\n",
       "      <td>0 days 00:00:32</td>\n",
       "    </tr>\n",
       "    <tr>\n",
       "      <th>2</th>\n",
       "      <td>555</td>\n",
       "      <td>0 days 00:01:39</td>\n",
       "    </tr>\n",
       "    <tr>\n",
       "      <th>3</th>\n",
       "      <td>555</td>\n",
       "      <td>0 days 00:00:20</td>\n",
       "    </tr>\n",
       "    <tr>\n",
       "      <th>4</th>\n",
       "      <td>647</td>\n",
       "      <td>0 days 00:00:07</td>\n",
       "    </tr>\n",
       "  </tbody>\n",
       "</table>\n",
       "</div>"
      ],
      "text/plain": [
       "   client_id  time_diffrence\n",
       "0        555 0 days 00:00:07\n",
       "1        555 0 days 00:00:32\n",
       "2        555 0 days 00:01:39\n",
       "3        555 0 days 00:00:20\n",
       "4        647 0 days 00:00:07"
      ]
     },
     "execution_count": 21,
     "metadata": {},
     "output_type": "execute_result"
    }
   ],
   "source": [
    "# total_time spent is equal/ same  with time deffrence\n",
    "time_differ1.head()"
   ]
  },
  {
   "cell_type": "code",
   "execution_count": 20,
   "id": "2c88b9f2-f099-4ba9-90e4-2ce3c48764a4",
   "metadata": {},
   "outputs": [
    {
     "data": {
      "text/plain": [
       "Timedelta('1624 days 05:10:41')"
      ]
     },
     "execution_count": 20,
     "metadata": {},
     "output_type": "execute_result"
    }
   ],
   "source": [
    "# total time spent \n",
    "total_time = time_differ1['time_diffrence'].sum()\n",
    "total_time"
   ]
  },
  {
   "cell_type": "code",
   "execution_count": 22,
   "id": "31c4e3f5-47cc-4ae4-8e0a-b1f9a1fcfaa0",
   "metadata": {},
   "outputs": [
    {
     "data": {
      "text/plain": [
       "Timedelta('0 days 00:15:37.548376536')"
      ]
     },
     "execution_count": 22,
     "metadata": {},
     "output_type": "execute_result"
    }
   ],
   "source": [
    "# average time spent \n",
    "avg_time = time_differ1['time_diffrence'].mean()\n",
    "avg_time"
   ]
  },
  {
   "cell_type": "code",
   "execution_count": 23,
   "id": "01f45ac7-f148-4b95-a1b4-c07ed6fad9a6",
   "metadata": {},
   "outputs": [],
   "source": [
    "# Let's merge time_diffre1 with test_merge based on client_id\n",
    "test_diffre = pd.merge(test_sorted, time_differ1, on = 'client_id')"
   ]
  },
  {
   "cell_type": "code",
   "execution_count": null,
   "id": "6a609240-ea6b-4362-b8d3-2ca590560ccf",
   "metadata": {},
   "outputs": [],
   "source": []
  }
 ],
 "metadata": {
  "kernelspec": {
   "display_name": "Python 3 (ipykernel)",
   "language": "python",
   "name": "python3"
  },
  "language_info": {
   "codemirror_mode": {
    "name": "ipython",
    "version": 3
   },
   "file_extension": ".py",
   "mimetype": "text/x-python",
   "name": "python",
   "nbconvert_exporter": "python",
   "pygments_lexer": "ipython3",
   "version": "3.11.7"
  }
 },
 "nbformat": 4,
 "nbformat_minor": 5
}
