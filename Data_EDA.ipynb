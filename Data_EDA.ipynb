{
 "cells": [
  {
   "cell_type": "markdown",
   "id": "d9c055a0",
   "metadata": {},
   "source": [
    "1. EDA and Data Cleaning\n",
    "2. Performance Metrics\n",
    "3. Hypothesis testing\n",
    "4. Experiment Evaluation\n",
    "5. Tableau\n",
    "\n",
    "* Goal: to see if the new design leads to a better user experience and higher process completion rates.\n",
    "* The critical question was: Would these changes encourage more clients to complete the process?\n",
    "* Primary objective is to decode the experiment’s performance. \n",
    "\n",
    "* A\\B Testing: Control group and Test group.\n",
    "* Variation: an identical process sequence: an initial page, three subsequent steps, and finally, a confirmation page signaling process completion.\n",
    "\n",
    "\n",
    "1. Client Profiles (df_final_demo): Demographics like age, gender, and account details of our clients.\n",
    "2. Digital Footprints (df_final_web_data): A detailed trace of client interactions online, divided into two parts: pt_1 and pt_2. It’s recommended to merge these two files prior to a comprehensive data analysis.\n",
    "3. Experiment Roster (df_final_experiment_clients): A list revealing which clients were part of the grand experiment\n",
    "\n",
    "* Gender :  'U' as undisclosed  AND  'X' as unspecified."
   ]
  },
  {
   "cell_type": "markdown",
   "id": "45589ba3",
   "metadata": {},
   "source": [
    "### Exploratory Data Analysis"
   ]
  },
  {
   "cell_type": "markdown",
   "id": "08dd7f0d",
   "metadata": {},
   "source": [
    "#### Import necessary libraries"
   ]
  },
  {
   "cell_type": "code",
   "execution_count": 2,
   "id": "6ad600d7",
   "metadata": {},
   "outputs": [],
   "source": [
    "import pandas as pd\n",
    "import numpy as np\n",
    "import scipy as sc\n",
    "import matplotlib.pyplot as plt\n",
    "import seaborn as sns\n",
    "%matplotlib inline"
   ]
  },
  {
   "cell_type": "code",
   "execution_count": null,
   "id": "8b8f1ba1",
   "metadata": {},
   "outputs": [],
   "source": []
  }
 ],
 "metadata": {
  "kernelspec": {
   "display_name": "Python 3",
   "language": "python",
   "name": "python3"
  },
  "language_info": {
   "codemirror_mode": {
    "name": "ipython",
    "version": 3
   },
   "file_extension": ".py",
   "mimetype": "text/x-python",
   "name": "python",
   "nbconvert_exporter": "python",
   "pygments_lexer": "ipython3",
   "version": "3.6.8"
  }
 },
 "nbformat": 4,
 "nbformat_minor": 5
}
