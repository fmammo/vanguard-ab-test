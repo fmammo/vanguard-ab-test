{
 "cells": [
  {
   "cell_type": "markdown",
   "id": "d9c055a0",
   "metadata": {},
   "source": [
    "1. EDA and Data Cleaning\n",
    "2. Performance Metrics\n",
    "3. Hypothesis testing\n",
    "4. Experiment Evaluation\n",
    "5. Tableau\n",
    "\n",
    "* Goal: to see if the new design leads to a better user experience and higher process completion rates.\n",
    "* The critical question was: Would these changes encourage more clients to complete the process?\n",
    "* Primary objective is to decode the experiment’s performance. \n",
    "\n",
    "* A\\B Testing: Control group and Test group.\n",
    "* Variation: an identical process sequence: an initial page, three subsequent steps, and finally, a confirmation page signaling process completion.\n",
    "\n",
    "\n",
    "1. Client Profiles (df_final_demo): Demographics like age, gender, and account details of our clients.\n",
    "2. Digital Footprints (df_final_web_data): A detailed trace of client interactions online, divided into two parts: pt_1 and pt_2. It’s recommended to merge these two files prior to a comprehensive data analysis.\n",
    "3. Experiment Roster (df_final_experiment_clients): A list revealing which clients were part of the grand experiment\n",
    "\n",
    "* Gender :  'U' as undisclosed  AND  'X' as unspecified.\n",
    "\n",
    "  #### Performance indicators or KPI\n",
    "  \n",
    "* Completion rate is a metric for content engagement that measures how valuable and relevant your content is to users.\n",
    "* \r\n",
    "It refers to the number of users who complete predetermined business goals—also referred to as complete activities—that are key to your business growth. \n",
    "*The Completion Rate (CR) is a key performance indicator that measures the number of successfully completed activities versus the number of started activities. In general Completion Rate calculated as a percentage by dividing the number of operations successfully completed by the number of operations started..\n",
    "        \n",
    "* completion rate = The number of users who completed a set of goal/The number that activated a servce/startedi.\n",
    "\n",
    "* Average time spent or Total time spent = The average or total time it takes to reach into confirm step or the whole process.\n",
    "\n",
    "       * Sum of the total time the client took during the whole process.\n",
    "* Time spent on each step: How long does the client take on each step to complete the processes\n",
    "\n",
    "       * Average duration of time the user take in each step. \n",
    "* Error Rates: When a client moves from later stage/step to the earlier stage/step.\n",
    "  \n",
    "       * Total error process/ Total number of process completed.ce"
   ]
  },
  {
   "cell_type": "markdown",
   "id": "45589ba3",
   "metadata": {},
   "source": [
    "## Exploratory Data Analysis"
   ]
  },
  {
   "cell_type": "markdown",
   "id": "fc65b787-8acd-4ccb-be9e-d9541f75064b",
   "metadata": {},
   "source": [
    "### EDA for Client demographic data"
   ]
  },
  {
   "cell_type": "markdown",
   "id": "08dd7f0d",
   "metadata": {},
   "source": [
    "#### Import necessary libraries"
   ]
  },
  {
   "cell_type": "code",
   "execution_count": 13,
   "id": "6ad600d7",
   "metadata": {},
   "outputs": [],
   "source": [
    "# Load necessary libraries\n",
    "import pandas as pd\n",
    "import numpy as np\n",
    "import scipy as sc\n",
    "import matplotlib.pyplot as plt\n",
    "import seaborn as sns\n",
    "%matplotlib inline"
   ]
  },
  {
   "cell_type": "markdown",
   "id": "9f43fd54-cf43-4686-bb84-c78f527f4b8c",
   "metadata": {},
   "source": [
    "Since our data is more or less clean we will start exploring by deviding it in to numerical and catagorical variables. So, We will create one for each variable. "
   ]
  },
  {
   "cell_type": "code",
   "execution_count": 14,
   "id": "8b8f1ba1",
   "metadata": {},
   "outputs": [
    {
     "data": {
      "text/html": [
       "<div>\n",
       "<style scoped>\n",
       "    .dataframe tbody tr th:only-of-type {\n",
       "        vertical-align: middle;\n",
       "    }\n",
       "\n",
       "    .dataframe tbody tr th {\n",
       "        vertical-align: top;\n",
       "    }\n",
       "\n",
       "    .dataframe thead th {\n",
       "        text-align: right;\n",
       "    }\n",
       "</style>\n",
       "<table border=\"1\" class=\"dataframe\">\n",
       "  <thead>\n",
       "    <tr style=\"text-align: right;\">\n",
       "      <th></th>\n",
       "      <th>client_id</th>\n",
       "      <th>clnt_tenure_yr</th>\n",
       "      <th>clnt_tenure_mnth</th>\n",
       "      <th>clnt_age</th>\n",
       "      <th>gendr</th>\n",
       "      <th>num_accts</th>\n",
       "      <th>bal</th>\n",
       "      <th>calls_6_mnth</th>\n",
       "      <th>logons_6_mnth</th>\n",
       "    </tr>\n",
       "  </thead>\n",
       "  <tbody>\n",
       "    <tr>\n",
       "      <th>0</th>\n",
       "      <td>836976</td>\n",
       "      <td>6</td>\n",
       "      <td>73</td>\n",
       "      <td>60</td>\n",
       "      <td>U</td>\n",
       "      <td>2</td>\n",
       "      <td>45105</td>\n",
       "      <td>6</td>\n",
       "      <td>9</td>\n",
       "    </tr>\n",
       "    <tr>\n",
       "      <th>1</th>\n",
       "      <td>2304905</td>\n",
       "      <td>7</td>\n",
       "      <td>94</td>\n",
       "      <td>58</td>\n",
       "      <td>U</td>\n",
       "      <td>2</td>\n",
       "      <td>110860</td>\n",
       "      <td>6</td>\n",
       "      <td>9</td>\n",
       "    </tr>\n",
       "  </tbody>\n",
       "</table>\n",
       "</div>"
      ],
      "text/plain": [
       "   client_id  clnt_tenure_yr  clnt_tenure_mnth  clnt_age gendr  num_accts  \\\n",
       "0     836976               6                73        60     U          2   \n",
       "1    2304905               7                94        58     U          2   \n",
       "\n",
       "      bal  calls_6_mnth  logons_6_mnth  \n",
       "0   45105             6              9  \n",
       "1  110860             6              9  "
      ]
     },
     "execution_count": 14,
     "metadata": {},
     "output_type": "execute_result"
    }
   ],
   "source": [
    "# Load the data\n",
    "demog = pd.read_csv('demog.csv')\n",
    "demog.head(2)"
   ]
  },
  {
   "cell_type": "code",
   "execution_count": 15,
   "id": "621a7919-2a77-4e3b-a44b-d1bcf0c94f39",
   "metadata": {
    "scrolled": true
   },
   "outputs": [],
   "source": [
    "# Drop unnamed: 0 column \n",
    "#demo = demog.drop('Unnamed: 0', axis = 'columns')\n",
    "#demo.head(2)"
   ]
  },
  {
   "cell_type": "code",
   "execution_count": 17,
   "id": "ecaf4d36-0a92-4e77-9a9b-cdf3e85b79eb",
   "metadata": {},
   "outputs": [
    {
     "data": {
      "text/plain": [
       "(70594, 9)"
      ]
     },
     "execution_count": 17,
     "metadata": {},
     "output_type": "execute_result"
    }
   ],
   "source": [
    "demog.shape"
   ]
  },
  {
   "cell_type": "code",
   "execution_count": 18,
   "id": "92a93226-1a7d-4d12-a62d-8022097b09e1",
   "metadata": {},
   "outputs": [
    {
     "data": {
      "text/plain": [
       "Index(['client_id', 'clnt_tenure_yr', 'clnt_tenure_mnth', 'clnt_age',\n",
       "       'num_accts', 'bal', 'calls_6_mnth', 'logons_6_mnth'],\n",
       "      dtype='object')"
      ]
     },
     "execution_count": 18,
     "metadata": {},
     "output_type": "execute_result"
    }
   ],
   "source": [
    "# Extract column names with numerical datatype\n",
    "demog.select_dtypes(\"number\").columns"
   ]
  },
  {
   "cell_type": "code",
   "execution_count": 19,
   "id": "9115ea63-17a5-4448-b1f9-3542c9cd798f",
   "metadata": {},
   "outputs": [
    {
     "data": {
      "text/plain": [
       "client_id           70594\n",
       "bal                 56968\n",
       "clnt_tenure_mnth      482\n",
       "clnt_age               82\n",
       "clnt_tenure_yr         54\n",
       "logons_6_mnth           9\n",
       "num_accts               8\n",
       "calls_6_mnth            8\n",
       "dtype: int64"
      ]
     },
     "execution_count": 19,
     "metadata": {},
     "output_type": "execute_result"
    }
   ],
   "source": [
    "# Count and sort the unique values of each numeriacl variables\n",
    "demo_num = demog.select_dtypes(\"number\").nunique().sort_values(ascending = False)\n",
    "demo_num"
   ]
  },
  {
   "cell_type": "markdown",
   "id": "e2548b0e-b35b-41a8-aee2-3141590cd8c6",
   "metadata": {},
   "source": [
    "Lat's take gendr and do the exploration."
   ]
  },
  {
   "cell_type": "code",
   "execution_count": 20,
   "id": "52bef234-5e53-4869-aa91-552ff35719d4",
   "metadata": {},
   "outputs": [
    {
     "data": {
      "text/plain": [
       "gendr\n",
       "U    24122\n",
       "M    23724\n",
       "F    22745\n",
       "X        3\n",
       "Name: count, dtype: int64"
      ]
     },
     "execution_count": 20,
     "metadata": {},
     "output_type": "execute_result"
    }
   ],
   "source": [
    "# Frequency table for grnder\n",
    "freq_tab = demog['gendr'].value_counts()\n",
    "freq_tab"
   ]
  },
  {
   "cell_type": "code",
   "execution_count": 21,
   "id": "ca5db4bb-9be7-4d08-9e68-499365551a82",
   "metadata": {},
   "outputs": [
    {
     "data": {
      "text/html": [
       "<div>\n",
       "<style scoped>\n",
       "    .dataframe tbody tr th:only-of-type {\n",
       "        vertical-align: middle;\n",
       "    }\n",
       "\n",
       "    .dataframe tbody tr th {\n",
       "        vertical-align: top;\n",
       "    }\n",
       "\n",
       "    .dataframe thead th {\n",
       "        text-align: right;\n",
       "    }\n",
       "</style>\n",
       "<table border=\"1\" class=\"dataframe\">\n",
       "  <thead>\n",
       "    <tr style=\"text-align: right;\">\n",
       "      <th>col_0</th>\n",
       "      <th>count</th>\n",
       "    </tr>\n",
       "    <tr>\n",
       "      <th>gendr</th>\n",
       "      <th></th>\n",
       "    </tr>\n",
       "  </thead>\n",
       "  <tbody>\n",
       "    <tr>\n",
       "      <th>F</th>\n",
       "      <td>0.32</td>\n",
       "    </tr>\n",
       "    <tr>\n",
       "      <th>M</th>\n",
       "      <td>0.34</td>\n",
       "    </tr>\n",
       "    <tr>\n",
       "      <th>U</th>\n",
       "      <td>0.34</td>\n",
       "    </tr>\n",
       "    <tr>\n",
       "      <th>X</th>\n",
       "      <td>0.00</td>\n",
       "    </tr>\n",
       "  </tbody>\n",
       "</table>\n",
       "</div>"
      ],
      "text/plain": [
       "col_0  count\n",
       "gendr       \n",
       "F       0.32\n",
       "M       0.34\n",
       "U       0.34\n",
       "X       0.00"
      ]
     },
     "execution_count": 21,
     "metadata": {},
     "output_type": "execute_result"
    }
   ],
   "source": [
    "prop_table = pd.crosstab(index = demog['gendr'], columns = \"count\")\n",
    "(prop_table/prop_table.sum()).round(2)"
   ]
  },
  {
   "cell_type": "markdown",
   "id": "ceb91187-82ef-47cc-b429-8b6761f6e33b",
   "metadata": {},
   "source": [
    "Insight: * The most common gender classification is Male, Female, and Undisclosed. That comprising approximately 34%, 34% and 32% respectively.\n",
    "         \n",
    "         * The last which is the least frequent gender is Unspecified, making up only 3."
   ]
  },
  {
   "cell_type": "code",
   "execution_count": 22,
   "id": "449d4dee-fb10-43e3-b13d-2db45f4fb380",
   "metadata": {},
   "outputs": [
    {
     "data": {
      "image/png": "[encoded data removed]",
      "text/plain": [
       "<Figure size 640x480 with 1 Axes>"
      ]
     },
     "metadata": {},
     "output_type": "display_data"
    }
   ],
   "source": [
    "#ax=sns.barplot(y=prop_table.index, x=freq_tab.values, hue=freq_tab.index)\n",
    "#sns.move_legend(ax, \"lower right\")\n",
    "sns.barplot(x = freq_tab.values, y = prop_table.index, hue = freq_tab.index)\n",
    "plt.show()"
   ]
  },
  {
   "cell_type": "markdown",
   "id": "71c11fce-8373-4493-a355-d76d8c6718fd",
   "metadata": {},
   "source": [
    "From the above chart we observe the same result as the value counts. Three of the gender group covers almost the whole portion, which is Female, Male and Undisclosed. "
   ]
  },
  {
   "cell_type": "markdown",
   "id": "33f59322-661d-4142-b5d4-f747012ab131",
   "metadata": {},
   "source": [
    "Now let's move in to the numerical Vs Catagorical variables. And answer the questions like: \n",
    "1. Who are the primary clients using this online process? From the above analysis we can say that; the primary clients in gender wise are Female, Male and Undisclosed.\r",
    "2. \n",
    "Are the primary clients younger or older, new or long-standing? From the below graph we can understand that most of the clients are young and middle age. Most of them are in the year between 6 to 21 since they have joined. And the rest have been staying between 36 to 62 years."
   ]
  },
  {
   "cell_type": "code",
   "execution_count": 23,
   "id": "0c92a2c5-3cc1-489b-8b5c-6d3f166d2eb9",
   "metadata": {},
   "outputs": [
    {
     "data": {
      "text/plain": [
       "client_id           70594\n",
       "bal                 56968\n",
       "clnt_tenure_mnth      482\n",
       "clnt_age               82\n",
       "clnt_tenure_yr         54\n",
       "dtype: int64"
      ]
     },
     "execution_count": 23,
     "metadata": {},
     "output_type": "execute_result"
    }
   ],
   "source": [
    "demo_num.head()"
   ]
  },
  {
   "cell_type": "code",
   "execution_count": 25,
   "id": "2ac921e3-b264-4938-82b9-643114e6774b",
   "metadata": {},
   "outputs": [
    {
     "data": {
      "text/plain": [
       "clnt_tenure_yr\n",
       "62     1\n",
       "54     1\n",
       "45     1\n",
       "41     1\n",
       "52     2\n",
       "44     3\n",
       "49     4\n",
       "51     5\n",
       "46     5\n",
       "42     6\n",
       "43     6\n",
       "47     6\n",
       "50     8\n",
       "39     9\n",
       "55     9\n",
       "40     9\n",
       "48    16\n",
       "38    33\n",
       "37    35\n",
       "36    36\n",
       "Name: count, dtype: int64"
      ]
     },
     "execution_count": 25,
     "metadata": {},
     "output_type": "execute_result"
    }
   ],
   "source": [
    "# The top 20 who stayed longer and lesser \n",
    "top20_year_long = demog['clnt_tenure_yr'].value_counts().head(20)\n",
    "# Top 20 who stayed lesser\n",
    "top20_year_new = demog['clnt_tenure_yr'].value_counts().sort_values().head(20)\n",
    "top20_year_new"
   ]
  },
  {
   "cell_type": "code",
   "execution_count": 29,
   "id": "4a038a6c-eff2-45a9-9a50-076dba1cd46a",
   "metadata": {},
   "outputs": [],
   "source": [
    "conditions = [\n",
    "    (demog['clnt_age']>=14) & (demog['clnt_age']<=30),\n",
    "    (demog['clnt_age']>=31) & (demog['clnt_age']<=45),\n",
    "    (demog['clnt_age']>=46) & (demog['clnt_age']<=60),\n",
    "    (demog['clnt_age']>=61) & (demog['clnt_age']<=75),\n",
    "    (demog['clnt_age']>=76) & (demog['clnt_age']<=96),\n",
    "]\n",
    "\n",
    "values = ['14-30','31-45','46-60','61-75','76-96']\n",
    "demog['age_category'] = np.select(conditions, values)"
   ]
  },
  {
   "cell_type": "code",
   "execution_count": 30,
   "id": "2e112b3d-a2e0-4f94-bf95-e8e0977ec0af",
   "metadata": {},
   "outputs": [
    {
     "data": {
      "text/html": [
       "<div>\n",
       "<style scoped>\n",
       "    .dataframe tbody tr th:only-of-type {\n",
       "        vertical-align: middle;\n",
       "    }\n",
       "\n",
       "    .dataframe tbody tr th {\n",
       "        vertical-align: top;\n",
       "    }\n",
       "\n",
       "    .dataframe thead th {\n",
       "        text-align: right;\n",
       "    }\n",
       "</style>\n",
       "<table border=\"1\" class=\"dataframe\">\n",
       "  <thead>\n",
       "    <tr style=\"text-align: right;\">\n",
       "      <th></th>\n",
       "      <th>client_id</th>\n",
       "      <th>clnt_tenure_yr</th>\n",
       "      <th>clnt_tenure_mnth</th>\n",
       "      <th>clnt_age</th>\n",
       "      <th>gendr</th>\n",
       "      <th>num_accts</th>\n",
       "      <th>bal</th>\n",
       "      <th>calls_6_mnth</th>\n",
       "      <th>logons_6_mnth</th>\n",
       "      <th>age_category</th>\n",
       "    </tr>\n",
       "  </thead>\n",
       "  <tbody>\n",
       "    <tr>\n",
       "      <th>0</th>\n",
       "      <td>836976</td>\n",
       "      <td>6</td>\n",
       "      <td>73</td>\n",
       "      <td>60</td>\n",
       "      <td>U</td>\n",
       "      <td>2</td>\n",
       "      <td>45105</td>\n",
       "      <td>6</td>\n",
       "      <td>9</td>\n",
       "      <td>46-60</td>\n",
       "    </tr>\n",
       "    <tr>\n",
       "      <th>1</th>\n",
       "      <td>2304905</td>\n",
       "      <td>7</td>\n",
       "      <td>94</td>\n",
       "      <td>58</td>\n",
       "      <td>U</td>\n",
       "      <td>2</td>\n",
       "      <td>110860</td>\n",
       "      <td>6</td>\n",
       "      <td>9</td>\n",
       "      <td>46-60</td>\n",
       "    </tr>\n",
       "    <tr>\n",
       "      <th>2</th>\n",
       "      <td>1439522</td>\n",
       "      <td>5</td>\n",
       "      <td>64</td>\n",
       "      <td>32</td>\n",
       "      <td>U</td>\n",
       "      <td>2</td>\n",
       "      <td>52467</td>\n",
       "      <td>6</td>\n",
       "      <td>9</td>\n",
       "      <td>31-45</td>\n",
       "    </tr>\n",
       "    <tr>\n",
       "      <th>3</th>\n",
       "      <td>1562045</td>\n",
       "      <td>16</td>\n",
       "      <td>198</td>\n",
       "      <td>49</td>\n",
       "      <td>M</td>\n",
       "      <td>2</td>\n",
       "      <td>67454</td>\n",
       "      <td>3</td>\n",
       "      <td>6</td>\n",
       "      <td>46-60</td>\n",
       "    </tr>\n",
       "    <tr>\n",
       "      <th>4</th>\n",
       "      <td>5126305</td>\n",
       "      <td>12</td>\n",
       "      <td>145</td>\n",
       "      <td>33</td>\n",
       "      <td>F</td>\n",
       "      <td>2</td>\n",
       "      <td>103671</td>\n",
       "      <td>0</td>\n",
       "      <td>3</td>\n",
       "      <td>31-45</td>\n",
       "    </tr>\n",
       "  </tbody>\n",
       "</table>\n",
       "</div>"
      ],
      "text/plain": [
       "   client_id  clnt_tenure_yr  clnt_tenure_mnth  clnt_age gendr  num_accts  \\\n",
       "0     836976               6                73        60     U          2   \n",
       "1    2304905               7                94        58     U          2   \n",
       "2    1439522               5                64        32     U          2   \n",
       "3    1562045              16               198        49     M          2   \n",
       "4    5126305              12               145        33     F          2   \n",
       "\n",
       "      bal  calls_6_mnth  logons_6_mnth age_category  \n",
       "0   45105             6              9        46-60  \n",
       "1  110860             6              9        46-60  \n",
       "2   52467             6              9        31-45  \n",
       "3   67454             3              6        46-60  \n",
       "4  103671             0              3        31-45  "
      ]
     },
     "execution_count": 30,
     "metadata": {},
     "output_type": "execute_result"
    }
   ],
   "source": [
    "demog.head()"
   ]
  },
  {
   "cell_type": "code",
   "execution_count": 31,
   "id": "ef02c6d7-09f5-4d82-ab69-67db3ad59a0a",
   "metadata": {},
   "outputs": [
    {
     "data": {
      "image/png": "[encoded data removed]",
      "text/plain": [
       "<Figure size 640x480 with 1 Axes>"
      ]
     },
     "metadata": {},
     "output_type": "display_data"
    }
   ],
   "source": [
    "pd.crosstab(demog['age_category'],demog['gendr']).plot.bar()\n",
    "plt.show()"
   ]
  },
  {
   "cell_type": "code",
   "execution_count": 33,
   "id": "f1f9747d-115b-4576-8873-90310f125972",
   "metadata": {},
   "outputs": [
    {
     "data": {
      "text/plain": [
       "num_accts\n",
       "8        1\n",
       "1        2\n",
       "7        8\n",
       "6       33\n",
       "5      284\n",
       "4     2241\n",
       "3    12529\n",
       "2    55496\n",
       "Name: count, dtype: int64"
      ]
     },
     "execution_count": 33,
     "metadata": {},
     "output_type": "execute_result"
    }
   ],
   "source": [
    "demog['num_accts'].value_counts().sort_values()"
   ]
  },
  {
   "cell_type": "code",
   "execution_count": 34,
   "id": "a0add752-e64c-4dac-aea9-9cc3e1b99bce",
   "metadata": {},
   "outputs": [
    {
     "data": {
      "image/png": "[encoded data removed]",
      "text/plain": [
       "<Figure size 640x480 with 1 Axes>"
      ]
     },
     "metadata": {},
     "output_type": "display_data"
    }
   ],
   "source": [
    "#Let's see gender by number of accounts.\n",
    "pd.crosstab(demog['num_accts'],demog['gendr']).plot.bar()\n",
    "plt.show()"
   ]
  },
  {
   "cell_type": "code",
   "execution_count": 35,
   "id": "69dc71a0-9a2a-43b7-8fff-49fb99f2de8f",
   "metadata": {},
   "outputs": [
    {
     "data": {
      "image/png": "[encoded data removed]",
      "text/plain": [
       "<Figure size 640x480 with 1 Axes>"
      ]
     },
     "metadata": {},
     "output_type": "display_data"
    }
   ],
   "source": [
    "demog['num_accts'].value_counts().plot.pie(startangle=90, colors=sns.color_palette(\"Set3\"));\n",
    "plt.show()"
   ]
  },
  {
   "cell_type": "markdown",
   "id": "b0bb1346-f614-487d-bb3a-e3236aa24b65",
   "metadata": {},
   "source": [
    "### EDA for Web_Data"
   ]
  },
  {
   "cell_type": "code",
   "execution_count": 61,
   "id": "fd3b3f7b-1251-494e-b2e2-16ed335e003d",
   "metadata": {
    "scrolled": true
   },
   "outputs": [
    {
     "data": {
      "text/html": [
       "<div>\n",
       "<style scoped>\n",
       "    .dataframe tbody tr th:only-of-type {\n",
       "        vertical-align: middle;\n",
       "    }\n",
       "\n",
       "    .dataframe tbody tr th {\n",
       "        vertical-align: top;\n",
       "    }\n",
       "\n",
       "    .dataframe thead th {\n",
       "        text-align: right;\n",
       "    }\n",
       "</style>\n",
       "<table border=\"1\" class=\"dataframe\">\n",
       "  <thead>\n",
       "    <tr style=\"text-align: right;\">\n",
       "      <th></th>\n",
       "      <th>client_id</th>\n",
       "      <th>visitor_id</th>\n",
       "      <th>visit_id</th>\n",
       "      <th>process_step</th>\n",
       "      <th>time</th>\n",
       "      <th>date</th>\n",
       "      <th>year</th>\n",
       "      <th>month</th>\n",
       "      <th>day</th>\n",
       "    </tr>\n",
       "  </thead>\n",
       "  <tbody>\n",
       "    <tr>\n",
       "      <th>0</th>\n",
       "      <td>9988021</td>\n",
       "      <td>580560515_7732621733</td>\n",
       "      <td>781255054_21935453173_531117</td>\n",
       "      <td>step_3</td>\n",
       "      <td>15, 27, 07</td>\n",
       "      <td>2017, Apr, 17</td>\n",
       "      <td>2017</td>\n",
       "      <td>4</td>\n",
       "      <td>17</td>\n",
       "    </tr>\n",
       "    <tr>\n",
       "      <th>1</th>\n",
       "      <td>9988021</td>\n",
       "      <td>580560515_7732621733</td>\n",
       "      <td>781255054_21935453173_531117</td>\n",
       "      <td>step_2</td>\n",
       "      <td>15, 26, 51</td>\n",
       "      <td>2017, Apr, 17</td>\n",
       "      <td>2017</td>\n",
       "      <td>4</td>\n",
       "      <td>17</td>\n",
       "    </tr>\n",
       "  </tbody>\n",
       "</table>\n",
       "</div>"
      ],
      "text/plain": [
       "   client_id            visitor_id                      visit_id process_step  \\\n",
       "0    9988021  580560515_7732621733  781255054_21935453173_531117       step_3   \n",
       "1    9988021  580560515_7732621733  781255054_21935453173_531117       step_2   \n",
       "\n",
       "         time           date  year  month  day  \n",
       "0  15, 27, 07  2017, Apr, 17  2017      4   17  \n",
       "1  15, 26, 51  2017, Apr, 17  2017      4   17  "
      ]
     },
     "execution_count": 61,
     "metadata": {},
     "output_type": "execute_result"
    }
   ],
   "source": [
    "web_data = pd.read_csv('web_data.csv')\n",
    "web_data.head(b2)"
   ]
  },
  {
   "cell_type": "code",
   "execution_count": 30,
   "id": "c887a724-84d1-4043-8b4c-3d7730fadea2",
   "metadata": {
    "scrolled": true
   },
   "outputs": [
    {
     "data": {
      "text/html": [
       "<div>\n",
       "<style scoped>\n",
       "    .dataframe tbody tr th:only-of-type {\n",
       "        vertical-align: middle;\n",
       "    }\n",
       "\n",
       "    .dataframe tbody tr th {\n",
       "        vertical-align: top;\n",
       "    }\n",
       "\n",
       "    .dataframe thead th {\n",
       "        text-align: right;\n",
       "    }\n",
       "</style>\n",
       "<table border=\"1\" class=\"dataframe\">\n",
       "  <thead>\n",
       "    <tr style=\"text-align: right;\">\n",
       "      <th></th>\n",
       "      <th>client_id</th>\n",
       "      <th>visitor_id</th>\n",
       "      <th>visit_id</th>\n",
       "      <th>process_step</th>\n",
       "      <th>time</th>\n",
       "      <th>date</th>\n",
       "      <th>year</th>\n",
       "      <th>month</th>\n",
       "      <th>day</th>\n",
       "    </tr>\n",
       "  </thead>\n",
       "  <tbody>\n",
       "    <tr>\n",
       "      <th>0</th>\n",
       "      <td>9988021</td>\n",
       "      <td>580560515_7732621733</td>\n",
       "      <td>781255054_21935453173_531117</td>\n",
       "      <td>step_3</td>\n",
       "      <td>15, 27, 07</td>\n",
       "      <td>2017, Apr, 17</td>\n",
       "      <td>2017</td>\n",
       "      <td>4</td>\n",
       "      <td>17</td>\n",
       "    </tr>\n",
       "    <tr>\n",
       "      <th>1</th>\n",
       "      <td>9988021</td>\n",
       "      <td>580560515_7732621733</td>\n",
       "      <td>781255054_21935453173_531117</td>\n",
       "      <td>step_2</td>\n",
       "      <td>15, 26, 51</td>\n",
       "      <td>2017, Apr, 17</td>\n",
       "      <td>2017</td>\n",
       "      <td>4</td>\n",
       "      <td>17</td>\n",
       "    </tr>\n",
       "  </tbody>\n",
       "</table>\n",
       "</div>"
      ],
      "text/plain": [
       "   client_id            visitor_id                      visit_id process_step  \\\n",
       "0    9988021  580560515_7732621733  781255054_21935453173_531117       step_3   \n",
       "1    9988021  580560515_7732621733  781255054_21935453173_531117       step_2   \n",
       "\n",
       "         time           date  year  month  day  \n",
       "0  15, 27, 07  2017, Apr, 17  2017      4   17  \n",
       "1  15, 26, 51  2017, Apr, 17  2017      4   17  "
      ]
     },
     "execution_count": 30,
     "metadata": {},
     "output_type": "execute_result"
    }
   ],
   "source": [
    "web_data = web_data.drop('Unnamed: 0', axis = 'columns')\n",
    "web_data.head(2)"
   ]
  },
  {
   "cell_type": "code",
   "execution_count": 45,
   "id": "4c541751-dc70-4cfa-ba58-5eed31ecfae6",
   "metadata": {},
   "outputs": [
    {
     "data": {
      "text/plain": [
       "process_step\n",
       "start      234999\n",
       "step_1     162797\n",
       "step_2     132750\n",
       "step_3     111589\n",
       "confirm    102506\n",
       "Name: count, dtype: int64"
      ]
     },
     "execution_count": 45,
     "metadata": {},
     "output_type": "execute_result"
    }
   ],
   "source": [
    "web_data['process_step'].value_counts()"
   ]
  },
  {
   "cell_type": "code",
   "execution_count": 32,
   "id": "f4b17436-2a77-4146-9e5d-429b79bb36ef",
   "metadata": {},
   "outputs": [
    {
     "data": {
      "text/plain": [
       "(744641, 9)"
      ]
     },
     "execution_count": 32,
     "metadata": {},
     "output_type": "execute_result"
    }
   ],
   "source": [
    "web_data.shape"
   ]
  },
  {
   "cell_type": "code",
   "execution_count": 62,
   "id": "2a5b9f91-a973-4deb-9b20-17a5bd990642",
   "metadata": {},
   "outputs": [
    {
     "data": {
      "text/plain": [
       "client_id       120157\n",
       "visitor_id      130236\n",
       "visit_id        158095\n",
       "process_step         5\n",
       "time             77640\n",
       "date                98\n",
       "year                 1\n",
       "month                4\n",
       "day                 31\n",
       "dtype: int64"
      ]
     },
     "execution_count": 62,
     "metadata": {},
     "output_type": "execute_result"
    }
   ],
   "source": [
    "web_data.nunique()"
   ]
  },
  {
   "cell_type": "markdown",
   "id": "6073f179-244f-4075-8572-bce78737d456",
   "metadata": {},
   "source": [
    "Let's calculate the time difference.  "
   ]
  },
  {
   "cell_type": "markdown",
   "id": "a7da165a-0483-40a8-a31a-b884f407d577",
   "metadata": {},
   "source": [
    "Now let us extract the confirmed and start processes step and save it in to csv file."
   ]
  },
  {
   "cell_type": "code",
   "execution_count": 64,
   "id": "4fdd3831-0054-4ed3-8da1-c8bf77ebbbce",
   "metadata": {},
   "outputs": [
    {
     "data": {
      "text/plain": [
       "(234999, 9)"
      ]
     },
     "execution_count": 64,
     "metadata": {},
     "output_type": "execute_result"
    }
   ],
   "source": [
    "pro_start = web_data[web_data[\"process_step\"] == \"start\"]\n",
    "pro_start.shape"
   ]
  },
  {
   "cell_type": "code",
   "execution_count": 68,
   "id": "64bb6496-de01-4b48-bf8e-9a6cfa787964",
   "metadata": {},
   "outputs": [
    {
     "data": {
      "text/plain": [
       "(102506, 9)"
      ]
     },
     "execution_count": 68,
     "metadata": {},
     "output_type": "execute_result"
    }
   ],
   "source": [
    "pro_confirm = web_data[web_data[\"process_step\"] == \"confirm\"]\n",
    "pro_confirm.shape"
   ]
  },
  {
   "cell_type": "code",
   "execution_count": 69,
   "id": "bac91a39-3076-4169-89c4-9b8114e9320e",
   "metadata": {},
   "outputs": [],
   "source": [
    "# Now let's save both files in to csv format\n",
    "pro_start.to_csv(\"pro_start.csv\")\n",
    "pro_confirm.to_csv(\"pro_confirm.csv\")"
   ]
  },
  {
   "cell_type": "markdown",
   "id": "3c245d7d-36ec-4ad2-8131-01925b99d32d",
   "metadata": {},
   "source": [
    "### EDA for final experement client data"
   ]
  },
  {
   "cell_type": "code",
   "execution_count": 50,
   "id": "ba916fb5-cc56-49f0-97af-03043c8a9014",
   "metadata": {},
   "outputs": [
    {
     "data": {
      "text/html": [
       "<div>\n",
       "<style scoped>\n",
       "    .dataframe tbody tr th:only-of-type {\n",
       "        vertical-align: middle;\n",
       "    }\n",
       "\n",
       "    .dataframe tbody tr th {\n",
       "        vertical-align: top;\n",
       "    }\n",
       "\n",
       "    .dataframe thead th {\n",
       "        text-align: right;\n",
       "    }\n",
       "</style>\n",
       "<table border=\"1\" class=\"dataframe\">\n",
       "  <thead>\n",
       "    <tr style=\"text-align: right;\">\n",
       "      <th></th>\n",
       "      <th>client_id</th>\n",
       "      <th>variation</th>\n",
       "    </tr>\n",
       "  </thead>\n",
       "  <tbody>\n",
       "    <tr>\n",
       "      <th>0</th>\n",
       "      <td>9988021</td>\n",
       "      <td>Test</td>\n",
       "    </tr>\n",
       "    <tr>\n",
       "      <th>1</th>\n",
       "      <td>8320017</td>\n",
       "      <td>Test</td>\n",
       "    </tr>\n",
       "    <tr>\n",
       "      <th>2</th>\n",
       "      <td>4033851</td>\n",
       "      <td>Control</td>\n",
       "    </tr>\n",
       "    <tr>\n",
       "      <th>3</th>\n",
       "      <td>1982004</td>\n",
       "      <td>Test</td>\n",
       "    </tr>\n",
       "    <tr>\n",
       "      <th>4</th>\n",
       "      <td>9294070</td>\n",
       "      <td>Control</td>\n",
       "    </tr>\n",
       "  </tbody>\n",
       "</table>\n",
       "</div>"
      ],
      "text/plain": [
       "   client_id variation\n",
       "0    9988021      Test\n",
       "1    8320017      Test\n",
       "2    4033851   Control\n",
       "3    1982004      Test\n",
       "4    9294070   Control"
      ]
     },
     "execution_count": 50,
     "metadata": {},
     "output_type": "execute_result"
    }
   ],
   "source": [
    "final_ex = pd.read_csv('final_ex.csv')\n",
    "final_ex.head()"
   ]
  },
  {
   "cell_type": "code",
   "execution_count": 51,
   "id": "096a578f-3140-4d0c-8985-041ba75dcd69",
   "metadata": {},
   "outputs": [],
   "source": [
    "# Drop the Unnamed: 0 column\n",
    "#final_ex.head(2)"
   ]
  },
  {
   "cell_type": "code",
   "execution_count": 52,
   "id": "618a5bd8-caae-4cf8-815c-0f8258558f3c",
   "metadata": {},
   "outputs": [
    {
     "data": {
      "text/plain": [
       "client_id    50500\n",
       "variation        2\n",
       "dtype: int64"
      ]
     },
     "execution_count": 52,
     "metadata": {},
     "output_type": "execute_result"
    }
   ],
   "source": [
    "final_ex.nunique()"
   ]
  },
  {
   "cell_type": "code",
   "execution_count": 53,
   "id": "352ade4a-3981-45d6-8da0-7759007fd72c",
   "metadata": {},
   "outputs": [
    {
     "data": {
      "text/plain": [
       "variation\n",
       "Test       26968\n",
       "Control    23532\n",
       "Name: count, dtype: int64"
      ]
     },
     "execution_count": 53,
     "metadata": {},
     "output_type": "execute_result"
    }
   ],
   "source": [
    "final_ex['variation'].value_counts()"
   ]
  },
  {
   "cell_type": "markdown",
   "id": "fab69fa8-c8d8-46e8-8d29-74521c36607c",
   "metadata": {},
   "source": [
    "Let's devide the dataset in to two \\Test and Control group\\"
   ]
  },
  {
   "cell_type": "code",
   "execution_count": 54,
   "id": "fa2435a9-0432-45fa-8daf-e11157cab06f",
   "metadata": {},
   "outputs": [
    {
     "data": {
      "text/plain": [
       "(26968, 2)"
      ]
     },
     "execution_count": 54,
     "metadata": {},
     "output_type": "execute_result"
    }
   ],
   "source": [
    "test_group = final_ex[final_ex[\"variation\"] == \"Test\"]\n",
    "test_group.shape"
   ]
  },
  {
   "cell_type": "code",
   "execution_count": 70,
   "id": "9f88f5cc-7a6d-4ceb-8727-e96ea0bceeb1",
   "metadata": {},
   "outputs": [
    {
     "data": {
      "text/html": [
       "<div>\n",
       "<style scoped>\n",
       "    .dataframe tbody tr th:only-of-type {\n",
       "        vertical-align: middle;\n",
       "    }\n",
       "\n",
       "    .dataframe tbody tr th {\n",
       "        vertical-align: top;\n",
       "    }\n",
       "\n",
       "    .dataframe thead th {\n",
       "        text-align: right;\n",
       "    }\n",
       "</style>\n",
       "<table border=\"1\" class=\"dataframe\">\n",
       "  <thead>\n",
       "    <tr style=\"text-align: right;\">\n",
       "      <th></th>\n",
       "      <th>client_id</th>\n",
       "      <th>variation_test</th>\n",
       "    </tr>\n",
       "  </thead>\n",
       "  <tbody>\n",
       "    <tr>\n",
       "      <th>0</th>\n",
       "      <td>9988021</td>\n",
       "      <td>Test</td>\n",
       "    </tr>\n",
       "    <tr>\n",
       "      <th>1</th>\n",
       "      <td>8320017</td>\n",
       "      <td>Test</td>\n",
       "    </tr>\n",
       "  </tbody>\n",
       "</table>\n",
       "</div>"
      ],
      "text/plain": [
       "   client_id variation_test\n",
       "0    9988021           Test\n",
       "1    8320017           Test"
      ]
     },
     "execution_count": 70,
     "metadata": {},
     "output_type": "execute_result"
    }
   ],
   "source": [
    "# Since we will merge the datasets let's change the column names of variations accordingly\n",
    "test_group.columns = ['client_id', 'variation_test']\n",
    "test_group.head(2)"
   ]
  },
  {
   "cell_type": "code",
   "execution_count": 56,
   "id": "7487a2d5-04af-424a-8b22-f4cc08b0bff0",
   "metadata": {},
   "outputs": [
    {
     "data": {
      "text/plain": [
       "(23532, 2)"
      ]
     },
     "execution_count": 56,
     "metadata": {},
     "output_type": "execute_result"
    }
   ],
   "source": [
    "control_group = final_ex[final_ex[\"variation\"] == \"Control\"]\n",
    "control_group.shape"
   ]
  },
  {
   "cell_type": "code",
   "execution_count": 71,
   "id": "e0069a6c-5c6c-40fe-9eb2-55125e65db11",
   "metadata": {},
   "outputs": [
    {
     "data": {
      "text/html": [
       "<div>\n",
       "<style scoped>\n",
       "    .dataframe tbody tr th:only-of-type {\n",
       "        vertical-align: middle;\n",
       "    }\n",
       "\n",
       "    .dataframe tbody tr th {\n",
       "        vertical-align: top;\n",
       "    }\n",
       "\n",
       "    .dataframe thead th {\n",
       "        text-align: right;\n",
       "    }\n",
       "</style>\n",
       "<table border=\"1\" class=\"dataframe\">\n",
       "  <thead>\n",
       "    <tr style=\"text-align: right;\">\n",
       "      <th></th>\n",
       "      <th>client_id</th>\n",
       "      <th>variation_control</th>\n",
       "    </tr>\n",
       "  </thead>\n",
       "  <tbody>\n",
       "    <tr>\n",
       "      <th>2</th>\n",
       "      <td>4033851</td>\n",
       "      <td>Control</td>\n",
       "    </tr>\n",
       "    <tr>\n",
       "      <th>4</th>\n",
       "      <td>9294070</td>\n",
       "      <td>Control</td>\n",
       "    </tr>\n",
       "  </tbody>\n",
       "</table>\n",
       "</div>"
      ],
      "text/plain": [
       "   client_id variation_control\n",
       "2    4033851           Control\n",
       "4    9294070           Control"
      ]
     },
     "execution_count": 71,
     "metadata": {},
     "output_type": "execute_result"
    }
   ],
   "source": [
    "control_group.columns = ['client_id', 'variation_control']\n",
    "control_group.head(2)"
   ]
  },
  {
   "cell_type": "code",
   "execution_count": 72,
   "id": "ac31fdfd-90be-4bf3-950f-a68fc3f29ec9",
   "metadata": {},
   "outputs": [],
   "source": [
    "# Let's save them to csv file\n",
    "test_group.to_csv(\"test_group.csv\")\n",
    "control_group.to_csv(\"control_group.csv\")"
   ]
  },
  {
   "cell_type": "markdown",
   "id": "e1b20829-9ffe-4718-9b98-8c61729c2efb",
   "metadata": {},
   "source": [
    "Let's merge the data first for test group then control group"
   ]
  },
  {
   "cell_type": "code",
   "execution_count": 82,
   "id": "46087b9e-13ac-4b48-abb9-73218c53b53d",
   "metadata": {},
   "outputs": [],
   "source": [
    "#Let us merge the dataset based on client_ID for test group and demog\n",
    "merge_1 = pd.merge(demog, test_group, on='client_id')"
   ]
  },
  {
   "cell_type": "code",
   "execution_count": 84,
   "id": "77c686a7-13f3-4399-89eb-45306071b982",
   "metadata": {},
   "outputs": [
    {
     "data": {
      "text/html": [
       "<div>\n",
       "<style scoped>\n",
       "    .dataframe tbody tr th:only-of-type {\n",
       "        vertical-align: middle;\n",
       "    }\n",
       "\n",
       "    .dataframe tbody tr th {\n",
       "        vertical-align: top;\n",
       "    }\n",
       "\n",
       "    .dataframe thead th {\n",
       "        text-align: right;\n",
       "    }\n",
       "</style>\n",
       "<table border=\"1\" class=\"dataframe\">\n",
       "  <thead>\n",
       "    <tr style=\"text-align: right;\">\n",
       "      <th></th>\n",
       "      <th>client_id</th>\n",
       "      <th>clnt_tenure_yr</th>\n",
       "      <th>clnt_tenure_mnth</th>\n",
       "      <th>clnt_age</th>\n",
       "      <th>gendr</th>\n",
       "      <th>num_accts</th>\n",
       "      <th>bal</th>\n",
       "      <th>calls_6_mnth</th>\n",
       "      <th>logons_6_mnth</th>\n",
       "      <th>age_category</th>\n",
       "      <th>variation_test</th>\n",
       "    </tr>\n",
       "  </thead>\n",
       "  <tbody>\n",
       "    <tr>\n",
       "      <th>0</th>\n",
       "      <td>836976</td>\n",
       "      <td>6</td>\n",
       "      <td>73</td>\n",
       "      <td>60</td>\n",
       "      <td>U</td>\n",
       "      <td>2</td>\n",
       "      <td>45105</td>\n",
       "      <td>6</td>\n",
       "      <td>9</td>\n",
       "      <td>46-60</td>\n",
       "      <td>Test</td>\n",
       "    </tr>\n",
       "    <tr>\n",
       "      <th>1</th>\n",
       "      <td>1439522</td>\n",
       "      <td>5</td>\n",
       "      <td>64</td>\n",
       "      <td>32</td>\n",
       "      <td>U</td>\n",
       "      <td>2</td>\n",
       "      <td>52467</td>\n",
       "      <td>6</td>\n",
       "      <td>9</td>\n",
       "      <td>31-45</td>\n",
       "      <td>Test</td>\n",
       "    </tr>\n",
       "  </tbody>\n",
       "</table>\n",
       "</div>"
      ],
      "text/plain": [
       "   client_id  clnt_tenure_yr  clnt_tenure_mnth  clnt_age gendr  num_accts  \\\n",
       "0     836976               6                73        60     U          2   \n",
       "1    1439522               5                64        32     U          2   \n",
       "\n",
       "     bal  calls_6_mnth  logons_6_mnth age_category variation_test  \n",
       "0  45105             6              9        46-60           Test  \n",
       "1  52467             6              9        31-45           Test  "
      ]
     },
     "execution_count": 84,
     "metadata": {},
     "output_type": "execute_result"
    }
   ],
   "source": [
    "# Let us check our dataset\n",
    "merge_1.head(2)"
   ]
  },
  {
   "cell_type": "code",
   "execution_count": 85,
   "id": "bcca1e4a-0c63-4103-b88e-f0313242f64c",
   "metadata": {},
   "outputs": [
    {
     "data": {
      "text/plain": [
       "(26961, 11)"
      ]
     },
     "execution_count": 85,
     "metadata": {},
     "output_type": "execute_result"
    }
   ],
   "source": [
    "merge_1.shape"
   ]
  },
  {
   "cell_type": "code",
   "execution_count": 86,
   "id": "73d222ce-fd39-484e-8275-4a9d1044fcf2",
   "metadata": {},
   "outputs": [],
   "source": [
    "# now let's merge the dataset of merge_1 and web_data\n",
    "test_merge = pd.merge(web_data, merge_1, on = 'client_id')"
   ]
  },
  {
   "cell_type": "code",
   "execution_count": 87,
   "id": "bb5c59c5-3b1d-4033-9dd3-1897160b89cf",
   "metadata": {},
   "outputs": [
    {
     "data": {
      "text/html": [
       "<div>\n",
       "<style scoped>\n",
       "    .dataframe tbody tr th:only-of-type {\n",
       "        vertical-align: middle;\n",
       "    }\n",
       "\n",
       "    .dataframe tbody tr th {\n",
       "        vertical-align: top;\n",
       "    }\n",
       "\n",
       "    .dataframe thead th {\n",
       "        text-align: right;\n",
       "    }\n",
       "</style>\n",
       "<table border=\"1\" class=\"dataframe\">\n",
       "  <thead>\n",
       "    <tr style=\"text-align: right;\">\n",
       "      <th></th>\n",
       "      <th>client_id</th>\n",
       "      <th>visitor_id</th>\n",
       "      <th>visit_id</th>\n",
       "      <th>process_step</th>\n",
       "      <th>time</th>\n",
       "      <th>date</th>\n",
       "      <th>year</th>\n",
       "      <th>month</th>\n",
       "      <th>day</th>\n",
       "      <th>clnt_tenure_yr</th>\n",
       "      <th>clnt_tenure_mnth</th>\n",
       "      <th>clnt_age</th>\n",
       "      <th>gendr</th>\n",
       "      <th>num_accts</th>\n",
       "      <th>bal</th>\n",
       "      <th>calls_6_mnth</th>\n",
       "      <th>logons_6_mnth</th>\n",
       "      <th>age_category</th>\n",
       "      <th>variation_test</th>\n",
       "    </tr>\n",
       "  </thead>\n",
       "  <tbody>\n",
       "    <tr>\n",
       "      <th>0</th>\n",
       "      <td>9988021</td>\n",
       "      <td>580560515_7732621733</td>\n",
       "      <td>781255054_21935453173_531117</td>\n",
       "      <td>step_3</td>\n",
       "      <td>15, 27, 07</td>\n",
       "      <td>2017, Apr, 17</td>\n",
       "      <td>2017</td>\n",
       "      <td>4</td>\n",
       "      <td>17</td>\n",
       "      <td>5</td>\n",
       "      <td>64</td>\n",
       "      <td>79</td>\n",
       "      <td>U</td>\n",
       "      <td>2</td>\n",
       "      <td>189023</td>\n",
       "      <td>1</td>\n",
       "      <td>4</td>\n",
       "      <td>76-96</td>\n",
       "      <td>Test</td>\n",
       "    </tr>\n",
       "    <tr>\n",
       "      <th>1</th>\n",
       "      <td>9988021</td>\n",
       "      <td>580560515_7732621733</td>\n",
       "      <td>781255054_21935453173_531117</td>\n",
       "      <td>step_2</td>\n",
       "      <td>15, 26, 51</td>\n",
       "      <td>2017, Apr, 17</td>\n",
       "      <td>2017</td>\n",
       "      <td>4</td>\n",
       "      <td>17</td>\n",
       "      <td>5</td>\n",
       "      <td>64</td>\n",
       "      <td>79</td>\n",
       "      <td>U</td>\n",
       "      <td>2</td>\n",
       "      <td>189023</td>\n",
       "      <td>1</td>\n",
       "      <td>4</td>\n",
       "      <td>76-96</td>\n",
       "      <td>Test</td>\n",
       "    </tr>\n",
       "  </tbody>\n",
       "</table>\n",
       "</div>"
      ],
      "text/plain": [
       "   client_id            visitor_id                      visit_id process_step  \\\n",
       "0    9988021  580560515_7732621733  781255054_21935453173_531117       step_3   \n",
       "1    9988021  580560515_7732621733  781255054_21935453173_531117       step_2   \n",
       "\n",
       "         time           date  year  month  day  clnt_tenure_yr  \\\n",
       "0  15, 27, 07  2017, Apr, 17  2017      4   17               5   \n",
       "1  15, 26, 51  2017, Apr, 17  2017      4   17               5   \n",
       "\n",
       "   clnt_tenure_mnth  clnt_age gendr  num_accts     bal  calls_6_mnth  \\\n",
       "0                64        79     U          2  189023             1   \n",
       "1                64        79     U          2  189023             1   \n",
       "\n",
       "   logons_6_mnth age_category variation_test  \n",
       "0              4        76-96           Test  \n",
       "1              4        76-96           Test  "
      ]
     },
     "execution_count": 87,
     "metadata": {},
     "output_type": "execute_result"
    }
   ],
   "source": [
    "# Lets check the dataset\n",
    "test_merge.head(2)"
   ]
  },
  {
   "cell_type": "code",
   "execution_count": 88,
   "id": "74890fe2-38b0-43f5-9c0e-fd893d8ec053",
   "metadata": {},
   "outputs": [
    {
     "data": {
      "text/plain": [
       "(176641, 19)"
      ]
     },
     "execution_count": 88,
     "metadata": {},
     "output_type": "execute_result"
    }
   ],
   "source": [
    "test_merge.shape"
   ]
  },
  {
   "cell_type": "code",
   "execution_count": 89,
   "id": "c1e089e5-e9e8-4463-aa81-778431d97d90",
   "metadata": {},
   "outputs": [],
   "source": [
    "# Let's save the dataset of test_merge\n",
    "test_merge.to_csv(\"test_merge.csv\")"
   ]
  },
  {
   "cell_type": "code",
   "execution_count": 98,
   "id": "47faaa10-d7f7-44b9-99e2-3ed364f16019",
   "metadata": {},
   "outputs": [
    {
     "data": {
      "text/plain": [
       "process_step\n",
       "start      55753\n",
       "step_1     38651\n",
       "step_2     30888\n",
       "step_3     25755\n",
       "confirm    25594\n",
       "Name: count, dtype: int64"
      ]
     },
     "execution_count": 98,
     "metadata": {},
     "output_type": "execute_result"
    }
   ],
   "source": [
    "test_merge['process_step'].value_counts()"
   ]
  },
  {
   "cell_type": "markdown",
   "id": "0b13113b-0f53-4bb3-86a1-aace13889883",
   "metadata": {},
   "source": [
    "Let us move to control group"
   ]
  },
  {
   "cell_type": "code",
   "execution_count": 90,
   "id": "cef7a8ee-bc59-41e7-a6ed-9c941a421c8e",
   "metadata": {},
   "outputs": [],
   "source": [
    "# First we merge control_group with demog\n",
    "merge_2 = pd.merge(demog, control_group, on = 'client_id')"
   ]
  },
  {
   "cell_type": "code",
   "execution_count": 91,
   "id": "e0a38f5a-0930-40fe-8ea8-34d04c01098e",
   "metadata": {},
   "outputs": [
    {
     "data": {
      "text/html": [
       "<div>\n",
       "<style scoped>\n",
       "    .dataframe tbody tr th:only-of-type {\n",
       "        vertical-align: middle;\n",
       "    }\n",
       "\n",
       "    .dataframe tbody tr th {\n",
       "        vertical-align: top;\n",
       "    }\n",
       "\n",
       "    .dataframe thead th {\n",
       "        text-align: right;\n",
       "    }\n",
       "</style>\n",
       "<table border=\"1\" class=\"dataframe\">\n",
       "  <thead>\n",
       "    <tr style=\"text-align: right;\">\n",
       "      <th></th>\n",
       "      <th>client_id</th>\n",
       "      <th>clnt_tenure_yr</th>\n",
       "      <th>clnt_tenure_mnth</th>\n",
       "      <th>clnt_age</th>\n",
       "      <th>gendr</th>\n",
       "      <th>num_accts</th>\n",
       "      <th>bal</th>\n",
       "      <th>calls_6_mnth</th>\n",
       "      <th>logons_6_mnth</th>\n",
       "      <th>age_category</th>\n",
       "      <th>variation_control</th>\n",
       "    </tr>\n",
       "  </thead>\n",
       "  <tbody>\n",
       "    <tr>\n",
       "      <th>0</th>\n",
       "      <td>2304905</td>\n",
       "      <td>7</td>\n",
       "      <td>94</td>\n",
       "      <td>58</td>\n",
       "      <td>U</td>\n",
       "      <td>2</td>\n",
       "      <td>110860</td>\n",
       "      <td>6</td>\n",
       "      <td>9</td>\n",
       "      <td>46-60</td>\n",
       "      <td>Control</td>\n",
       "    </tr>\n",
       "    <tr>\n",
       "      <th>1</th>\n",
       "      <td>5126305</td>\n",
       "      <td>12</td>\n",
       "      <td>145</td>\n",
       "      <td>33</td>\n",
       "      <td>F</td>\n",
       "      <td>2</td>\n",
       "      <td>103671</td>\n",
       "      <td>0</td>\n",
       "      <td>3</td>\n",
       "      <td>31-45</td>\n",
       "      <td>Control</td>\n",
       "    </tr>\n",
       "  </tbody>\n",
       "</table>\n",
       "</div>"
      ],
      "text/plain": [
       "   client_id  clnt_tenure_yr  clnt_tenure_mnth  clnt_age gendr  num_accts  \\\n",
       "0    2304905               7                94        58     U          2   \n",
       "1    5126305              12               145        33     F          2   \n",
       "\n",
       "      bal  calls_6_mnth  logons_6_mnth age_category variation_control  \n",
       "0  110860             6              9        46-60           Control  \n",
       "1  103671             0              3        31-45           Control  "
      ]
     },
     "execution_count": 91,
     "metadata": {},
     "output_type": "execute_result"
    }
   ],
   "source": [
    "merge_2.head(2)"
   ]
  },
  {
   "cell_type": "code",
   "execution_count": 92,
   "id": "7d9a04f9-724b-43d0-85e9-906aedf3ec49",
   "metadata": {},
   "outputs": [],
   "source": [
    "# Now we will merge merge_2 dataset and web_data\n",
    "control_merge = pd.merge(web_data, merge_2, on = 'client_id')"
   ]
  },
  {
   "cell_type": "code",
   "execution_count": 93,
   "id": "164c8cd5-7892-48f5-8936-bd3397d09efc",
   "metadata": {},
   "outputs": [
    {
     "data": {
      "text/html": [
       "<div>\n",
       "<style scoped>\n",
       "    .dataframe tbody tr th:only-of-type {\n",
       "        vertical-align: middle;\n",
       "    }\n",
       "\n",
       "    .dataframe tbody tr th {\n",
       "        vertical-align: top;\n",
       "    }\n",
       "\n",
       "    .dataframe thead th {\n",
       "        text-align: right;\n",
       "    }\n",
       "</style>\n",
       "<table border=\"1\" class=\"dataframe\">\n",
       "  <thead>\n",
       "    <tr style=\"text-align: right;\">\n",
       "      <th></th>\n",
       "      <th>client_id</th>\n",
       "      <th>visitor_id</th>\n",
       "      <th>visit_id</th>\n",
       "      <th>process_step</th>\n",
       "      <th>time</th>\n",
       "      <th>date</th>\n",
       "      <th>year</th>\n",
       "      <th>month</th>\n",
       "      <th>day</th>\n",
       "      <th>clnt_tenure_yr</th>\n",
       "      <th>clnt_tenure_mnth</th>\n",
       "      <th>clnt_age</th>\n",
       "      <th>gendr</th>\n",
       "      <th>num_accts</th>\n",
       "      <th>bal</th>\n",
       "      <th>calls_6_mnth</th>\n",
       "      <th>logons_6_mnth</th>\n",
       "      <th>age_category</th>\n",
       "      <th>variation_control</th>\n",
       "    </tr>\n",
       "  </thead>\n",
       "  <tbody>\n",
       "    <tr>\n",
       "      <th>0</th>\n",
       "      <td>4033851</td>\n",
       "      <td>762728880_76361333336</td>\n",
       "      <td>949661017_22392791362_127391</td>\n",
       "      <td>confirm</td>\n",
       "      <td>12, 29, 03</td>\n",
       "      <td>2017, Apr, 05</td>\n",
       "      <td>2017</td>\n",
       "      <td>4</td>\n",
       "      <td>5</td>\n",
       "      <td>12</td>\n",
       "      <td>149</td>\n",
       "      <td>64</td>\n",
       "      <td>M</td>\n",
       "      <td>2</td>\n",
       "      <td>142642</td>\n",
       "      <td>5</td>\n",
       "      <td>8</td>\n",
       "      <td>61-75</td>\n",
       "      <td>Control</td>\n",
       "    </tr>\n",
       "    <tr>\n",
       "      <th>1</th>\n",
       "      <td>4033851</td>\n",
       "      <td>762728880_76361333336</td>\n",
       "      <td>949661017_22392791362_127391</td>\n",
       "      <td>confirm</td>\n",
       "      <td>12, 29, 01</td>\n",
       "      <td>2017, Apr, 05</td>\n",
       "      <td>2017</td>\n",
       "      <td>4</td>\n",
       "      <td>5</td>\n",
       "      <td>12</td>\n",
       "      <td>149</td>\n",
       "      <td>64</td>\n",
       "      <td>M</td>\n",
       "      <td>2</td>\n",
       "      <td>142642</td>\n",
       "      <td>5</td>\n",
       "      <td>8</td>\n",
       "      <td>61-75</td>\n",
       "      <td>Control</td>\n",
       "    </tr>\n",
       "  </tbody>\n",
       "</table>\n",
       "</div>"
      ],
      "text/plain": [
       "   client_id             visitor_id                      visit_id  \\\n",
       "0    4033851  762728880_76361333336  949661017_22392791362_127391   \n",
       "1    4033851  762728880_76361333336  949661017_22392791362_127391   \n",
       "\n",
       "  process_step        time           date  year  month  day  clnt_tenure_yr  \\\n",
       "0      confirm  12, 29, 03  2017, Apr, 05  2017      4    5              12   \n",
       "1      confirm  12, 29, 01  2017, Apr, 05  2017      4    5              12   \n",
       "\n",
       "   clnt_tenure_mnth  clnt_age gendr  num_accts     bal  calls_6_mnth  \\\n",
       "0               149        64     M          2  142642             5   \n",
       "1               149        64     M          2  142642             5   \n",
       "\n",
       "   logons_6_mnth age_category variation_control  \n",
       "0              8        61-75           Control  \n",
       "1              8        61-75           Control  "
      ]
     },
     "execution_count": 93,
     "metadata": {},
     "output_type": "execute_result"
    }
   ],
   "source": [
    "control_merge.head(2)"
   ]
  },
  {
   "cell_type": "code",
   "execution_count": 94,
   "id": "7d2cf620-4b3f-46aa-9e6e-a34cf247519b",
   "metadata": {},
   "outputs": [
    {
     "data": {
      "text/plain": [
       "(140482, 19)"
      ]
     },
     "execution_count": 94,
     "metadata": {},
     "output_type": "execute_result"
    }
   ],
   "source": [
    "control_merge.shape"
   ]
  },
  {
   "cell_type": "code",
   "execution_count": 95,
   "id": "dfa01313-b2b8-479c-acf8-dfcd04840a58",
   "metadata": {},
   "outputs": [],
   "source": [
    "# Now save it in to csv file\n",
    "control_merge.to_csv(\"control_merge.csv\")"
   ]
  },
  {
   "cell_type": "code",
   "execution_count": 96,
   "id": "057c052b-aa96-451f-9739-8b86de1a7e5c",
   "metadata": {},
   "outputs": [
    {
     "data": {
      "text/plain": [
       "process_step\n",
       "start      45361\n",
       "step_1     29533\n",
       "step_2     25764\n",
       "step_3     22495\n",
       "confirm    17329\n",
       "Name: count, dtype: int64"
      ]
     },
     "execution_count": 96,
     "metadata": {},
     "output_type": "execute_result"
    }
   ],
   "source": [
    "control_merge['process_step'].value_counts()"
   ]
  },
  {
   "cell_type": "code",
   "execution_count": 119,
   "id": "a5f9ded9-4ef8-41bc-9614-fd1bd0f9f969",
   "metadata": {},
   "outputs": [],
   "source": [
    "# Let's sort the dataframe based on client_id, visit_id, Process_step, date, time.\n",
    "# Define the sort_ function\n",
    "def sort_val(column):\n",
    "    return (column[0],column[2])"
   ]
  },
  {
   "cell_type": "code",
   "execution_count": 120,
   "id": "d601f754-d5c8-4c61-b64d-a4718a8c9d93",
   "metadata": {},
   "outputs": [],
   "source": [
    "# Sort our dataframe based on multiple columns\n",
    "control_sorted = sorted(control_merge, key = sort_val)"
   ]
  },
  {
   "cell_type": "code",
   "execution_count": 124,
   "id": "f0cbd851-7289-434a-a0f7-be17eaa6a1a3",
   "metadata": {},
   "outputs": [
    {
     "ename": "TypeError",
     "evalue": "'function' object is not iterable",
     "output_type": "error",
     "traceback": [
      "\u001b[1;31m---------------------------------------------------------------------------\u001b[0m",
      "\u001b[1;31mTypeError\u001b[0m                                 Traceback (most recent call last)",
      "Cell \u001b[1;32mIn[124], line 1\u001b[0m\n\u001b[1;32m----> 1\u001b[0m \u001b[38;5;28;01mfor\u001b[39;00m col \u001b[38;5;129;01min\u001b[39;00m sort_val:\n\u001b[0;32m      2\u001b[0m     \u001b[38;5;28mprint\u001b[39m(col)\n",
      "\u001b[1;31mTypeError\u001b[0m: 'function' object is not iterable"
     ]
    }
   ],
   "source": [
    "for col in sort_val:\n",
    "    print(col)"
   ]
  },
  {
   "cell_type": "code",
   "execution_count": null,
   "id": "23a682ef-0579-4d73-8aee-e9b185b9e40f",
   "metadata": {},
   "outputs": [],
   "source": []
  }
 ],
 "metadata": {
  "kernelspec": {
   "display_name": "Python 3 (ipykernel)",
   "language": "python",
   "name": "python3"
  },
  "language_info": {
   "codemirror_mode": {
    "name": "ipython",
    "version": 3
   },
   "file_extension": ".py",
   "mimetype": "text/x-python",
   "name": "python",
   "nbconvert_exporter": "python",
   "pygments_lexer": "ipython3",
   "version": "3.11.7"
  }
 },
 "nbformat": 4,
 "nbformat_minor": 5
}
