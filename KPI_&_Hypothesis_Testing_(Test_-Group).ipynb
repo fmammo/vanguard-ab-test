{
 "cells": [
  {
   "cell_type": "markdown",
   "id": "69d94dc7-e36b-49b6-abf5-c2d34d358296",
   "metadata": {},
   "source": [
    "Here we will do the four kpi's (Key performance indicator) for both control and test group and we will compare them so that we know how the new design performed."
   ]
  },
  {
   "cell_type": "markdown",
   "id": "c88bce4e-5035-4f0a-91be-c07bfa49c902",
   "metadata": {},
   "source": [
    "#### Let's do the four kpi's for the Test_group \"Completion rate , Average time spent, Time spent on each step, Error rate\" for Test group"
   ]
  },
  {
   "cell_type": "code",
   "execution_count": 2,
   "id": "806f8d32-4826-47a0-a0db-6b8dd89436ee",
   "metadata": {},
   "outputs": [],
   "source": [
    "# Load necessary libraries\n",
    "import pandas as pd\n",
    "import numpy as np\n",
    "from collections import defaultdict\n",
    "from datetime import datetime\n",
    "import time"
   ]
  },
  {
   "cell_type": "code",
   "execution_count": 8,
   "id": "2a8f2120-9cb6-4194-a4dc-363ea12eb4c7",
   "metadata": {},
   "outputs": [
    {
     "data": {
      "text/html": [
       "<div>\n",
       "<style scoped>\n",
       "    .dataframe tbody tr th:only-of-type {\n",
       "        vertical-align: middle;\n",
       "    }\n",
       "\n",
       "    .dataframe tbody tr th {\n",
       "        vertical-align: top;\n",
       "    }\n",
       "\n",
       "    .dataframe thead th {\n",
       "        text-align: right;\n",
       "    }\n",
       "</style>\n",
       "<table border=\"1\" class=\"dataframe\">\n",
       "  <thead>\n",
       "    <tr style=\"text-align: right;\">\n",
       "      <th></th>\n",
       "      <th>client_id</th>\n",
       "      <th>visitor_id</th>\n",
       "      <th>visit_id</th>\n",
       "      <th>process_step</th>\n",
       "      <th>date_time</th>\n",
       "      <th>date</th>\n",
       "      <th>time</th>\n",
       "      <th>year</th>\n",
       "      <th>month</th>\n",
       "      <th>day</th>\n",
       "      <th>clnt_tenure_yr</th>\n",
       "      <th>clnt_tenure_mnth</th>\n",
       "      <th>clnt_age</th>\n",
       "      <th>gendr</th>\n",
       "      <th>num_accts</th>\n",
       "      <th>bal</th>\n",
       "      <th>calls_6_mnth</th>\n",
       "      <th>logons_6_mnth</th>\n",
       "      <th>age_category</th>\n",
       "      <th>variation_test</th>\n",
       "    </tr>\n",
       "  </thead>\n",
       "  <tbody>\n",
       "    <tr>\n",
       "      <th>0</th>\n",
       "      <td>555</td>\n",
       "      <td>402506806_56087378777</td>\n",
       "      <td>637149525_38041617439_716659</td>\n",
       "      <td>confirm</td>\n",
       "      <td>4/15/2017 13:00</td>\n",
       "      <td>2017, 00, 15</td>\n",
       "      <td>13, 00, 34</td>\n",
       "      <td>2017</td>\n",
       "      <td>4</td>\n",
       "      <td>15</td>\n",
       "      <td>3</td>\n",
       "      <td>46</td>\n",
       "      <td>30</td>\n",
       "      <td>U</td>\n",
       "      <td>2</td>\n",
       "      <td>25454</td>\n",
       "      <td>2</td>\n",
       "      <td>6</td>\n",
       "      <td>14-30</td>\n",
       "      <td>Test</td>\n",
       "    </tr>\n",
       "    <tr>\n",
       "      <th>1</th>\n",
       "      <td>555</td>\n",
       "      <td>402506806_56087378777</td>\n",
       "      <td>637149525_38041617439_716659</td>\n",
       "      <td>start</td>\n",
       "      <td>4/15/2017 12:57</td>\n",
       "      <td>2017, 57, 15</td>\n",
       "      <td>12, 57, 56</td>\n",
       "      <td>2017</td>\n",
       "      <td>4</td>\n",
       "      <td>15</td>\n",
       "      <td>3</td>\n",
       "      <td>46</td>\n",
       "      <td>30</td>\n",
       "      <td>U</td>\n",
       "      <td>2</td>\n",
       "      <td>25454</td>\n",
       "      <td>2</td>\n",
       "      <td>6</td>\n",
       "      <td>14-30</td>\n",
       "      <td>Test</td>\n",
       "    </tr>\n",
       "  </tbody>\n",
       "</table>\n",
       "</div>"
      ],
      "text/plain": [
       "   client_id             visitor_id                      visit_id  \\\n",
       "0        555  402506806_56087378777  637149525_38041617439_716659   \n",
       "1        555  402506806_56087378777  637149525_38041617439_716659   \n",
       "\n",
       "  process_step        date_time          date        time  year  month  day  \\\n",
       "0      confirm  4/15/2017 13:00  2017, 00, 15  13, 00, 34  2017      4   15   \n",
       "1        start  4/15/2017 12:57  2017, 57, 15  12, 57, 56  2017      4   15   \n",
       "\n",
       "   clnt_tenure_yr  clnt_tenure_mnth  clnt_age gendr  num_accts    bal  \\\n",
       "0               3                46        30     U          2  25454   \n",
       "1               3                46        30     U          2  25454   \n",
       "\n",
       "   calls_6_mnth  logons_6_mnth age_category variation_test  \n",
       "0             2              6        14-30           Test  \n",
       "1             2              6        14-30           Test  "
      ]
     },
     "execution_count": 8,
     "metadata": {},
     "output_type": "execute_result"
    }
   ],
   "source": [
    "# load the data\n",
    "test_sorted = pd.read_csv(\"test_sorted.csv\")\n",
    "test_sorted.head(2)"
   ]
  },
  {
   "cell_type": "markdown",
   "id": "388c4695-3b92-4159-9b27-349e7a6948c9",
   "metadata": {},
   "source": [
    "#### Completion rate"
   ]
  },
  {
   "cell_type": "code",
   "execution_count": 9,
   "id": "39e7cad1-d5fc-42f2-bea6-ee0c020f913b",
   "metadata": {},
   "outputs": [
    {
     "data": {
      "text/plain": [
       "25594"
      ]
     },
     "execution_count": 9,
     "metadata": {},
     "output_type": "execute_result"
    }
   ],
   "source": [
    "# Calculate for the total confirmed process step\n",
    "process_step_confirm = len(test_sorted[test_sorted['process_step'] == 'confirm'])\n",
    "process_step_confirm"
   ]
  },
  {
   "cell_type": "code",
   "execution_count": 10,
   "id": "920f8e40-48e0-460a-90f8-b3501ed1d6d5",
   "metadata": {},
   "outputs": [
    {
     "data": {
      "text/plain": [
       "55753"
      ]
     },
     "execution_count": 10,
     "metadata": {},
     "output_type": "execute_result"
    }
   ],
   "source": [
    "# Calculate for the total start process step\n",
    "process_step_start = len(test_sorted[test_sorted['process_step'] == 'start'])\n",
    "process_step_start"
   ]
  },
  {
   "cell_type": "code",
   "execution_count": 11,
   "id": "e7c60ef9-01a1-4604-91e3-6148c318a954",
   "metadata": {},
   "outputs": [
    {
     "data": {
      "text/plain": [
       "46"
      ]
     },
     "execution_count": 11,
     "metadata": {},
     "output_type": "execute_result"
    }
   ],
   "source": [
    "# Calculate for the completion rate\n",
    "completion_rate = round((process_step_confirm/process_step_start) * 100)\n",
    "completion_rate"
   ]
  },
  {
   "cell_type": "markdown",
   "id": "78de7da6-e4d1-43ae-9ec7-1a5c577c4e7d",
   "metadata": {},
   "source": [
    "#### Average time spent"
   ]
  },
  {
   "cell_type": "code",
   "execution_count": 15,
   "id": "2fbf44a2-c63e-4f22-a8be-672c4806f09b",
   "metadata": {},
   "outputs": [],
   "source": [
    "# Open dictionary to store time differences for each client ID\n",
    "test_sorted2 = test_sorted[['client_id','time']]\n",
    "test_sorted2_list = test_sorted2.values.tolist()\n",
    "\n",
    "time_diffs = defaultdict(list)\n",
    "\n",
    "# Parse timestamps and group by client ID\n",
    "for client_id, time in test_sorted2_list:\n",
    "    time_diffs[client_id].append(datetime.strptime(time, '%H, %M, %S'))"
   ]
  },
  {
   "cell_type": "code",
   "execution_count": 16,
   "id": "5171791e-0c24-4695-a782-fb0a19aeadba",
   "metadata": {},
   "outputs": [],
   "source": [
    "# Calculate time differences for each client ID\n",
    "time_diffrence1 = []\n",
    "time_diffrence2 = []\n",
    "for client_id, time in time_diffs.items():\n",
    "    time.sort()  # Ensure timestamps are sorted\n",
    "    for i in range(1, len(time)):\n",
    "        time_diff = time[i] - time[i - 1]\n",
    "        time_diffrence1.append(client_id)\n",
    "        time_diffrence2.append(time_diff)\n",
    "        #print(f\"Client ID: {client_id}, Time difference: {time_diff}\")"
   ]
  },
  {
   "cell_type": "code",
   "execution_count": 17,
   "id": "493bc8d4-364a-4063-8362-3d12ca28d89d",
   "metadata": {},
   "outputs": [],
   "source": [
    "time_differ1 = pd.DataFrame(time_diffrence1)\n",
    "time_differ2 = pd.DataFrame(time_diffrence2)"
   ]
  },
  {
   "cell_type": "code",
   "execution_count": 18,
   "id": "c5698094-c7b8-43eb-88d8-6c6c7118b472",
   "metadata": {},
   "outputs": [],
   "source": [
    "# Set the column names for both dataframes\n",
    "time_differ2.columns = ['time_diffrence']\n",
    "time_differ1.columns = ['client_id']"
   ]
  },
  {
   "cell_type": "code",
   "execution_count": 19,
   "id": "9905e63b-475e-4db7-a782-880514eed3b3",
   "metadata": {},
   "outputs": [],
   "source": [
    "# Add them\n",
    "time_differ1 = pd.concat([time_differ1, time_differ2], axis = 1)"
   ]
  },
  {
   "cell_type": "code",
   "execution_count": 21,
   "id": "c03deb2d-29f3-4f18-804a-9c30f573ceb6",
   "metadata": {},
   "outputs": [
    {
     "data": {
      "text/html": [
       "<div>\n",
       "<style scoped>\n",
       "    .dataframe tbody tr th:only-of-type {\n",
       "        vertical-align: middle;\n",
       "    }\n",
       "\n",
       "    .dataframe tbody tr th {\n",
       "        vertical-align: top;\n",
       "    }\n",
       "\n",
       "    .dataframe thead th {\n",
       "        text-align: right;\n",
       "    }\n",
       "</style>\n",
       "<table border=\"1\" class=\"dataframe\">\n",
       "  <thead>\n",
       "    <tr style=\"text-align: right;\">\n",
       "      <th></th>\n",
       "      <th>client_id</th>\n",
       "      <th>time_diffrence</th>\n",
       "    </tr>\n",
       "  </thead>\n",
       "  <tbody>\n",
       "    <tr>\n",
       "      <th>0</th>\n",
       "      <td>555</td>\n",
       "      <td>0 days 00:00:07</td>\n",
       "    </tr>\n",
       "    <tr>\n",
       "      <th>1</th>\n",
       "      <td>555</td>\n",
       "      <td>0 days 00:00:32</td>\n",
       "    </tr>\n",
       "    <tr>\n",
       "      <th>2</th>\n",
       "      <td>555</td>\n",
       "      <td>0 days 00:01:39</td>\n",
       "    </tr>\n",
       "    <tr>\n",
       "      <th>3</th>\n",
       "      <td>555</td>\n",
       "      <td>0 days 00:00:20</td>\n",
       "    </tr>\n",
       "    <tr>\n",
       "      <th>4</th>\n",
       "      <td>647</td>\n",
       "      <td>0 days 00:00:07</td>\n",
       "    </tr>\n",
       "  </tbody>\n",
       "</table>\n",
       "</div>"
      ],
      "text/plain": [
       "   client_id  time_diffrence\n",
       "0        555 0 days 00:00:07\n",
       "1        555 0 days 00:00:32\n",
       "2        555 0 days 00:01:39\n",
       "3        555 0 days 00:00:20\n",
       "4        647 0 days 00:00:07"
      ]
     },
     "execution_count": 21,
     "metadata": {},
     "output_type": "execute_result"
    }
   ],
   "source": [
    "# total_time spent is equal/ same  with time deffrence\n",
    "time_differ1.head()"
   ]
  },
  {
   "cell_type": "code",
   "execution_count": 20,
   "id": "2c88b9f2-f099-4ba9-90e4-2ce3c48764a4",
   "metadata": {},
   "outputs": [
    {
     "data": {
      "text/plain": [
       "Timedelta('1624 days 05:10:41')"
      ]
     },
     "execution_count": 20,
     "metadata": {},
     "output_type": "execute_result"
    }
   ],
   "source": [
    "# total time spent \n",
    "total_time = time_differ1['time_diffrence'].sum()\n",
    "total_time"
   ]
  },
  {
   "cell_type": "code",
   "execution_count": 22,
   "id": "31c4e3f5-47cc-4ae4-8e0a-b1f9a1fcfaa0",
   "metadata": {},
   "outputs": [
    {
     "data": {
      "text/plain": [
       "Timedelta('0 days 00:15:37.548376536')"
      ]
     },
     "execution_count": 22,
     "metadata": {},
     "output_type": "execute_result"
    }
   ],
   "source": [
    "# average time spent \n",
    "avg_time = time_differ1['time_diffrence'].mean()\n",
    "avg_time"
   ]
  },
  {
   "cell_type": "code",
   "execution_count": 23,
   "id": "01f45ac7-f148-4b95-a1b4-c07ed6fad9a6",
   "metadata": {},
   "outputs": [],
   "source": [
    "# Let's merge time_diffre1 with test_merge based on client_id\n",
    "test_diffre = pd.merge(test_sorted, time_differ1, on = 'client_id')"
   ]
  },
  {
   "cell_type": "code",
   "execution_count": 25,
   "id": "6a609240-ea6b-4362-b8d3-2ca590560ccf",
   "metadata": {},
   "outputs": [
    {
     "data": {
      "text/html": [
       "<div>\n",
       "<style scoped>\n",
       "    .dataframe tbody tr th:only-of-type {\n",
       "        vertical-align: middle;\n",
       "    }\n",
       "\n",
       "    .dataframe tbody tr th {\n",
       "        vertical-align: top;\n",
       "    }\n",
       "\n",
       "    .dataframe thead th {\n",
       "        text-align: right;\n",
       "    }\n",
       "</style>\n",
       "<table border=\"1\" class=\"dataframe\">\n",
       "  <thead>\n",
       "    <tr style=\"text-align: right;\">\n",
       "      <th></th>\n",
       "      <th>client_id</th>\n",
       "      <th>visitor_id</th>\n",
       "      <th>visit_id</th>\n",
       "      <th>process_step</th>\n",
       "      <th>date_time</th>\n",
       "      <th>date</th>\n",
       "      <th>time</th>\n",
       "      <th>year</th>\n",
       "      <th>month</th>\n",
       "      <th>day</th>\n",
       "      <th>...</th>\n",
       "      <th>clnt_tenure_mnth</th>\n",
       "      <th>clnt_age</th>\n",
       "      <th>gendr</th>\n",
       "      <th>num_accts</th>\n",
       "      <th>bal</th>\n",
       "      <th>calls_6_mnth</th>\n",
       "      <th>logons_6_mnth</th>\n",
       "      <th>age_category</th>\n",
       "      <th>variation_test</th>\n",
       "      <th>time_diffrence</th>\n",
       "    </tr>\n",
       "  </thead>\n",
       "  <tbody>\n",
       "    <tr>\n",
       "      <th>0</th>\n",
       "      <td>555</td>\n",
       "      <td>402506806_56087378777</td>\n",
       "      <td>637149525_38041617439_716659</td>\n",
       "      <td>confirm</td>\n",
       "      <td>4/15/2017 13:00</td>\n",
       "      <td>2017, 00, 15</td>\n",
       "      <td>13, 00, 34</td>\n",
       "      <td>2017</td>\n",
       "      <td>4</td>\n",
       "      <td>15</td>\n",
       "      <td>...</td>\n",
       "      <td>46</td>\n",
       "      <td>30</td>\n",
       "      <td>U</td>\n",
       "      <td>2</td>\n",
       "      <td>25454</td>\n",
       "      <td>2</td>\n",
       "      <td>6</td>\n",
       "      <td>14-30</td>\n",
       "      <td>Test</td>\n",
       "      <td>0 days 00:00:07</td>\n",
       "    </tr>\n",
       "    <tr>\n",
       "      <th>1</th>\n",
       "      <td>555</td>\n",
       "      <td>402506806_56087378777</td>\n",
       "      <td>637149525_38041617439_716659</td>\n",
       "      <td>confirm</td>\n",
       "      <td>4/15/2017 13:00</td>\n",
       "      <td>2017, 00, 15</td>\n",
       "      <td>13, 00, 34</td>\n",
       "      <td>2017</td>\n",
       "      <td>4</td>\n",
       "      <td>15</td>\n",
       "      <td>...</td>\n",
       "      <td>46</td>\n",
       "      <td>30</td>\n",
       "      <td>U</td>\n",
       "      <td>2</td>\n",
       "      <td>25454</td>\n",
       "      <td>2</td>\n",
       "      <td>6</td>\n",
       "      <td>14-30</td>\n",
       "      <td>Test</td>\n",
       "      <td>0 days 00:00:32</td>\n",
       "    </tr>\n",
       "  </tbody>\n",
       "</table>\n",
       "<p>2 rows × 21 columns</p>\n",
       "</div>"
      ],
      "text/plain": [
       "   client_id             visitor_id                      visit_id  \\\n",
       "0        555  402506806_56087378777  637149525_38041617439_716659   \n",
       "1        555  402506806_56087378777  637149525_38041617439_716659   \n",
       "\n",
       "  process_step        date_time          date        time  year  month  day  \\\n",
       "0      confirm  4/15/2017 13:00  2017, 00, 15  13, 00, 34  2017      4   15   \n",
       "1      confirm  4/15/2017 13:00  2017, 00, 15  13, 00, 34  2017      4   15   \n",
       "\n",
       "   ...  clnt_tenure_mnth  clnt_age  gendr num_accts    bal  calls_6_mnth  \\\n",
       "0  ...                46        30      U         2  25454             2   \n",
       "1  ...                46        30      U         2  25454             2   \n",
       "\n",
       "   logons_6_mnth  age_category variation_test  time_diffrence  \n",
       "0              6         14-30           Test 0 days 00:00:07  \n",
       "1              6         14-30           Test 0 days 00:00:32  \n",
       "\n",
       "[2 rows x 21 columns]"
      ]
     },
     "execution_count": 25,
     "metadata": {},
     "output_type": "execute_result"
    }
   ],
   "source": [
    "test_diffre.head(2)"
   ]
  },
  {
   "cell_type": "markdown",
   "id": "c3028b87-fa44-4fa3-a304-a402298e59d0",
   "metadata": {},
   "source": [
    "#### Time spent on each step"
   ]
  },
  {
   "cell_type": "code",
   "execution_count": 26,
   "id": "cb3cabf8-95f7-48a9-be1a-2b8908989705",
   "metadata": {},
   "outputs": [
    {
     "name": "stdout",
     "output_type": "stream",
     "text": [
      "        client_id process_step  date_time\n",
      "0             555      confirm      120.0\n",
      "1             555        start        0.0\n",
      "2             555       step_1       60.0\n",
      "3             555       step_2        0.0\n",
      "4             555       step_3        0.0\n",
      "...           ...          ...        ...\n",
      "111339    9999729       step_1      120.0\n",
      "111340    9999729       step_2      300.0\n",
      "111341    9999729       step_3        0.0\n",
      "111342    9999832        start        0.0\n",
      "111343    9999832       step_1        0.0\n",
      "\n",
      "[111344 rows x 3 columns]\n"
     ]
    }
   ],
   "source": [
    "# Convert timestamp column to datetime\n",
    "test_diffre['date_time'] = pd.to_datetime(test_diffre['date_time'])\n",
    "\n",
    "# Sort DataFrame by client ID and timestamp\n",
    "test_diffre = test_diffre.sort_values(by=['client_id', 'date_time'])\n",
    "\n",
    "# Calculate time spent on each step for each client\n",
    "test_diffre['date_time'] = test_diffre.groupby('client_id')['date_time'].diff().dt.total_seconds()\n",
    "\n",
    "# Aggregate time spent on each step for each client\n",
    "time_spent_per_step = test_diffre.groupby(['client_id', 'process_step'])['date_time'].sum().reset_index()\n",
    "\n",
    "print(time_spent_per_step)"
   ]
  },
  {
   "cell_type": "markdown",
   "id": "28304e1b-82bc-4dac-8476-fca865bbf450",
   "metadata": {},
   "source": [
    "####  Error rate"
   ]
  },
  {
   "cell_type": "code",
   "execution_count": 30,
   "id": "b0772cd5-5bc5-4e69-b8c4-07783a4c3b3d",
   "metadata": {},
   "outputs": [],
   "source": [
    "# display the unique client_id's\n",
    "# Get unique client_ids\n",
    "unique_client_ids = test_sorted['client_id'].unique()\n",
    "# Iterate over each unique client_id\n",
    "for client_id in unique_client_ids:\n",
    "    # Extract rows based on the current client_id\n",
    "    client_rows = test_sorted[test_sorted['client_id'] == client_id]"
   ]
  },
  {
   "cell_type": "code",
   "execution_count": 31,
   "id": "35cca61e-1cee-4203-a261-6f00050e1db0",
   "metadata": {},
   "outputs": [],
   "source": [
    "# To get the number of attempts a client took and number of confirmed events\n",
    "def att_conf(unique_client_ids):\n",
    "    for client_id in unique_client_ids:\n",
    "       attempt = test_sorted[test_sorted['client_id'] == client_id] # Extract the rows for each client_Id\n",
    "       len_attempt = len(test_sorted[test_sorted['client_id'] == client_id]) # Sum of how many times apper each client_id in the dataframe\n",
    "       num_attempt = len_attempt/5 # How many events(True or False) are there in each 5 steps (how many full process were there?)\n",
    "       num_confirm = len(attempt [attempt['process_step'] == 'confirm']) # How many confirm events are there in a specific client_id\n",
    "       print(client_id, ',' , num_attempt,',', num_confirm)"
   ]
  },
  {
   "cell_type": "code",
   "execution_count": null,
   "id": "d7eaab53-3885-493a-a240-53ab1c8b4a60",
   "metadata": {},
   "outputs": [],
   "source": [
    "# display the unique client_id with the attempts they taken and confirmation  \n",
    "#att_conf(unique_client_ids)"
   ]
  },
  {
   "cell_type": "code",
   "execution_count": 36,
   "id": "02ae0219-2c9d-4744-a4cc-c63fbf569a4c",
   "metadata": {},
   "outputs": [
    {
     "data": {
      "text/html": [
       "<div>\n",
       "<style scoped>\n",
       "    .dataframe tbody tr th:only-of-type {\n",
       "        vertical-align: middle;\n",
       "    }\n",
       "\n",
       "    .dataframe tbody tr th {\n",
       "        vertical-align: top;\n",
       "    }\n",
       "\n",
       "    .dataframe thead th {\n",
       "        text-align: right;\n",
       "    }\n",
       "</style>\n",
       "<table border=\"1\" class=\"dataframe\">\n",
       "  <thead>\n",
       "    <tr style=\"text-align: right;\">\n",
       "      <th></th>\n",
       "      <th>client_id</th>\n",
       "      <th>num_attempt</th>\n",
       "      <th>num_confirm</th>\n",
       "      <th>is_confirmation</th>\n",
       "    </tr>\n",
       "  </thead>\n",
       "  <tbody>\n",
       "    <tr>\n",
       "      <th>0</th>\n",
       "      <td>555</td>\n",
       "      <td>1.0</td>\n",
       "      <td>1</td>\n",
       "      <td>True</td>\n",
       "    </tr>\n",
       "    <tr>\n",
       "      <th>1</th>\n",
       "      <td>647</td>\n",
       "      <td>1.0</td>\n",
       "      <td>1</td>\n",
       "      <td>True</td>\n",
       "    </tr>\n",
       "  </tbody>\n",
       "</table>\n",
       "</div>"
      ],
      "text/plain": [
       "   client_id  num_attempt  num_confirm  is_confirmation\n",
       "0        555          1.0            1             True\n",
       "1        647          1.0            1             True"
      ]
     },
     "execution_count": 36,
     "metadata": {},
     "output_type": "execute_result"
    }
   ],
   "source": [
    "# Let's import our unique client_id with their attempt and confirm event \n",
    "test_unique_id = pd.read_csv('test_unique_client_id.csv')\n",
    "test_unique_id.head(2)"
   ]
  },
  {
   "cell_type": "code",
   "execution_count": 39,
   "id": "8e7f203c-3f57-4177-82aa-c3604dad3392",
   "metadata": {},
   "outputs": [
    {
     "data": {
      "text/plain": [
       "(26963, 4)"
      ]
     },
     "execution_count": 39,
     "metadata": {},
     "output_type": "execute_result"
    }
   ],
   "source": [
    "# Check how many unique client_id we have in test\n",
    "test_unique_id.shape"
   ]
  },
  {
   "cell_type": "code",
   "execution_count": 40,
   "id": "fbccc2e6-46b5-41ab-b01e-90b87bc6586a",
   "metadata": {},
   "outputs": [
    {
     "data": {
      "text/plain": [
       "is_confirmation\n",
       "True     18683\n",
       "False     8280\n",
       "Name: count, dtype: int64"
      ]
     },
     "execution_count": 40,
     "metadata": {},
     "output_type": "execute_result"
    }
   ],
   "source": [
    "# Findout the confirmed process and the failed one\n",
    "test_unique_id['is_confirmation'].value_counts()"
   ]
  },
  {
   "cell_type": "code",
   "execution_count": 37,
   "id": "a3f37620-d294-4f72-bbc5-c31907f297e7",
   "metadata": {
    "scrolled": true
   },
   "outputs": [
    {
     "data": {
      "text/html": [
       "<div>\n",
       "<style scoped>\n",
       "    .dataframe tbody tr th:only-of-type {\n",
       "        vertical-align: middle;\n",
       "    }\n",
       "\n",
       "    .dataframe tbody tr th {\n",
       "        vertical-align: top;\n",
       "    }\n",
       "\n",
       "    .dataframe thead th {\n",
       "        text-align: right;\n",
       "    }\n",
       "</style>\n",
       "<table border=\"1\" class=\"dataframe\">\n",
       "  <thead>\n",
       "    <tr style=\"text-align: right;\">\n",
       "      <th></th>\n",
       "      <th>client_id</th>\n",
       "      <th>date_time</th>\n",
       "    </tr>\n",
       "  </thead>\n",
       "  <tbody>\n",
       "    <tr>\n",
       "      <th>0</th>\n",
       "      <td>555</td>\n",
       "      <td>4/15/2017 13:00</td>\n",
       "    </tr>\n",
       "    <tr>\n",
       "      <th>5</th>\n",
       "      <td>647</td>\n",
       "      <td>4/12/2017 15:47</td>\n",
       "    </tr>\n",
       "    <tr>\n",
       "      <th>10</th>\n",
       "      <td>934</td>\n",
       "      <td>4/18/2017 2:36</td>\n",
       "    </tr>\n",
       "    <tr>\n",
       "      <th>15</th>\n",
       "      <td>1336</td>\n",
       "      <td>5/8/2017 6:05</td>\n",
       "    </tr>\n",
       "    <tr>\n",
       "      <th>20</th>\n",
       "      <td>1336</td>\n",
       "      <td>5/8/2017 8:23</td>\n",
       "    </tr>\n",
       "  </tbody>\n",
       "</table>\n",
       "</div>"
      ],
      "text/plain": [
       "    client_id        date_time\n",
       "0         555  4/15/2017 13:00\n",
       "5         647  4/12/2017 15:47\n",
       "10        934   4/18/2017 2:36\n",
       "15       1336    5/8/2017 6:05\n",
       "20       1336    5/8/2017 8:23"
      ]
     },
     "execution_count": 37,
     "metadata": {},
     "output_type": "execute_result"
    }
   ],
   "source": [
    "# Here we will extract client_id with the date_time in 5 steps of interval.\n",
    "df_error = test_sorted[['client_id','date_time']]\n",
    "extracted_rows = df_error.iloc[::5]\n",
    "extracted_rows.head()"
   ]
  },
  {
   "cell_type": "code",
   "execution_count": 42,
   "id": "dad9504e-94ef-44a3-b20d-8408817a1428",
   "metadata": {},
   "outputs": [
    {
     "data": {
      "text/html": [
       "<div>\n",
       "<style scoped>\n",
       "    .dataframe tbody tr th:only-of-type {\n",
       "        vertical-align: middle;\n",
       "    }\n",
       "\n",
       "    .dataframe tbody tr th {\n",
       "        vertical-align: top;\n",
       "    }\n",
       "\n",
       "    .dataframe thead th {\n",
       "        text-align: right;\n",
       "    }\n",
       "</style>\n",
       "<table border=\"1\" class=\"dataframe\">\n",
       "  <thead>\n",
       "    <tr style=\"text-align: right;\">\n",
       "      <th></th>\n",
       "      <th>client_id</th>\n",
       "      <th>date_time</th>\n",
       "      <th>num_attempt</th>\n",
       "      <th>num_confirm</th>\n",
       "      <th>is_confirmation</th>\n",
       "    </tr>\n",
       "  </thead>\n",
       "  <tbody>\n",
       "    <tr>\n",
       "      <th>0</th>\n",
       "      <td>555</td>\n",
       "      <td>4/15/2017 13:00</td>\n",
       "      <td>1.0</td>\n",
       "      <td>1</td>\n",
       "      <td>True</td>\n",
       "    </tr>\n",
       "    <tr>\n",
       "      <th>1</th>\n",
       "      <td>647</td>\n",
       "      <td>4/12/2017 15:47</td>\n",
       "      <td>1.0</td>\n",
       "      <td>1</td>\n",
       "      <td>True</td>\n",
       "    </tr>\n",
       "  </tbody>\n",
       "</table>\n",
       "</div>"
      ],
      "text/plain": [
       "   client_id        date_time  num_attempt  num_confirm  is_confirmation\n",
       "0        555  4/15/2017 13:00          1.0            1             True\n",
       "1        647  4/12/2017 15:47          1.0            1             True"
      ]
     },
     "execution_count": 42,
     "metadata": {},
     "output_type": "execute_result"
    }
   ],
   "source": [
    "# Let's merge the dataset\n",
    "df_err_rate = pd.merge(extracted_rows, test_unique_id, on = \"client_id\")\n",
    "df_err_rate.head(2)"
   ]
  },
  {
   "cell_type": "code",
   "execution_count": 44,
   "id": "41cd4cbd-e7d9-4d14-be45-753dff86cb51",
   "metadata": {},
   "outputs": [
    {
     "data": {
      "text/plain": [
       "(35332, 5)"
      ]
     },
     "execution_count": 44,
     "metadata": {},
     "output_type": "execute_result"
    }
   ],
   "source": [
    "df_err_rate.shape"
   ]
  },
  {
   "cell_type": "code",
   "execution_count": 45,
   "id": "4edc61b1-af6a-4ed8-b565-60c74310b3c3",
   "metadata": {},
   "outputs": [
    {
     "data": {
      "text/plain": [
       "is_confirmation\n",
       "True     27067\n",
       "False     8265\n",
       "Name: count, dtype: int64"
      ]
     },
     "execution_count": 45,
     "metadata": {},
     "output_type": "execute_result"
    }
   ],
   "source": [
    "df_err_rate['is_confirmation'].value_counts()"
   ]
  },
  {
   "cell_type": "markdown",
   "id": "6d00d53d-b4ee-411c-80d5-44eb613d71f4",
   "metadata": {},
   "source": [
    "First let us try to find out the error and confirmation rate based on the merged data then with dataset having unique client_id."
   ]
  },
  {
   "cell_type": "code",
   "execution_count": 49,
   "id": "2d46456b-bcf6-4ac1-87e0-188c651f8afc",
   "metadata": {},
   "outputs": [
    {
     "name": "stdout",
     "output_type": "stream",
     "text": [
      "23 || 77\n"
     ]
    }
   ],
   "source": [
    "# With the merged dataset\n",
    "total_submissions = 35332\n",
    "confirmed_submissions = 27067\n",
    "error_submissions = 8265\n",
    "error_rate = round((error_submissions / total_submissions) * 100)\n",
    "confirmation_rate = round((confirmed_submissions / total_submissions) * 100)\n",
    "print(error_rate, \"||\", confirmation_rate )"
   ]
  },
  {
   "cell_type": "code",
   "execution_count": 50,
   "id": "c50839f4-d928-4138-acf0-789c08b93b49",
   "metadata": {},
   "outputs": [
    {
     "name": "stdout",
     "output_type": "stream",
     "text": [
      "31 || 69\n"
     ]
    }
   ],
   "source": [
    "# With the only unique client_id dataframe\n",
    "total_submissions = 26963\n",
    "confirmed_submissions = 18683\n",
    "error_submissions = 8280\n",
    "error_rate = round((error_submissions / total_submissions) * 100)\n",
    "confirmation_rate = round((confirmed_submissions / total_submissions) * 100)\n",
    "print(error_rate, \"||\", confirmation_rate )"
   ]
  },
  {
   "cell_type": "markdown",
   "id": "71b3b8d5-f9b1-4c4f-ab25-dcab105d2c4c",
   "metadata": {},
   "source": [
    "#### Hypothesis testing (verfing our kpi out put statstically)"
   ]
  },
  {
   "cell_type": "code",
   "execution_count": null,
   "id": "11ac98b2-e0fa-4d7c-b38f-885194d3aaa3",
   "metadata": {},
   "outputs": [],
   "source": []
  }
 ],
 "metadata": {
  "kernelspec": {
   "display_name": "Python 3 (ipykernel)",
   "language": "python",
   "name": "python3"
  },
  "language_info": {
   "codemirror_mode": {
    "name": "ipython",
    "version": 3
   },
   "file_extension": ".py",
   "mimetype": "text/x-python",
   "name": "python",
   "nbconvert_exporter": "python",
   "pygments_lexer": "ipython3",
   "version": "3.11.7"
  }
 },
 "nbformat": 4,
 "nbformat_minor": 5
}
